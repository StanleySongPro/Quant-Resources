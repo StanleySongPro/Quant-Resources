{
 "cells": [
  {
   "cell_type": "markdown",
   "metadata": {},
   "source": [
    "# Efficient Frontier in Python"
   ]
  },
  {
   "cell_type": "markdown",
   "metadata": {},
   "source": [
    "## References\n",
    "* [`scipy minimize with constraints`](https://stackoverflow.com/questions/20075714/scipy-minimize-with-constraints)\n",
    "## Steps to implement Modern Portfolio Theory\n",
    "![](mean_variance_optimization.PNG)\n",
    "* 1. Get the maximized Sharpe Ratio Portfolio\n",
    "    * get corresponding return (return_start) and variance\n",
    "* 2. Get the minimized Volatility Portfolio\n",
    "    * get corresponding return (return_end) and variance\n",
    "* 3. For the range of returns (return_start, return_end):\n",
    "    * get corresponding minimized std\n",
    "* 4. Draw the line of (range of returns, minimized stds)"
   ]
  },
  {
   "cell_type": "code",
   "execution_count": 141,
   "metadata": {},
   "outputs": [],
   "source": [
    "import os\n",
    "import datetime as dt\n",
    "import numpy as np\n",
    "import pandas as pd\n",
    "import scipy.optimize as sc\n",
    "\n",
    "# import pandas_datareader as pdr\n",
    "import yfinance as yf\n",
    "\n",
    "import matplotlib.pyplot as plt\n",
    "import plotly.graph_objects as go"
   ]
  },
  {
   "cell_type": "code",
   "execution_count": 155,
   "metadata": {},
   "outputs": [],
   "source": [
    "def get_mean_var(tickers:list, start_date: dt.datetime, end_date = dt.datetime):\n",
    "    df_stocks = yf.download(tickers=tickers, start=start_date, end=end_date)['Close']\n",
    "    returns = df_stocks.pct_change()\n",
    "    mean_returns = returns.mean()\n",
    "    cov_matrix = returns.cov()\n",
    "    return mean_returns, cov_matrix\n",
    "    # return df_stocks\n",
    "\n",
    "def portfolio_performance(weights:np.array, mean_returns:np.array, cov_matrix:np.array):\n",
    "    returns = np.sum(np.dot(weights, mean_returns))*252\n",
    "    std = np.sqrt(np.dot(weights.T, np.dot(cov_matrix, weights))*252)\n",
    "    return returns, std\n",
    "\n",
    "def portfolio_return(weights:np.array, mean_returns:np.array, cov_matrix:np.array):\n",
    "    return portfolio_performance(\n",
    "        weights, mean_returns, cov_matrix)[0]\n",
    "    \n",
    "def portfolio_variance(weights:np.array, mean_returns:np.array, cov_matrix:np.array):\n",
    "    return portfolio_performance(\n",
    "        weights, mean_returns, cov_matrix)[1]\n",
    "\n",
    "def negative_sr(weights, mean_returns, cov_matrix, risk_free_rate = 0):\n",
    "    \"\"\"get the negative sharpe ratio with different combination of weights\n",
    "    \n",
    "    Keyword arguments:\n",
    "    weights -- the first argument is what we need to optimize over later using scipy\n",
    "    \n",
    "    Return: minimized negative sharpe ratio\n",
    "    \"\"\"\n",
    "    pReturns, pStd = portfolio_performance(weights, mean_returns, cov_matrix)\n",
    "    return -(pReturns - risk_free_rate)/pStd\n",
    "\n",
    "def maximize_sr(\n",
    "    mean_returns, \n",
    "    cov_matrix, \n",
    "    risk_free_rate = 0, \n",
    "    # constraint_set = (0, 1)\n",
    "):\n",
    "    \"\"\"minimize the negative sharpe ratio by altering the weights of the portfolio so that we get the maximized sharpe ratio\n",
    "    we want the highest return for a given volatility\n",
    "    \"\"\"\n",
    "    num_assets = len(mean_returns)\n",
    "    args = (mean_returns, cov_matrix, risk_free_rate)\n",
    "    linear_constraint = sc.LinearConstraint(np.ones((num_assets,), dtype=int),1,1)\n",
    "    bounds = sc.Bounds(0, 1)\n",
    "    results = sc.minimize(\n",
    "        negative_sr, \n",
    "        num_assets*[1.0/num_assets], \n",
    "        args = args,\n",
    "        method = 'SLSQP',\n",
    "        bounds = bounds,\n",
    "        constraints = [linear_constraint]\n",
    "    )\n",
    "    return results\n",
    "\n",
    "def minimize_vol(\n",
    "    mean_returns, \n",
    "    cov_matrix,\n",
    "):\n",
    "    \"\"\"minimize the variance by altering the weights of the portfolio\n",
    "    \"\"\"\n",
    "    num_assets = len(mean_returns)\n",
    "    args = (mean_returns, cov_matrix)\n",
    "    linear_constraint = sc.LinearConstraint(np.ones((num_assets,), dtype=int),1,1)\n",
    "    bounds = sc.Bounds(0, 1)\n",
    "    results = sc.minimize(\n",
    "        portfolio_variance, \n",
    "        num_assets*[1.0/num_assets], \n",
    "        args = args,\n",
    "        method = 'SLSQP',\n",
    "        bounds = bounds,\n",
    "        constraints = [linear_constraint]\n",
    "    )\n",
    "    return results\n",
    "\n",
    "def efficient_frontier(mean_returns, cov_matrix, return_target):\n",
    "    \"\"\"for each return_target, we want to optimise the portfolio for min variance\n",
    "    \"\"\"\n",
    "    num_assets = len(mean_returns)\n",
    "    args = (mean_returns, cov_matrix)\n",
    "    linear_constraint_weights = sc.LinearConstraint(\n",
    "        np.ones((num_assets,), dtype=int),1,1\n",
    "    )\n",
    "    linear_constraint_return = {\n",
    "        'type':'eq',\n",
    "        'fun':lambda x:portfolio_return(x, mean_returns, cov_matrix) - return_target\n",
    "    }\n",
    "    bounds = sc.Bounds(0, 1)\n",
    "    results = sc.minimize(\n",
    "        portfolio_variance, \n",
    "        num_assets*[1.0/num_assets], \n",
    "        args = args,\n",
    "        method = 'SLSQP',\n",
    "        bounds = bounds,\n",
    "        constraints = [\n",
    "            linear_constraint_weights, # weights 加起来是1\n",
    "            linear_constraint_return # return必须是给定target return\n",
    "        ]\n",
    "    )\n",
    "    return results\n",
    "\n",
    "def calculated_results(mean_returns, cov_matrix, risk_free_rate = 0):\n",
    "    \"\"\"read in mean, cov matrix, and other financial info\n",
    "    \n",
    "    Return: Max SR, Min Volatility, efficient frontier\n",
    "    \"\"\"\n",
    "    \n",
    "    # maximized portfolio sharpe ratio\n",
    "    max_sr_portfolio = maximize_sr(\n",
    "        mean_returns, cov_matrix, risk_free_rate = risk_free_rate\n",
    "    )\n",
    "    max_sr_returns, max_sr_std = portfolio_performance(\n",
    "        max_sr_portfolio['x'], \n",
    "        mean_returns,\n",
    "        cov_matrix\n",
    "    )\n",
    "    max_sr_allocation = pd.DataFrame(\n",
    "        max_sr_portfolio['x'], \n",
    "        index = mean_returns.index,\n",
    "        columns=[\"allocation\"]\n",
    "    )\n",
    "    \n",
    "    # minimized portfolio variance\n",
    "    min_vol_portfolio = minimize_vol(\n",
    "        mean_returns, cov_matrix\n",
    "    )\n",
    "    min_vol_returns, min_vol_std = portfolio_performance(\n",
    "        min_vol_portfolio['x'], \n",
    "        mean_returns,\n",
    "        cov_matrix\n",
    "    )\n",
    "    min_vol_allocation = pd.DataFrame(\n",
    "        min_vol_portfolio['x'], \n",
    "        index = mean_returns.index,\n",
    "        columns=[\"allocation\"]\n",
    "    )\n",
    "    \n",
    "    # construct the efficient frontier\n",
    "    target_returns = np.linspace(min_vol_returns, max_sr_returns, 20)\n",
    "    # 利用map函数可以进行运算加速\n",
    "    efficient_list = map(\n",
    "        lambda x: efficient_frontier(mean_returns, cov_matrix, x)['fun'], \n",
    "        target_returns\n",
    "    )\n",
    "    return (\n",
    "        max_sr_returns, \n",
    "        max_sr_std, \n",
    "        max_sr_allocation, \n",
    "        min_vol_returns, \n",
    "        min_vol_std, \n",
    "        min_vol_allocation,\n",
    "        target_returns,\n",
    "        efficient_list\n",
    "    )\n",
    "    \n",
    "def efficient_frontier_plot(        \n",
    "    max_sr_returns, \n",
    "    max_sr_std, \n",
    "    min_vol_returns, \n",
    "    min_vol_std, \n",
    "    target_returns,\n",
    "    efficient_list\n",
    "):\n",
    "    # Max Sharpe Ratio\n",
    "    MaxSharpeRatio = go.Scatter(\n",
    "        name = \"Maximum Sharpe Ratio\",\n",
    "        mode = \"markers\",\n",
    "        x = [max_sr_std],\n",
    "        y = [max_sr_returns],\n",
    "        marker = dict(\n",
    "            color = 'red',\n",
    "            size = 14,\n",
    "            line = dict(width=3, color='black')\n",
    "        )\n",
    "    )\n",
    "    \n",
    "    # Min Vol\n",
    "    MinVol = go.Scatter(\n",
    "        name = \"Maximum Volatility\",\n",
    "        mode = \"markers\",\n",
    "        x = [min_vol_std],\n",
    "        y = [min_vol_returns],\n",
    "        marker = dict(\n",
    "            color = 'green',\n",
    "            size = 14,\n",
    "            line = dict(width=3, color='black')\n",
    "        )\n",
    "    )\n",
    "    \n",
    "    # Efficient Frontier\n",
    "    EFF = go.Scatter(\n",
    "        name = \"Efficient Frontier\",\n",
    "        mode = \"lines\",\n",
    "        x = list(efficient_list),\n",
    "        y = target_returns,\n",
    "        marker = dict(\n",
    "            color = 'green',\n",
    "            size = 14,\n",
    "            line = dict(width=3, color='black')\n",
    "        )\n",
    "    )\n",
    "    \n",
    "    data = [MaxSharpeRatio, MinVol, EFF]\n",
    "    layout = go.Layout(\n",
    "        title = 'Portfolio Optimisation with Efficient Frontier',\n",
    "        yaxis = dict(title = 'Annulised Return (%)'),\n",
    "        xaxis = dict(title = 'Annulised Volatility (%)'),\n",
    "        showlegend = True,\n",
    "        legend = dict(\n",
    "            x = 0.75,\n",
    "            y = 0,\n",
    "            traceorder = 'normal',\n",
    "            bgcolor = '#E2E2E2',\n",
    "            bordercolor = 'black',\n",
    "            borderwidth = 2\n",
    "        ),\n",
    "        width = 800,\n",
    "        height = 600,\n",
    "    )\n",
    "    \n",
    "    fig = go.Figure(data = data, layout = layout)\n",
    "    \n",
    "    return fig.show()"
   ]
  },
  {
   "cell_type": "code",
   "execution_count": 150,
   "metadata": {},
   "outputs": [],
   "source": [
    "tickers = [\"TSLA\", \"NVDA\", \"TQQQ\", \"TNA\", \"ARKK\", \"PDD\", \"META\", \"ISRG\"]\n",
    "# tickers = [\"BABA\", \"DIS\", \"SE\"]\n",
    "start_date = dt.datetime(2015, 1, 1)\n",
    "end_date = dt.datetime.now()"
   ]
  },
  {
   "cell_type": "code",
   "execution_count": 156,
   "metadata": {},
   "outputs": [
    {
     "name": "stdout",
     "output_type": "stream",
     "text": [
      "[*********************100%%**********************]  8 of 8 completed\n"
     ]
    }
   ],
   "source": [
    "mean_returns, cov_matrix = get_mean_var(\n",
    "    tickers=tickers, \n",
    "    start_date=start_date,\n",
    "    end_date=end_date\n",
    ")"
   ]
  },
  {
   "cell_type": "code",
   "execution_count": 157,
   "metadata": {},
   "outputs": [],
   "source": [
    "# mean_returns\n",
    "# efficient_frontier(mean_returns, cov_matrix, 0.01)"
   ]
  },
  {
   "cell_type": "code",
   "execution_count": 158,
   "metadata": {},
   "outputs": [],
   "source": [
    "(\n",
    "    max_sr_returns, \n",
    "    max_sr_std, \n",
    "    max_sr_allocation, \n",
    "    min_vol_returns, \n",
    "    min_vol_std, \n",
    "    min_vol_allocation,\n",
    "    target_returns,\n",
    "    efficient_list\n",
    ") = calculated_results(mean_returns, cov_matrix, risk_free_rate = 0)"
   ]
  },
  {
   "cell_type": "code",
   "execution_count": 159,
   "metadata": {},
   "outputs": [],
   "source": [
    "# list(efficient_list)"
   ]
  },
  {
   "cell_type": "code",
   "execution_count": 160,
   "metadata": {},
   "outputs": [
    {
     "data": {
      "application/vnd.plotly.v1+json": {
       "config": {
        "plotlyServerURL": "https://plot.ly"
       },
       "data": [
        {
         "marker": {
          "color": "red",
          "line": {
           "color": "black",
           "width": 3
          },
          "size": 14
         },
         "mode": "markers",
         "name": "Maximum Sharpe Ratio",
         "type": "scatter",
         "x": [
          0.43832959565944785
         ],
         "y": [
          0.5969427183508363
         ]
        },
        {
         "marker": {
          "color": "green",
          "line": {
           "color": "black",
           "width": 3
          },
          "size": 14
         },
         "mode": "markers",
         "name": "Maximum Volatility",
         "type": "scatter",
         "x": [
          0.2874538438803623
         ],
         "y": [
          0.22847478563694068
         ]
        },
        {
         "marker": {
          "color": "green",
          "line": {
           "color": "black",
           "width": 3
          },
          "size": 14
         },
         "mode": "lines",
         "name": "Efficient Frontier",
         "type": "scatter",
         "x": [
          0.2874545171809173,
          0.288051020439081,
          0.2893136060135443,
          0.29128831920300624,
          0.29434014515433826,
          0.2984486891805847,
          0.303570838434662,
          0.3096564775461309,
          0.31664991554954397,
          0.32449253456452554,
          0.33312418489076445,
          0.34248530900383856,
          0.3525179388217122,
          0.36316633059096964,
          0.374378182946761,
          0.3861035412033104,
          0.3983634883489488,
          0.4111878558001325,
          0.4245248387275994,
          0.4383295956720811
         ],
         "y": [
          0.22847478563694068,
          0.2478678347271457,
          0.26726088381735075,
          0.2866539329075558,
          0.3060469819977608,
          0.3254400310879658,
          0.3448330801781709,
          0.36422612926837594,
          0.38361917835858095,
          0.40301222744878595,
          0.422405276538991,
          0.4417983256291961,
          0.4611913747194011,
          0.4805844238096061,
          0.49997747289981115,
          0.5193705219900162,
          0.5387635710802212,
          0.5581566201704262,
          0.5775496692606312,
          0.5969427183508363
         ]
        }
       ],
       "layout": {
        "height": 600,
        "legend": {
         "bgcolor": "#E2E2E2",
         "bordercolor": "black",
         "borderwidth": 2,
         "traceorder": "normal",
         "x": 0.75,
         "y": 0
        },
        "showlegend": true,
        "template": {
         "data": {
          "bar": [
           {
            "error_x": {
             "color": "#2a3f5f"
            },
            "error_y": {
             "color": "#2a3f5f"
            },
            "marker": {
             "line": {
              "color": "#E5ECF6",
              "width": 0.5
             },
             "pattern": {
              "fillmode": "overlay",
              "size": 10,
              "solidity": 0.2
             }
            },
            "type": "bar"
           }
          ],
          "barpolar": [
           {
            "marker": {
             "line": {
              "color": "#E5ECF6",
              "width": 0.5
             },
             "pattern": {
              "fillmode": "overlay",
              "size": 10,
              "solidity": 0.2
             }
            },
            "type": "barpolar"
           }
          ],
          "carpet": [
           {
            "aaxis": {
             "endlinecolor": "#2a3f5f",
             "gridcolor": "white",
             "linecolor": "white",
             "minorgridcolor": "white",
             "startlinecolor": "#2a3f5f"
            },
            "baxis": {
             "endlinecolor": "#2a3f5f",
             "gridcolor": "white",
             "linecolor": "white",
             "minorgridcolor": "white",
             "startlinecolor": "#2a3f5f"
            },
            "type": "carpet"
           }
          ],
          "choropleth": [
           {
            "colorbar": {
             "outlinewidth": 0,
             "ticks": ""
            },
            "type": "choropleth"
           }
          ],
          "contour": [
           {
            "colorbar": {
             "outlinewidth": 0,
             "ticks": ""
            },
            "colorscale": [
             [
              0,
              "#0d0887"
             ],
             [
              0.1111111111111111,
              "#46039f"
             ],
             [
              0.2222222222222222,
              "#7201a8"
             ],
             [
              0.3333333333333333,
              "#9c179e"
             ],
             [
              0.4444444444444444,
              "#bd3786"
             ],
             [
              0.5555555555555556,
              "#d8576b"
             ],
             [
              0.6666666666666666,
              "#ed7953"
             ],
             [
              0.7777777777777778,
              "#fb9f3a"
             ],
             [
              0.8888888888888888,
              "#fdca26"
             ],
             [
              1,
              "#f0f921"
             ]
            ],
            "type": "contour"
           }
          ],
          "contourcarpet": [
           {
            "colorbar": {
             "outlinewidth": 0,
             "ticks": ""
            },
            "type": "contourcarpet"
           }
          ],
          "heatmap": [
           {
            "colorbar": {
             "outlinewidth": 0,
             "ticks": ""
            },
            "colorscale": [
             [
              0,
              "#0d0887"
             ],
             [
              0.1111111111111111,
              "#46039f"
             ],
             [
              0.2222222222222222,
              "#7201a8"
             ],
             [
              0.3333333333333333,
              "#9c179e"
             ],
             [
              0.4444444444444444,
              "#bd3786"
             ],
             [
              0.5555555555555556,
              "#d8576b"
             ],
             [
              0.6666666666666666,
              "#ed7953"
             ],
             [
              0.7777777777777778,
              "#fb9f3a"
             ],
             [
              0.8888888888888888,
              "#fdca26"
             ],
             [
              1,
              "#f0f921"
             ]
            ],
            "type": "heatmap"
           }
          ],
          "heatmapgl": [
           {
            "colorbar": {
             "outlinewidth": 0,
             "ticks": ""
            },
            "colorscale": [
             [
              0,
              "#0d0887"
             ],
             [
              0.1111111111111111,
              "#46039f"
             ],
             [
              0.2222222222222222,
              "#7201a8"
             ],
             [
              0.3333333333333333,
              "#9c179e"
             ],
             [
              0.4444444444444444,
              "#bd3786"
             ],
             [
              0.5555555555555556,
              "#d8576b"
             ],
             [
              0.6666666666666666,
              "#ed7953"
             ],
             [
              0.7777777777777778,
              "#fb9f3a"
             ],
             [
              0.8888888888888888,
              "#fdca26"
             ],
             [
              1,
              "#f0f921"
             ]
            ],
            "type": "heatmapgl"
           }
          ],
          "histogram": [
           {
            "marker": {
             "pattern": {
              "fillmode": "overlay",
              "size": 10,
              "solidity": 0.2
             }
            },
            "type": "histogram"
           }
          ],
          "histogram2d": [
           {
            "colorbar": {
             "outlinewidth": 0,
             "ticks": ""
            },
            "colorscale": [
             [
              0,
              "#0d0887"
             ],
             [
              0.1111111111111111,
              "#46039f"
             ],
             [
              0.2222222222222222,
              "#7201a8"
             ],
             [
              0.3333333333333333,
              "#9c179e"
             ],
             [
              0.4444444444444444,
              "#bd3786"
             ],
             [
              0.5555555555555556,
              "#d8576b"
             ],
             [
              0.6666666666666666,
              "#ed7953"
             ],
             [
              0.7777777777777778,
              "#fb9f3a"
             ],
             [
              0.8888888888888888,
              "#fdca26"
             ],
             [
              1,
              "#f0f921"
             ]
            ],
            "type": "histogram2d"
           }
          ],
          "histogram2dcontour": [
           {
            "colorbar": {
             "outlinewidth": 0,
             "ticks": ""
            },
            "colorscale": [
             [
              0,
              "#0d0887"
             ],
             [
              0.1111111111111111,
              "#46039f"
             ],
             [
              0.2222222222222222,
              "#7201a8"
             ],
             [
              0.3333333333333333,
              "#9c179e"
             ],
             [
              0.4444444444444444,
              "#bd3786"
             ],
             [
              0.5555555555555556,
              "#d8576b"
             ],
             [
              0.6666666666666666,
              "#ed7953"
             ],
             [
              0.7777777777777778,
              "#fb9f3a"
             ],
             [
              0.8888888888888888,
              "#fdca26"
             ],
             [
              1,
              "#f0f921"
             ]
            ],
            "type": "histogram2dcontour"
           }
          ],
          "mesh3d": [
           {
            "colorbar": {
             "outlinewidth": 0,
             "ticks": ""
            },
            "type": "mesh3d"
           }
          ],
          "parcoords": [
           {
            "line": {
             "colorbar": {
              "outlinewidth": 0,
              "ticks": ""
             }
            },
            "type": "parcoords"
           }
          ],
          "pie": [
           {
            "automargin": true,
            "type": "pie"
           }
          ],
          "scatter": [
           {
            "fillpattern": {
             "fillmode": "overlay",
             "size": 10,
             "solidity": 0.2
            },
            "type": "scatter"
           }
          ],
          "scatter3d": [
           {
            "line": {
             "colorbar": {
              "outlinewidth": 0,
              "ticks": ""
             }
            },
            "marker": {
             "colorbar": {
              "outlinewidth": 0,
              "ticks": ""
             }
            },
            "type": "scatter3d"
           }
          ],
          "scattercarpet": [
           {
            "marker": {
             "colorbar": {
              "outlinewidth": 0,
              "ticks": ""
             }
            },
            "type": "scattercarpet"
           }
          ],
          "scattergeo": [
           {
            "marker": {
             "colorbar": {
              "outlinewidth": 0,
              "ticks": ""
             }
            },
            "type": "scattergeo"
           }
          ],
          "scattergl": [
           {
            "marker": {
             "colorbar": {
              "outlinewidth": 0,
              "ticks": ""
             }
            },
            "type": "scattergl"
           }
          ],
          "scattermapbox": [
           {
            "marker": {
             "colorbar": {
              "outlinewidth": 0,
              "ticks": ""
             }
            },
            "type": "scattermapbox"
           }
          ],
          "scatterpolar": [
           {
            "marker": {
             "colorbar": {
              "outlinewidth": 0,
              "ticks": ""
             }
            },
            "type": "scatterpolar"
           }
          ],
          "scatterpolargl": [
           {
            "marker": {
             "colorbar": {
              "outlinewidth": 0,
              "ticks": ""
             }
            },
            "type": "scatterpolargl"
           }
          ],
          "scatterternary": [
           {
            "marker": {
             "colorbar": {
              "outlinewidth": 0,
              "ticks": ""
             }
            },
            "type": "scatterternary"
           }
          ],
          "surface": [
           {
            "colorbar": {
             "outlinewidth": 0,
             "ticks": ""
            },
            "colorscale": [
             [
              0,
              "#0d0887"
             ],
             [
              0.1111111111111111,
              "#46039f"
             ],
             [
              0.2222222222222222,
              "#7201a8"
             ],
             [
              0.3333333333333333,
              "#9c179e"
             ],
             [
              0.4444444444444444,
              "#bd3786"
             ],
             [
              0.5555555555555556,
              "#d8576b"
             ],
             [
              0.6666666666666666,
              "#ed7953"
             ],
             [
              0.7777777777777778,
              "#fb9f3a"
             ],
             [
              0.8888888888888888,
              "#fdca26"
             ],
             [
              1,
              "#f0f921"
             ]
            ],
            "type": "surface"
           }
          ],
          "table": [
           {
            "cells": {
             "fill": {
              "color": "#EBF0F8"
             },
             "line": {
              "color": "white"
             }
            },
            "header": {
             "fill": {
              "color": "#C8D4E3"
             },
             "line": {
              "color": "white"
             }
            },
            "type": "table"
           }
          ]
         },
         "layout": {
          "annotationdefaults": {
           "arrowcolor": "#2a3f5f",
           "arrowhead": 0,
           "arrowwidth": 1
          },
          "autotypenumbers": "strict",
          "coloraxis": {
           "colorbar": {
            "outlinewidth": 0,
            "ticks": ""
           }
          },
          "colorscale": {
           "diverging": [
            [
             0,
             "#8e0152"
            ],
            [
             0.1,
             "#c51b7d"
            ],
            [
             0.2,
             "#de77ae"
            ],
            [
             0.3,
             "#f1b6da"
            ],
            [
             0.4,
             "#fde0ef"
            ],
            [
             0.5,
             "#f7f7f7"
            ],
            [
             0.6,
             "#e6f5d0"
            ],
            [
             0.7,
             "#b8e186"
            ],
            [
             0.8,
             "#7fbc41"
            ],
            [
             0.9,
             "#4d9221"
            ],
            [
             1,
             "#276419"
            ]
           ],
           "sequential": [
            [
             0,
             "#0d0887"
            ],
            [
             0.1111111111111111,
             "#46039f"
            ],
            [
             0.2222222222222222,
             "#7201a8"
            ],
            [
             0.3333333333333333,
             "#9c179e"
            ],
            [
             0.4444444444444444,
             "#bd3786"
            ],
            [
             0.5555555555555556,
             "#d8576b"
            ],
            [
             0.6666666666666666,
             "#ed7953"
            ],
            [
             0.7777777777777778,
             "#fb9f3a"
            ],
            [
             0.8888888888888888,
             "#fdca26"
            ],
            [
             1,
             "#f0f921"
            ]
           ],
           "sequentialminus": [
            [
             0,
             "#0d0887"
            ],
            [
             0.1111111111111111,
             "#46039f"
            ],
            [
             0.2222222222222222,
             "#7201a8"
            ],
            [
             0.3333333333333333,
             "#9c179e"
            ],
            [
             0.4444444444444444,
             "#bd3786"
            ],
            [
             0.5555555555555556,
             "#d8576b"
            ],
            [
             0.6666666666666666,
             "#ed7953"
            ],
            [
             0.7777777777777778,
             "#fb9f3a"
            ],
            [
             0.8888888888888888,
             "#fdca26"
            ],
            [
             1,
             "#f0f921"
            ]
           ]
          },
          "colorway": [
           "#636efa",
           "#EF553B",
           "#00cc96",
           "#ab63fa",
           "#FFA15A",
           "#19d3f3",
           "#FF6692",
           "#B6E880",
           "#FF97FF",
           "#FECB52"
          ],
          "font": {
           "color": "#2a3f5f"
          },
          "geo": {
           "bgcolor": "white",
           "lakecolor": "white",
           "landcolor": "#E5ECF6",
           "showlakes": true,
           "showland": true,
           "subunitcolor": "white"
          },
          "hoverlabel": {
           "align": "left"
          },
          "hovermode": "closest",
          "mapbox": {
           "style": "light"
          },
          "paper_bgcolor": "white",
          "plot_bgcolor": "#E5ECF6",
          "polar": {
           "angularaxis": {
            "gridcolor": "white",
            "linecolor": "white",
            "ticks": ""
           },
           "bgcolor": "#E5ECF6",
           "radialaxis": {
            "gridcolor": "white",
            "linecolor": "white",
            "ticks": ""
           }
          },
          "scene": {
           "xaxis": {
            "backgroundcolor": "#E5ECF6",
            "gridcolor": "white",
            "gridwidth": 2,
            "linecolor": "white",
            "showbackground": true,
            "ticks": "",
            "zerolinecolor": "white"
           },
           "yaxis": {
            "backgroundcolor": "#E5ECF6",
            "gridcolor": "white",
            "gridwidth": 2,
            "linecolor": "white",
            "showbackground": true,
            "ticks": "",
            "zerolinecolor": "white"
           },
           "zaxis": {
            "backgroundcolor": "#E5ECF6",
            "gridcolor": "white",
            "gridwidth": 2,
            "linecolor": "white",
            "showbackground": true,
            "ticks": "",
            "zerolinecolor": "white"
           }
          },
          "shapedefaults": {
           "line": {
            "color": "#2a3f5f"
           }
          },
          "ternary": {
           "aaxis": {
            "gridcolor": "white",
            "linecolor": "white",
            "ticks": ""
           },
           "baxis": {
            "gridcolor": "white",
            "linecolor": "white",
            "ticks": ""
           },
           "bgcolor": "#E5ECF6",
           "caxis": {
            "gridcolor": "white",
            "linecolor": "white",
            "ticks": ""
           }
          },
          "title": {
           "x": 0.05
          },
          "xaxis": {
           "automargin": true,
           "gridcolor": "white",
           "linecolor": "white",
           "ticks": "",
           "title": {
            "standoff": 15
           },
           "zerolinecolor": "white",
           "zerolinewidth": 2
          },
          "yaxis": {
           "automargin": true,
           "gridcolor": "white",
           "linecolor": "white",
           "ticks": "",
           "title": {
            "standoff": 15
           },
           "zerolinecolor": "white",
           "zerolinewidth": 2
          }
         }
        },
        "title": {
         "text": "Portfolio Optimisation with Efficient Frontier"
        },
        "width": 800,
        "xaxis": {
         "title": {
          "text": "Annulised Volatility (%)"
         }
        },
        "yaxis": {
         "title": {
          "text": "Annulised Return (%)"
         }
        }
       }
      }
     },
     "metadata": {},
     "output_type": "display_data"
    }
   ],
   "source": [
    "efficient_frontier_plot(        \n",
    "    max_sr_returns, \n",
    "    max_sr_std, \n",
    "    min_vol_returns, \n",
    "    min_vol_std, \n",
    "    target_returns,\n",
    "    efficient_list\n",
    ")"
   ]
  },
  {
   "cell_type": "code",
   "execution_count": 162,
   "metadata": {},
   "outputs": [
    {
     "data": {
      "text/html": [
       "<div>\n",
       "<style scoped>\n",
       "    .dataframe tbody tr th:only-of-type {\n",
       "        vertical-align: middle;\n",
       "    }\n",
       "\n",
       "    .dataframe tbody tr th {\n",
       "        vertical-align: top;\n",
       "    }\n",
       "\n",
       "    .dataframe thead th {\n",
       "        text-align: right;\n",
       "    }\n",
       "</style>\n",
       "<table border=\"1\" class=\"dataframe\">\n",
       "  <thead>\n",
       "    <tr style=\"text-align: right;\">\n",
       "      <th></th>\n",
       "      <th>allocation</th>\n",
       "    </tr>\n",
       "  </thead>\n",
       "  <tbody>\n",
       "    <tr>\n",
       "      <th>ARKK</th>\n",
       "      <td>0.00</td>\n",
       "    </tr>\n",
       "    <tr>\n",
       "      <th>ISRG</th>\n",
       "      <td>0.00</td>\n",
       "    </tr>\n",
       "    <tr>\n",
       "      <th>META</th>\n",
       "      <td>0.00</td>\n",
       "    </tr>\n",
       "    <tr>\n",
       "      <th>NVDA</th>\n",
       "      <td>71.74</td>\n",
       "    </tr>\n",
       "    <tr>\n",
       "      <th>PDD</th>\n",
       "      <td>10.22</td>\n",
       "    </tr>\n",
       "    <tr>\n",
       "      <th>TNA</th>\n",
       "      <td>0.00</td>\n",
       "    </tr>\n",
       "    <tr>\n",
       "      <th>TQQQ</th>\n",
       "      <td>0.00</td>\n",
       "    </tr>\n",
       "    <tr>\n",
       "      <th>TSLA</th>\n",
       "      <td>18.04</td>\n",
       "    </tr>\n",
       "  </tbody>\n",
       "</table>\n",
       "</div>"
      ],
      "text/plain": [
       "      allocation\n",
       "ARKK        0.00\n",
       "ISRG        0.00\n",
       "META        0.00\n",
       "NVDA       71.74\n",
       "PDD        10.22\n",
       "TNA         0.00\n",
       "TQQQ        0.00\n",
       "TSLA       18.04"
      ]
     },
     "execution_count": 162,
     "metadata": {},
     "output_type": "execute_result"
    }
   ],
   "source": [
    "max_sr_allocation.apply(lambda x: round(x*100, 2))"
   ]
  },
  {
   "cell_type": "code",
   "execution_count": null,
   "metadata": {},
   "outputs": [],
   "source": []
  }
 ],
 "metadata": {
  "kernelspec": {
   "display_name": "m1quant",
   "language": "python",
   "name": "python3"
  },
  "language_info": {
   "codemirror_mode": {
    "name": "ipython",
    "version": 3
   },
   "file_extension": ".py",
   "mimetype": "text/x-python",
   "name": "python",
   "nbconvert_exporter": "python",
   "pygments_lexer": "ipython3",
   "version": "3.11.5"
  },
  "orig_nbformat": 4
 },
 "nbformat": 4,
 "nbformat_minor": 2
}
