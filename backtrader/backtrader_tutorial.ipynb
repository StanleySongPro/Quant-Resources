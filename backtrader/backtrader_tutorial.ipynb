{
 "cells": [
  {
   "cell_type": "markdown",
   "id": "19bfd69a",
   "metadata": {},
   "source": [
    "# Reference\n",
    "* [`【手把手教你】入门量化回测最强神器backtrader（一）`](https://zhuanlan.zhihu.com/p/122183963)\n",
    "\n",
    "* [`Backtrader for Backtesting (Python) – A Complete Guide`](https://algotrading101.com/learn/backtrader-for-backtesting/)"
   ]
  },
  {
   "cell_type": "code",
   "execution_count": 1,
   "id": "fb38fde2",
   "metadata": {},
   "outputs": [
    {
     "data": {
      "text/plain": [
       "'3.10.8'"
      ]
     },
     "execution_count": 1,
     "metadata": {},
     "output_type": "execute_result"
    }
   ],
   "source": [
    "# !pip install autopep8\n",
    "# !conda info\n",
    "import platform\n",
    "platform.python_version()"
   ]
  },
  {
   "cell_type": "code",
   "execution_count": 2,
   "id": "ad874ffa",
   "metadata": {},
   "outputs": [],
   "source": [
    "%load_ext autoreload\n",
    "%autoreload 2"
   ]
  },
  {
   "cell_type": "markdown",
   "id": "f664c643",
   "metadata": {},
   "source": [
    "# 【手把手教你】入门量化回测最强神器backtrader（一）\n",
    "\n",
    "## 引言\n",
    "目前基于Python的量化回测框架有很多，开源框架有zipline、vnpy、pyalgotrader和backtrader等，而量化平台有Quantopian（国外）、聚宽、万矿、优矿、米筐、掘金等，这些量化框架或平台各有优劣。就个人而言，比较偏好用backtrader，因为它功能十分完善，有完整的使用文档，安装相对简单（直接pip安装即可）。优点是运行速度快，支持pandas的矢量运算；支持参数自动寻优运算，内置了talib股票分析技术指标库；支持多品种、多策略、多周期的回测和交易；支持pyflio、empyrica分析模块库、alphalens多因子分析模块库等；扩展灵活，可以集成TensorFlow、PyTorch和Keras等机器学习、神经网络分析模块。而不足之处在于，backtrader学习起来相对复杂，编程过程中使用了大量的元编程（类class），如果Python编程基础不扎实（尤其是类的操作），学起来会感到吃力。本文作为backtrader的入门系列之一，对其运行框架进行简要介绍，并以实际案例展示量化回测的过程。"
   ]
  },
  {
   "cell_type": "markdown",
   "id": "29d1d5d7",
   "metadata": {},
   "source": [
    "## backtrader简介\n",
    "如果将backtrader包分解为核心组件，主要包括以下组成部分：\n",
    "* （1）数据加载（Data Feed）：将交易策略的数据加载到回测框架中。\n",
    "* （2）交易策略（Strategy）：该模块是编程过程中最复杂的部分，需要设计交易决策，得出买入/卖出信号。\n",
    "* （3）回测框架设置（ Cerebro）：需要设置（i）初始资金（ii）佣金（iii）数据馈送（iv）交易策略（v）交易头寸大小。\n",
    "* （4）运行回测：运行Cerebro回测并打印出所有已执行的交易。\n",
    "* （5）评估性能（Analyzers）:以图形和风险收益等指标对交易策略的回测结果进行评价。\n",
    "\n",
    "“Lines”是backtrader回测的数据，由一系列的点组成，通常包括以下类别的数据：Open（开盘价）, High（最高价）, Low（最低价）, Close（收盘价）, Volume（成交量）, OpenInterest（无的话设置为0）。Data Feeds（数据加载）、Indicators（技术指标）和Strategies（策略）都会生成 Lines。价格数据中的所有”Open” (开盘价)按时间组成一条 Line。所以，一组含有以上6个类别的价格数据，共有6条 Lines。如果算上“DateTime”（时间，可以看作是一组数据的主键），一共有7条 Lines。当访问一条 Line 的数据时，会默认指向下标为 0 的数据。最后一个数据通过下标 -1 来访问，在-1之后是索引0，用于访问当前时刻。因此，在回测过程中，无需知道已经处理了多少条/分钟/天/月，”0”一直指向当前值，下标 -1 来访问最后一个值。\n",
    "\n",
    "![](https://pic2.zhimg.com/v2-b722f3bcc2663b3521530a22b9bd5fd9_r.jpg)"
   ]
  },
  {
   "cell_type": "markdown",
   "id": "b19bedb2",
   "metadata": {},
   "source": [
    "## 回测应用实例\n",
    "量化回测说白了是使用历史数据去验证交易策略的性能，因此回测的第一步是搭建交易策略，这也是backtrader要设置的最重要和复杂的部分，策略设定好后，其余部分的代码编写是手到擒来。\n",
    "\n",
    "### 01构建策略（Strategy）\n",
    "交易策略类代码包含重要的参数和用于执行策略的功能，要定义的参数或函数名如下：\n",
    "* （1）params-全局参数，可选：更改交易策略中变量/参数的值，可用于参数调优。\n",
    "\n",
    "* （2）log：日志，可选：记录策略的执行日志，可以打印出该函数提供的日期时间和txt变量。\n",
    "\n",
    "* （3） __init__：用于初始化交易策略的类实例的代码。\n",
    "\n",
    "* （4）notify_order，可选：跟踪交易指令（order）的状态。order具有提交，接受，买入/卖出执行和价格，已取消/拒绝等状态。\n",
    "\n",
    "* （5）notify_trade，可选：跟踪交易的状态，任何已平仓的交易都将报告毛利和净利润。\n",
    "\n",
    "* （6）next，必选：制定交易策略的函数，策略模块最核心的部分。\n",
    "\n",
    "下面以一个简单的单均线策略为例，展示backtrader的使用过程，即**当收盘价上涨突破20日均线买入（做多），当收盘价下跌跌穿20日均线卖出（做空）**。为简单起见，不报告交易回测的日志，因此log、notify_order和notify_trade函数省略不写。"
   ]
  },
  {
   "cell_type": "markdown",
   "id": "92558b8a",
   "metadata": {},
   "source": [
    "# Backtrader for Backtesting (Python) – A Complete Guide\n",
    "\n",
    "## Why should I learn Backtrader?\n",
    "* `Backtesting` - This might seem like an obvious one but Backtrader removes the tedious process of cleaning up your data and iterating through it to test strategies. It has built-in templates to use for various data sources to make importing data easier.\n",
    "* `Optimizing` - Adjusting a few parameters can sometimes be the difference between a profitable strategy and an unprofitable one. After running a backtest, optimizing is easily done by changing a few lines of code.\n",
    "* `Plotting` – If you’ve worked with a few Python plotting libraries, you’ll know these are not always easy to configure, especially the first time around. A complex chart can be created with a single line of code.\n",
    "* `Indicators` – Most of the popular indicators are already programmed in the Backtrader platform. This is especially useful if you want to test out an indicator but you’re not sure how effective it will be. Rather than trying to figure out the math behind the indicator, and how to code it, you can test it out first in Backtrader, probably with one line of code.\n",
    "* `Support for Complex Strategies` – Want to take a signal from one dataset and execute a trade on another? Does your strategy involve multiple timeframes? Or do you need to resample data? Backtrader has accounted for the various ways traders approach the markets and has extensive support.\n",
    "* `Open Source`\n",
    "* `Active Development`– This might be one area where Backtrader especially stands out. The framework was originally developed in 2015 and constant improvements have been made since then. Just a few weeks ago, a pandas-based technical analysis library was released to address issues in the popular and commonly used TA-Lib framework. Further, with a wide user base, there is also active third-party development.\n",
    "* `Live Trading` – If you’re happy with your backtesting results, it is easy to migrate to a live environment within Backtrader. This is especially useful if you plan to use the built-in indicators offered by the platform.\n",
    "\n",
    "## Choosing which IDE to use with Backtrader\n",
    "While it is possible to use interactive IDE’s for some functionality in Backtrader, it is not recommended. There are certain functions, such as optimization, that require multiprocessing which does not work well with interactive IDE’s."
   ]
  },
  {
   "cell_type": "code",
   "execution_count": 53,
   "id": "e799f5ba",
   "metadata": {},
   "outputs": [],
   "source": [
    "import os\n",
    "import numpy as np\n",
    "import pandas as pd\n",
    "import yfinance as yf\n",
    "import backtrader as bt\n",
    "import matplotlib\n",
    "import matplotlib.pyplot as plt\n",
    "import seaborn as sns\n",
    "sns.set_theme()\n",
    "\n",
    "# plt.style.use('seaborn')"
   ]
  },
  {
   "cell_type": "code",
   "execution_count": 54,
   "id": "0b293b83",
   "metadata": {},
   "outputs": [
    {
     "name": "stdout",
     "output_type": "stream",
     "text": [
      "3.7.1\n",
      "1.24.2\n",
      "2.0.0\n",
      "1.9.76.123\n"
     ]
    }
   ],
   "source": [
    "print(matplotlib.__version__)\n",
    "print(np.__version__)\n",
    "print(pd.__version__)\n",
    "print(bt.__version__)"
   ]
  },
  {
   "cell_type": "markdown",
   "id": "7276afc3",
   "metadata": {},
   "source": [
    "## How to configure the basic Backtrader setup\n",
    "There are two main components to setting up your basic Backtrader script. \n",
    "* The strategy class\n",
    "* the cerebro engine"
   ]
  },
  {
   "cell_type": "code",
   "execution_count": 55,
   "id": "fa61c388",
   "metadata": {},
   "outputs": [
    {
     "data": {
      "text/plain": [
       "[]"
      ]
     },
     "execution_count": 55,
     "metadata": {},
     "output_type": "execute_result"
    }
   ],
   "source": [
    "class MyStrategy(bt.Strategy):\n",
    "    def next(self):\n",
    "        pass #Do something\n",
    "\n",
    "#Instantiate Cerebro engine\n",
    "cerebro = bt.Cerebro()\n",
    "\n",
    "#Add strategy to Cerebro\n",
    "cerebro.addstrategy(MyStrategy)\n",
    "\n",
    "#Run Cerebro Engine\n",
    "cerebro.run()"
   ]
  },
  {
   "cell_type": "markdown",
   "id": "ca597053",
   "metadata": {},
   "source": [
    "We will go into the strategy class in more detail in the examples that follow. This is where all the logic goes in determining and executing your trade signals. It is also where indicators can be created or called, and where you can determine what get’s logged or printed to screen.\n",
    "\n",
    "The cerebro engine is the core of Backtrader. This is the main class and we will add our data and strategies to it before eventually calling the `cerebro.run()` command."
   ]
  },
  {
   "cell_type": "markdown",
   "id": "5880bc90",
   "metadata": {},
   "source": [
    "## How to get data and import it into Backtrader"
   ]
  },
  {
   "cell_type": "code",
   "execution_count": 31,
   "id": "37dfdf42",
   "metadata": {},
   "outputs": [],
   "source": [
    "TSLA = yf.Ticker(\n",
    "    \"TSLA\",\n",
    "#     start='2020-01-01',\n",
    "#     end='2023-03-26',\n",
    ")"
   ]
  },
  {
   "cell_type": "code",
   "execution_count": 32,
   "id": "52f92aa9",
   "metadata": {},
   "outputs": [],
   "source": [
    "hist_tsla = TSLA.history(period=\"5y\")"
   ]
  },
  {
   "cell_type": "code",
   "execution_count": 33,
   "id": "2c8c57ec",
   "metadata": {},
   "outputs": [],
   "source": [
    "hist_tsla.to_csv(\n",
    "    os.path.join('data', 'tsla_5y.csv')\n",
    ")"
   ]
  },
  {
   "cell_type": "code",
   "execution_count": 46,
   "id": "a5d79041",
   "metadata": {
    "scrolled": true
   },
   "outputs": [
    {
     "data": {
      "text/html": [
       "<div>\n",
       "<style scoped>\n",
       "    .dataframe tbody tr th:only-of-type {\n",
       "        vertical-align: middle;\n",
       "    }\n",
       "\n",
       "    .dataframe tbody tr th {\n",
       "        vertical-align: top;\n",
       "    }\n",
       "\n",
       "    .dataframe thead th {\n",
       "        text-align: right;\n",
       "    }\n",
       "</style>\n",
       "<table border=\"1\" class=\"dataframe\">\n",
       "  <thead>\n",
       "    <tr style=\"text-align: right;\">\n",
       "      <th></th>\n",
       "      <th>Open</th>\n",
       "      <th>High</th>\n",
       "      <th>Low</th>\n",
       "      <th>Close</th>\n",
       "      <th>Volume</th>\n",
       "      <th>Dividends</th>\n",
       "      <th>Stock Splits</th>\n",
       "    </tr>\n",
       "    <tr>\n",
       "      <th>Date</th>\n",
       "      <th></th>\n",
       "      <th></th>\n",
       "      <th></th>\n",
       "      <th></th>\n",
       "      <th></th>\n",
       "      <th></th>\n",
       "      <th></th>\n",
       "    </tr>\n",
       "  </thead>\n",
       "  <tbody>\n",
       "    <tr>\n",
       "      <th>2018-04-09 00:00:00-04:00</th>\n",
       "      <td>20.024668</td>\n",
       "      <td>20.633333</td>\n",
       "      <td>19.280666</td>\n",
       "      <td>19.310667</td>\n",
       "      <td>153747000</td>\n",
       "      <td>0.0</td>\n",
       "      <td>0.0</td>\n",
       "    </tr>\n",
       "    <tr>\n",
       "      <th>2018-04-10 00:00:00-04:00</th>\n",
       "      <td>19.931334</td>\n",
       "      <td>20.473333</td>\n",
       "      <td>19.578667</td>\n",
       "      <td>20.313334</td>\n",
       "      <td>164847000</td>\n",
       "      <td>0.0</td>\n",
       "      <td>0.0</td>\n",
       "    </tr>\n",
       "    <tr>\n",
       "      <th>2018-04-11 00:00:00-04:00</th>\n",
       "      <td>20.049334</td>\n",
       "      <td>20.598667</td>\n",
       "      <td>19.977333</td>\n",
       "      <td>20.062000</td>\n",
       "      <td>112243500</td>\n",
       "      <td>0.0</td>\n",
       "      <td>0.0</td>\n",
       "    </tr>\n",
       "    <tr>\n",
       "      <th>2018-04-12 00:00:00-04:00</th>\n",
       "      <td>20.154667</td>\n",
       "      <td>20.263332</td>\n",
       "      <td>19.578667</td>\n",
       "      <td>19.605333</td>\n",
       "      <td>114132000</td>\n",
       "      <td>0.0</td>\n",
       "      <td>0.0</td>\n",
       "    </tr>\n",
       "    <tr>\n",
       "      <th>2018-04-13 00:00:00-04:00</th>\n",
       "      <td>20.240000</td>\n",
       "      <td>20.263332</td>\n",
       "      <td>19.732000</td>\n",
       "      <td>20.022667</td>\n",
       "      <td>109908000</td>\n",
       "      <td>0.0</td>\n",
       "      <td>0.0</td>\n",
       "    </tr>\n",
       "  </tbody>\n",
       "</table>\n",
       "</div>"
      ],
      "text/plain": [
       "                                Open       High        Low      Close   \n",
       "Date                                                                    \n",
       "2018-04-09 00:00:00-04:00  20.024668  20.633333  19.280666  19.310667  \\\n",
       "2018-04-10 00:00:00-04:00  19.931334  20.473333  19.578667  20.313334   \n",
       "2018-04-11 00:00:00-04:00  20.049334  20.598667  19.977333  20.062000   \n",
       "2018-04-12 00:00:00-04:00  20.154667  20.263332  19.578667  19.605333   \n",
       "2018-04-13 00:00:00-04:00  20.240000  20.263332  19.732000  20.022667   \n",
       "\n",
       "                              Volume  Dividends  Stock Splits  \n",
       "Date                                                           \n",
       "2018-04-09 00:00:00-04:00  153747000        0.0           0.0  \n",
       "2018-04-10 00:00:00-04:00  164847000        0.0           0.0  \n",
       "2018-04-11 00:00:00-04:00  112243500        0.0           0.0  \n",
       "2018-04-12 00:00:00-04:00  114132000        0.0           0.0  \n",
       "2018-04-13 00:00:00-04:00  109908000        0.0           0.0  "
      ]
     },
     "execution_count": 46,
     "metadata": {},
     "output_type": "execute_result"
    }
   ],
   "source": [
    "hist_tsla.head()"
   ]
  },
  {
   "cell_type": "code",
   "execution_count": 52,
   "id": "1915d0ed",
   "metadata": {},
   "outputs": [],
   "source": [
    "# hist_tsla.index"
   ]
  },
  {
   "cell_type": "code",
   "execution_count": 57,
   "id": "d2d15369",
   "metadata": {},
   "outputs": [],
   "source": [
    "data = bt.feeds.YahooFinanceCSVData(\n",
    "#     dataname=os.path.join('data', 'tsla_5y.csv')\n",
    "    dataname=os.path.join('data', 'TLSA.csv')\n",
    ")"
   ]
  },
  {
   "cell_type": "code",
   "execution_count": 59,
   "id": "1a3f263f",
   "metadata": {},
   "outputs": [
    {
     "data": {
      "text/plain": [
       "<backtrader.feeds.yahoo.YahooFinanceCSVData at 0x17e019840>"
      ]
     },
     "execution_count": 59,
     "metadata": {},
     "output_type": "execute_result"
    }
   ],
   "source": [
    "cerebro.adddata(data)"
   ]
  },
  {
   "cell_type": "code",
   "execution_count": 61,
   "id": "4609c4ff",
   "metadata": {},
   "outputs": [],
   "source": [
    "# help(data)"
   ]
  },
  {
   "cell_type": "markdown",
   "id": "6bf9ff3d",
   "metadata": {},
   "source": [
    "## How to print or log data using the strategy class in Backtrader\n",
    "To get a bit more familiar with the Strategy class in Backtrader, we will create a simple script that prints the closing prices for our dataset. The Strategy class is where we will be spending most of our time within Backtrader.\n",
    "\n",
    "The first thing we will do is create a new class called `PrintClose` which inherits the Backtrader Strategy class."
   ]
  },
  {
   "cell_type": "code",
   "execution_count": 62,
   "id": "45d3b385",
   "metadata": {},
   "outputs": [
    {
     "name": "stdout",
     "output_type": "stream",
     "text": [
      "<backtrader.linebuffer.LineBuffer object at 0x17e00ce80>\n"
     ]
    },
    {
     "ename": "AttributeError",
     "evalue": "'float' object has no attribute 'isoformat'",
     "output_type": "error",
     "traceback": [
      "\u001b[0;31m---------------------------------------------------------------------------\u001b[0m",
      "\u001b[0;31mAttributeError\u001b[0m                            Traceback (most recent call last)",
      "Cell \u001b[0;32mIn[62], line 31\u001b[0m\n\u001b[1;32m     28\u001b[0m cerebro\u001b[38;5;241m.\u001b[39maddstrategy(PrintClose)\n\u001b[1;32m     30\u001b[0m \u001b[38;5;66;03m# Run Cerebro Engine\u001b[39;00m\n\u001b[0;32m---> 31\u001b[0m \u001b[43mcerebro\u001b[49m\u001b[38;5;241;43m.\u001b[39;49m\u001b[43mrun\u001b[49m\u001b[43m(\u001b[49m\u001b[43m)\u001b[49m\n",
      "File \u001b[0;32m~/miniconda3/envs/m1quant/lib/python3.10/site-packages/backtrader/cerebro.py:1127\u001b[0m, in \u001b[0;36mCerebro.run\u001b[0;34m(self, **kwargs)\u001b[0m\n\u001b[1;32m   1123\u001b[0m \u001b[38;5;28;01mif\u001b[39;00m \u001b[38;5;129;01mnot\u001b[39;00m \u001b[38;5;28mself\u001b[39m\u001b[38;5;241m.\u001b[39m_dooptimize \u001b[38;5;129;01mor\u001b[39;00m \u001b[38;5;28mself\u001b[39m\u001b[38;5;241m.\u001b[39mp\u001b[38;5;241m.\u001b[39mmaxcpus \u001b[38;5;241m==\u001b[39m \u001b[38;5;241m1\u001b[39m:\n\u001b[1;32m   1124\u001b[0m     \u001b[38;5;66;03m# If no optimmization is wished ... or 1 core is to be used\u001b[39;00m\n\u001b[1;32m   1125\u001b[0m     \u001b[38;5;66;03m# let's skip process \"spawning\"\u001b[39;00m\n\u001b[1;32m   1126\u001b[0m     \u001b[38;5;28;01mfor\u001b[39;00m iterstrat \u001b[38;5;129;01min\u001b[39;00m iterstrats:\n\u001b[0;32m-> 1127\u001b[0m         runstrat \u001b[38;5;241m=\u001b[39m \u001b[38;5;28;43mself\u001b[39;49m\u001b[38;5;241;43m.\u001b[39;49m\u001b[43mrunstrategies\u001b[49m\u001b[43m(\u001b[49m\u001b[43miterstrat\u001b[49m\u001b[43m)\u001b[49m\n\u001b[1;32m   1128\u001b[0m         \u001b[38;5;28mself\u001b[39m\u001b[38;5;241m.\u001b[39mrunstrats\u001b[38;5;241m.\u001b[39mappend(runstrat)\n\u001b[1;32m   1129\u001b[0m         \u001b[38;5;28;01mif\u001b[39;00m \u001b[38;5;28mself\u001b[39m\u001b[38;5;241m.\u001b[39m_dooptimize:\n",
      "File \u001b[0;32m~/miniconda3/envs/m1quant/lib/python3.10/site-packages/backtrader/cerebro.py:1293\u001b[0m, in \u001b[0;36mCerebro.runstrategies\u001b[0;34m(self, iterstrat, predata)\u001b[0m\n\u001b[1;32m   1291\u001b[0m         \u001b[38;5;28mself\u001b[39m\u001b[38;5;241m.\u001b[39m_runonce_old(runstrats)\n\u001b[1;32m   1292\u001b[0m     \u001b[38;5;28;01melse\u001b[39;00m:\n\u001b[0;32m-> 1293\u001b[0m         \u001b[38;5;28;43mself\u001b[39;49m\u001b[38;5;241;43m.\u001b[39;49m\u001b[43m_runonce\u001b[49m\u001b[43m(\u001b[49m\u001b[43mrunstrats\u001b[49m\u001b[43m)\u001b[49m\n\u001b[1;32m   1294\u001b[0m \u001b[38;5;28;01melse\u001b[39;00m:\n\u001b[1;32m   1295\u001b[0m     \u001b[38;5;28;01mif\u001b[39;00m \u001b[38;5;28mself\u001b[39m\u001b[38;5;241m.\u001b[39mp\u001b[38;5;241m.\u001b[39moldsync:\n",
      "File \u001b[0;32m~/miniconda3/envs/m1quant/lib/python3.10/site-packages/backtrader/cerebro.py:1695\u001b[0m, in \u001b[0;36mCerebro._runonce\u001b[0;34m(self, runstrats)\u001b[0m\n\u001b[1;32m   1692\u001b[0m \u001b[38;5;28mself\u001b[39m\u001b[38;5;241m.\u001b[39m_check_timers(runstrats, dt0, cheat\u001b[38;5;241m=\u001b[39m\u001b[38;5;28;01mFalse\u001b[39;00m)\n\u001b[1;32m   1694\u001b[0m \u001b[38;5;28;01mfor\u001b[39;00m strat \u001b[38;5;129;01min\u001b[39;00m runstrats:\n\u001b[0;32m-> 1695\u001b[0m     \u001b[43mstrat\u001b[49m\u001b[38;5;241;43m.\u001b[39;49m\u001b[43m_oncepost\u001b[49m\u001b[43m(\u001b[49m\u001b[43mdt0\u001b[49m\u001b[43m)\u001b[49m\n\u001b[1;32m   1696\u001b[0m     \u001b[38;5;28;01mif\u001b[39;00m \u001b[38;5;28mself\u001b[39m\u001b[38;5;241m.\u001b[39m_event_stop:  \u001b[38;5;66;03m# stop if requested\u001b[39;00m\n\u001b[1;32m   1697\u001b[0m         \u001b[38;5;28;01mreturn\u001b[39;00m\n",
      "File \u001b[0;32m~/miniconda3/envs/m1quant/lib/python3.10/site-packages/backtrader/strategy.py:311\u001b[0m, in \u001b[0;36mStrategy._oncepost\u001b[0;34m(self, dt)\u001b[0m\n\u001b[1;32m    309\u001b[0m     \u001b[38;5;28mself\u001b[39m\u001b[38;5;241m.\u001b[39mnext()\n\u001b[1;32m    310\u001b[0m \u001b[38;5;28;01melif\u001b[39;00m minperstatus \u001b[38;5;241m==\u001b[39m \u001b[38;5;241m0\u001b[39m:\n\u001b[0;32m--> 311\u001b[0m     \u001b[38;5;28;43mself\u001b[39;49m\u001b[38;5;241;43m.\u001b[39;49m\u001b[43mnextstart\u001b[49m\u001b[43m(\u001b[49m\u001b[43m)\u001b[49m  \u001b[38;5;66;03m# only called for the 1st value\u001b[39;00m\n\u001b[1;32m    312\u001b[0m \u001b[38;5;28;01melse\u001b[39;00m:\n\u001b[1;32m    313\u001b[0m     \u001b[38;5;28mself\u001b[39m\u001b[38;5;241m.\u001b[39mprenext()\n",
      "File \u001b[0;32m~/miniconda3/envs/m1quant/lib/python3.10/site-packages/backtrader/lineiterator.py:347\u001b[0m, in \u001b[0;36mLineIterator.nextstart\u001b[0;34m(self)\u001b[0m\n\u001b[1;32m    340\u001b[0m \u001b[38;5;124;03m'''\u001b[39;00m\n\u001b[1;32m    341\u001b[0m \u001b[38;5;124;03mThis method will be called once, exactly when the minimum period for\u001b[39;00m\n\u001b[1;32m    342\u001b[0m \u001b[38;5;124;03mall datas/indicators have been meet. The default behavior is to call\u001b[39;00m\n\u001b[1;32m    343\u001b[0m \u001b[38;5;124;03mnext\u001b[39;00m\n\u001b[1;32m    344\u001b[0m \u001b[38;5;124;03m'''\u001b[39;00m\n\u001b[1;32m    346\u001b[0m \u001b[38;5;66;03m# Called once for 1st full calculation - defaults to regular next\u001b[39;00m\n\u001b[0;32m--> 347\u001b[0m \u001b[38;5;28;43mself\u001b[39;49m\u001b[38;5;241;43m.\u001b[39;49m\u001b[43mnext\u001b[49m\u001b[43m(\u001b[49m\u001b[43m)\u001b[49m\n",
      "Cell \u001b[0;32mIn[62], line 16\u001b[0m, in \u001b[0;36mPrintClose.next\u001b[0;34m(self)\u001b[0m\n\u001b[1;32m     15\u001b[0m \u001b[38;5;28;01mdef\u001b[39;00m \u001b[38;5;21mnext\u001b[39m(\u001b[38;5;28mself\u001b[39m):\n\u001b[0;32m---> 16\u001b[0m     \u001b[38;5;28;43mself\u001b[39;49m\u001b[38;5;241;43m.\u001b[39;49m\u001b[43mlog\u001b[49m\u001b[43m(\u001b[49m\u001b[38;5;124;43m'\u001b[39;49m\u001b[38;5;124;43mClose: \u001b[39;49m\u001b[38;5;124;43m'\u001b[39;49m\u001b[43m,\u001b[49m\u001b[43m \u001b[49m\u001b[38;5;28;43mself\u001b[39;49m\u001b[38;5;241;43m.\u001b[39;49m\u001b[43mdataclose\u001b[49m\u001b[43m[\u001b[49m\u001b[38;5;241;43m0\u001b[39;49m\u001b[43m]\u001b[49m\u001b[43m)\u001b[49m\n",
      "Cell \u001b[0;32mIn[62], line 13\u001b[0m, in \u001b[0;36mPrintClose.log\u001b[0;34m(self, txt, dt)\u001b[0m\n\u001b[1;32m     11\u001b[0m \u001b[38;5;28;01mdef\u001b[39;00m \u001b[38;5;21mlog\u001b[39m(\u001b[38;5;28mself\u001b[39m, txt, dt\u001b[38;5;241m=\u001b[39m\u001b[38;5;28;01mNone\u001b[39;00m):\n\u001b[1;32m     12\u001b[0m     dt \u001b[38;5;241m=\u001b[39m dt \u001b[38;5;129;01mor\u001b[39;00m \u001b[38;5;28mself\u001b[39m\u001b[38;5;241m.\u001b[39mdatas[\u001b[38;5;241m0\u001b[39m]\u001b[38;5;241m.\u001b[39mdatetime\u001b[38;5;241m.\u001b[39mdate(\u001b[38;5;241m0\u001b[39m)\n\u001b[0;32m---> 13\u001b[0m     \u001b[38;5;28mprint\u001b[39m(\u001b[38;5;124mf\u001b[39m\u001b[38;5;124m'\u001b[39m\u001b[38;5;132;01m{\u001b[39;00m\u001b[43mdt\u001b[49m\u001b[38;5;241;43m.\u001b[39;49m\u001b[43misoformat\u001b[49m()\u001b[38;5;132;01m}\u001b[39;00m\u001b[38;5;124m \u001b[39m\u001b[38;5;132;01m{\u001b[39;00mtxt\u001b[38;5;132;01m}\u001b[39;00m\u001b[38;5;124m'\u001b[39m)\n",
      "\u001b[0;31mAttributeError\u001b[0m: 'float' object has no attribute 'isoformat'"
     ]
    }
   ],
   "source": [
    "import backtrader as bt\n",
    "\n",
    "\n",
    "class PrintClose(bt.Strategy):\n",
    "\n",
    "    def __init__(self):\n",
    "        print(self.datas[0].close)\n",
    "        # Keep a reference to the \"close\" line in the data[0] dataseries\n",
    "        self.dataclose = self.datas[0].close\n",
    "\n",
    "    def log(self, txt, dt=None):\n",
    "        dt = dt or self.datas[0].datetime.date(0)\n",
    "        print(f'{dt.isoformat()} {txt}')  # Print date and close\n",
    "\n",
    "    def next(self):\n",
    "        self.log('Close: ', self.dataclose[0])\n",
    "\n",
    "\n",
    "# Instantiate Cerebro engine\n",
    "cerebro = bt.Cerebro()\n",
    "\n",
    "# Add data feed to Cerebro\n",
    "data = bt.feeds.YahooFinanceCSVData(\n",
    "    dataname=os.path.join('data', 'tsla_5y.csv'))\n",
    "cerebro.adddata(data)\n",
    "\n",
    "# Add strategy to Cerebro\n",
    "cerebro.addstrategy(PrintClose)\n",
    "\n",
    "# Run Cerebro Engine\n",
    "cerebro.run()"
   ]
  },
  {
   "cell_type": "code",
   "execution_count": null,
   "id": "819e58c0",
   "metadata": {},
   "outputs": [],
   "source": []
  },
  {
   "cell_type": "code",
   "execution_count": null,
   "id": "c77ee66e",
   "metadata": {},
   "outputs": [],
   "source": []
  },
  {
   "cell_type": "code",
   "execution_count": null,
   "id": "61eb97f6",
   "metadata": {},
   "outputs": [],
   "source": []
  },
  {
   "cell_type": "code",
   "execution_count": null,
   "id": "411a885a",
   "metadata": {},
   "outputs": [],
   "source": []
  },
  {
   "cell_type": "code",
   "execution_count": null,
   "id": "bc5a9f10",
   "metadata": {},
   "outputs": [],
   "source": []
  },
  {
   "cell_type": "code",
   "execution_count": null,
   "id": "b02a9617",
   "metadata": {},
   "outputs": [],
   "source": []
  }
 ],
 "metadata": {
  "kernelspec": {
   "display_name": "m1quant",
   "language": "python",
   "name": "m1quant"
  },
  "language_info": {
   "codemirror_mode": {
    "name": "ipython",
    "version": 3
   },
   "file_extension": ".py",
   "mimetype": "text/x-python",
   "name": "python",
   "nbconvert_exporter": "python",
   "pygments_lexer": "ipython3",
   "version": "3.10.8"
  },
  "toc": {
   "base_numbering": 1,
   "nav_menu": {},
   "number_sections": true,
   "sideBar": true,
   "skip_h1_title": false,
   "title_cell": "Table of Contents",
   "title_sidebar": "Contents",
   "toc_cell": false,
   "toc_position": {},
   "toc_section_display": true,
   "toc_window_display": false
  },
  "vscode": {
   "interpreter": {
    "hash": "03744d8d02c767670497500397a3770dca36e860d91c3bc4c31ec56c1bbef3ee"
   }
  }
 },
 "nbformat": 4,
 "nbformat_minor": 5
}
