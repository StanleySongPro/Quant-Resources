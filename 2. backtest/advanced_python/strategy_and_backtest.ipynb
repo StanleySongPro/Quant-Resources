{
 "cells": [
  {
   "cell_type": "markdown",
   "metadata": {},
   "source": [
    "### [`36 Pandas & Numpy：策略与回测系统`](https://learn.lianglianglee.com/%e4%b8%93%e6%a0%8f/Python%e6%a0%b8%e5%bf%83%e6%8a%80%e6%9c%af%e4%b8%8e%e5%ae%9e%e6%88%98/36%20Pandas%20&%20Numpy%ef%bc%9a%e7%ad%96%e7%95%a5%e4%b8%8e%e5%9b%9e%e6%b5%8b%e7%b3%bb%e7%bb%9f.md)\n"
   ]
  },
  {
   "cell_type": "markdown",
   "metadata": {},
   "source": [
    "#### OHLCV 数据\n"
   ]
  },
  {
   "cell_type": "code",
   "execution_count": 10,
   "metadata": {},
   "outputs": [],
   "source": [
    "import os\n",
    "import numpy as np\n",
    "import pandas as pd\n",
    "import yfinance as yf\n",
    "\n",
    "from utils import (\n",
    "    assert_msg,\n",
    "    read_file,\n",
    "    crossover,\n",
    "    SMA\n",
    ")\n",
    "\n",
    "from exchange_api import ExchangeAPI\n",
    "from strategy_api import Strategy\n",
    "from backtesting import Backtest"
   ]
  },
  {
   "cell_type": "code",
   "execution_count": 11,
   "metadata": {},
   "outputs": [
    {
     "name": "stdout",
     "output_type": "stream",
     "text": [
      "[*********************100%%**********************]  1 of 1 completed\n"
     ]
    }
   ],
   "source": [
    "# df_asset = read_file(\"BTCUSD_GEMINI.csv\")[\n",
    "#     ['Open', 'High', 'Low', 'Close', 'Volume']].sort_index(inplace=False)\n",
    "\n",
    "\n",
    "df_asset = yf.download(\n",
    "    \"AAPL\",\n",
    "    start='2010-01-01',\n",
    "    # end='2023-09-28',\n",
    ")[['Open', 'High', 'Low', 'Close', 'Volume']].sort_index(inplace=False)"
   ]
  },
  {
   "cell_type": "code",
   "execution_count": 12,
   "metadata": {},
   "outputs": [
    {
     "data": {
      "text/html": [
       "<div>\n",
       "<style scoped>\n",
       "    .dataframe tbody tr th:only-of-type {\n",
       "        vertical-align: middle;\n",
       "    }\n",
       "\n",
       "    .dataframe tbody tr th {\n",
       "        vertical-align: top;\n",
       "    }\n",
       "\n",
       "    .dataframe thead th {\n",
       "        text-align: right;\n",
       "    }\n",
       "</style>\n",
       "<table border=\"1\" class=\"dataframe\">\n",
       "  <thead>\n",
       "    <tr style=\"text-align: right;\">\n",
       "      <th></th>\n",
       "      <th>Open</th>\n",
       "      <th>High</th>\n",
       "      <th>Low</th>\n",
       "      <th>Close</th>\n",
       "      <th>Volume</th>\n",
       "    </tr>\n",
       "    <tr>\n",
       "      <th>Date</th>\n",
       "      <th></th>\n",
       "      <th></th>\n",
       "      <th></th>\n",
       "      <th></th>\n",
       "      <th></th>\n",
       "    </tr>\n",
       "  </thead>\n",
       "  <tbody>\n",
       "    <tr>\n",
       "      <th>2010-01-04</th>\n",
       "      <td>7.622500</td>\n",
       "      <td>7.660714</td>\n",
       "      <td>7.585000</td>\n",
       "      <td>7.643214</td>\n",
       "      <td>493729600</td>\n",
       "    </tr>\n",
       "    <tr>\n",
       "      <th>2010-01-05</th>\n",
       "      <td>7.664286</td>\n",
       "      <td>7.699643</td>\n",
       "      <td>7.616071</td>\n",
       "      <td>7.656429</td>\n",
       "      <td>601904800</td>\n",
       "    </tr>\n",
       "    <tr>\n",
       "      <th>2010-01-06</th>\n",
       "      <td>7.656429</td>\n",
       "      <td>7.686786</td>\n",
       "      <td>7.526786</td>\n",
       "      <td>7.534643</td>\n",
       "      <td>552160000</td>\n",
       "    </tr>\n",
       "  </tbody>\n",
       "</table>\n",
       "</div>"
      ],
      "text/plain": [
       "                Open      High       Low     Close     Volume\n",
       "Date                                                         \n",
       "2010-01-04  7.622500  7.660714  7.585000  7.643214  493729600\n",
       "2010-01-05  7.664286  7.699643  7.616071  7.656429  601904800\n",
       "2010-01-06  7.656429  7.686786  7.526786  7.534643  552160000"
      ]
     },
     "execution_count": 12,
     "metadata": {},
     "output_type": "execute_result"
    }
   ],
   "source": [
    "df_asset.head(3)"
   ]
  },
  {
   "cell_type": "code",
   "execution_count": 13,
   "metadata": {},
   "outputs": [
    {
     "name": "stdout",
     "output_type": "stream",
     "text": [
      "<class 'pandas.core.frame.DataFrame'>\n",
      "DatetimeIndex: 3476 entries, 2010-01-04 to 2023-10-24\n",
      "Data columns (total 5 columns):\n",
      " #   Column  Non-Null Count  Dtype  \n",
      "---  ------  --------------  -----  \n",
      " 0   Open    3476 non-null   float64\n",
      " 1   High    3476 non-null   float64\n",
      " 2   Low     3476 non-null   float64\n",
      " 3   Close   3476 non-null   float64\n",
      " 4   Volume  3476 non-null   int64  \n",
      "dtypes: float64(4), int64(1)\n",
      "memory usage: 162.9 KB\n"
     ]
    }
   ],
   "source": [
    "df_asset.info()"
   ]
  },
  {
   "cell_type": "code",
   "execution_count": 14,
   "metadata": {},
   "outputs": [
    {
     "data": {
      "text/plain": [
       "Timestamp('2010-01-04 00:00:00')"
      ]
     },
     "execution_count": 14,
     "metadata": {},
     "output_type": "execute_result"
    }
   ],
   "source": [
    "df_asset.index[0]"
   ]
  },
  {
   "cell_type": "markdown",
   "metadata": {},
   "source": [
    "#### 回测框架\n",
    "\n",
    "1. 读取 OHLC 数据；\n",
    "2. 对 OHLC 进行指标运算；\n",
    "3. 策略根据指标向量决定买卖；\n",
    "4. 发给模拟的”交易所“进行交易；\n",
    "5. 最后，统计结果。\n",
    "\n",
    "对此，使用之前学到的面向对象思维方式，我们可以大致抽取三个类：\n",
    "\n",
    "- 交易所类（ ExchangeAPI）：负责维护账户的资金和仓位，以及进行模拟的买卖；\n",
    "- 策略类（Strategy）：负责根据市场信息生成指标，根据指标决定买卖；\n",
    "- 回测类框架（Backtest）：包含一个策略类和一个交易所类，负责迭代地对每个数据点调用策略执行。\n",
    "\n",
    "回到正题，至此，我们就确定了 Backtest 的输入和输出。它的输入是：\n",
    "\n",
    "- OHLC 数据\n",
    "- 初始资金\n",
    "- 手续费率\n",
    "- 交易所类\n",
    "- 策略类\n",
    "\n",
    "输出则是：最后剩余市值。\n"
   ]
  },
  {
   "cell_type": "markdown",
   "metadata": {},
   "source": [
    "这段代码有点长，但是核心其实就两部分。\n",
    "\n",
    "- 初始化函数（init）：传入必要参数，对 OHLC 数据进行简单清洗、排序和验证。我们从不同地方下载的数据，可能格式不一样；而排序的方式也可能是从前往后。所以，这里我们把数据统一设置为按照时间从之前往现在的排序。\n",
    "- 执行函数（run）：这是回测框架的主要循环部分，核心是更新市场还有更新策略的时间。迭代完成所有的历史数据后，它会计算收益并返回。\n",
    "\n",
    "你应该注意到了，此时，我们还没有定义策略和交易所 API 的结构。不过，通过回测的执行函数，我们可以确定这两个类的接口形式。\n",
    "\n",
    "策略类（Strategy）的接口形式为：\n",
    "\n",
    "- 初始化函数 init()，根据历史数据进行指标（Indicator）计算。\n",
    "- 步进函数 next()，根据当前时间和指标，决定买卖操作，并发给交易所类执行。\n",
    "\n",
    "交易所类（ExchangeAPI）的接口形式为：\n",
    "\n",
    "- 步进函数 next()，根据当前时间，更新最新的价格；\n",
    "- 买入操作 buy()，买入资产；\n",
    "- 卖出操作 sell()，卖出资产。\n"
   ]
  },
  {
   "cell_type": "markdown",
   "metadata": {},
   "source": [
    "#### 交易策略\n"
   ]
  },
  {
   "cell_type": "code",
   "execution_count": 18,
   "metadata": {},
   "outputs": [],
   "source": [
    "class SmaCross(Strategy):\n",
    "    # 小窗口SMA的窗口大小，用于计算SMA快线\n",
    "    fast = 5\n",
    "\n",
    "    # 大窗口SMA的窗口大小，用于计算SMA慢线\n",
    "    slow = 15\n",
    "\n",
    "    def init(self):\n",
    "        # 计算历史上每个时刻的快线和慢线\n",
    "        self.sma1 = self.I(SMA, self.data.Close, self.fast)\n",
    "        self.sma2 = self.I(SMA, self.data.Close, self.slow)\n",
    "\n",
    "    def next(self, tick):\n",
    "        # 如果此时快线刚好越过慢线，买入全部\n",
    "        if crossover(self.sma1[:tick], self.sma2[:tick]):\n",
    "            self.buy()\n",
    "\n",
    "        # 如果是慢线刚好越过快线，卖出全部\n",
    "        elif crossover(self.sma2[:tick], self.sma1[:tick]):\n",
    "            self.sell()\n",
    "\n",
    "        # 否则，这个时刻不执行任何操作。\n",
    "        else:\n",
    "            pass"
   ]
  },
  {
   "cell_type": "code",
   "execution_count": 19,
   "metadata": {},
   "outputs": [
    {
     "name": "stdout",
     "output_type": "stream",
     "text": [
      "_market_value - 76167.07879664477\n",
      "_market_value - 76167.07879664477\n"
     ]
    }
   ],
   "source": [
    "\n",
    "backtestObj = Backtest(\n",
    "    df_asset,\n",
    "    SmaCross,\n",
    "    ExchangeAPI,\n",
    "    10000.0,\n",
    "    0.00\n",
    ")\n",
    "ret = backtestObj.run()"
   ]
  },
  {
   "cell_type": "code",
   "execution_count": 20,
   "metadata": {},
   "outputs": [
    {
     "data": {
      "text/plain": [
       "初始市值    10000.000000\n",
       "结束市值    76167.078797\n",
       "收益      66167.078797\n",
       "dtype: float64"
      ]
     },
     "execution_count": 20,
     "metadata": {},
     "output_type": "execute_result"
    }
   ],
   "source": [
    "ret"
   ]
  },
  {
   "cell_type": "code",
   "execution_count": 44,
   "metadata": {},
   "outputs": [],
   "source": [
    "backtestObj = Backtest(\n",
    "    df_asset,\n",
    "    SmaCross,\n",
    "    ExchangeAPI,\n",
    "    10000.0,\n",
    "    0.00\n",
    ")"
   ]
  },
  {
   "cell_type": "code",
   "execution_count": 45,
   "metadata": {},
   "outputs": [],
   "source": [
    "_broker = ExchangeAPI(\n",
    "    data=df_asset,\n",
    "    cash=10000.0,\n",
    "    commission=0.00\n",
    ")"
   ]
  },
  {
   "cell_type": "code",
   "execution_count": 46,
   "metadata": {},
   "outputs": [],
   "source": [
    "_strategy = SmaCross(\n",
    "    broker=_broker,\n",
    "    data=df_asset\n",
    ")"
   ]
  },
  {
   "cell_type": "code",
   "execution_count": 49,
   "metadata": {},
   "outputs": [
    {
     "data": {
      "text/plain": [
       "[]"
      ]
     },
     "execution_count": 49,
     "metadata": {},
     "output_type": "execute_result"
    }
   ],
   "source": [
    "_strategy._indicators"
   ]
  },
  {
   "cell_type": "code",
   "execution_count": 50,
   "metadata": {},
   "outputs": [],
   "source": [
    "_strategy.init()"
   ]
  },
  {
   "cell_type": "code",
   "execution_count": 51,
   "metadata": {},
   "outputs": [
    {
     "data": {
      "text/plain": [
       "[array([      nan,       nan,       nan, ..., 11418.37 , 11427.523,\n",
       "        11442.361]),\n",
       " array([       nan,        nan,        nan, ..., 11333.7895, 11350.099 ,\n",
       "        11361.247 ])]"
      ]
     },
     "execution_count": 51,
     "metadata": {},
     "output_type": "execute_result"
    }
   ],
   "source": [
    "_strategy._indicators"
   ]
  },
  {
   "cell_type": "code",
   "execution_count": null,
   "metadata": {},
   "outputs": [],
   "source": []
  }
 ],
 "metadata": {
  "kernelspec": {
   "display_name": "m1quant",
   "language": "python",
   "name": "python3"
  },
  "language_info": {
   "codemirror_mode": {
    "name": "ipython",
    "version": 3
   },
   "file_extension": ".py",
   "mimetype": "text/x-python",
   "name": "python",
   "nbconvert_exporter": "python",
   "pygments_lexer": "ipython3",
   "version": "3.11.5"
  }
 },
 "nbformat": 4,
 "nbformat_minor": 2
}
