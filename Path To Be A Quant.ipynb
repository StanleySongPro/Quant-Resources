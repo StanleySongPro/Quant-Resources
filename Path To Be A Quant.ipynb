{
 "cells": [
  {
   "cell_type": "markdown",
   "id": "3350080d",
   "metadata": {},
   "source": [
    "# Resources\n",
    "\n",
    "* [`Open source TCA (transaction cost analysis)`](https://github.com/cuemacro/tcapy)"
   ]
  },
  {
   "cell_type": "markdown",
   "id": "f218c6f0",
   "metadata": {},
   "source": [
    "# JD Analysis\n",
    "\n",
    "## [`Quantitative Research Analyst`](https://www.linkedin.com/jobs/view/3321727269/?alternateChannel=search&refId=d8UHMSqhjTb6pZiMU3txmA%3D%3D&trackingId=oTqc7mmSVT2mFVfWcd9TBg%3D%3D&trk=d_flagship3_search_srp_jobs)\n",
    "#### 1. [`factor modeling`](https://www.investopedia.com/terms/m/multifactor-model.asp):\n",
    "* A multi-factor model is a financial model that employs multiple factors in its calculations to explain market phenomena and/or equilibrium asset prices. A multi-factor model can be used to explain either an individual security or a portfolio of securities. It does so by comparing two or more factors to analyze relationships between variables and the resulting performance.\n",
    "* `Fama–French Methodology`: One widely used multi-factor model is the Fama-French three-factor model\n",
    "    \n",
    "#### 2. [`security selection`](https://www.investopedia.com/articles/real-estate/082516/guide-security-selection.asp#:~:text=Securities%20selection%20is%20the%20process,weather%20losses%20during%20market%20downturns.):\n",
    "* Securities selection is the process of determining which financial securities are included in a specific portfolio. Proper security selection can generate profits during market upswings and weather losses during market downturns.\n",
    "* `Risk`: \n",
    "    * Risk applies on both sides when selecting stocks. The risk tolerance on the side of the investor must be first be considered. Younger investors tend to handle more risk, as downside can be tempered with time. However, older investors nearing or at retirement age should ratchet down the risk, as they may rely more on the income generated from their portfolios. Risk tolerance should be adjusted down as the investor gets older, and allocations should lean more toward more stable fixed-income vehicles.\n",
    "    * The second form of risk comes from the actual underlying stock or financial instrument. Sectors that are considered to carry the most risk include biotechnology, information technology, financials and consumer discretionary. Less risky sectors rely more on dividend income, such as utilities, energy, consumer goods and real estate investment trusts (REITS), which pay out most of the income in dividends. Investors can use the `stock beta` to gauge how volatile an individual stock may perform compared to the benchmark indexes.\n",
    "\n",
    "* `Diversification`: Is the portfolio meant to be diversified or specific to a sector or theme? Theme-focused portfolios carry more risk but offer higher reward as opposed to a general market-tracking diversified portfolio. Younger investors are more tolerant of higher risk portfolios that may specialize in particular themes or sectors. Experienced investors who own multiple portfolios may consider theme portfolios as long as they are offset with conservative portfolios with the proper fund allocations.\n",
    "\n",
    "* `Sector Fundamental Metrics`: \n",
    "    * Every sector has an exchange-traded fund (ETF) that allows investors and traders to track and trade it. By looking up the ETF symbol for the particular sector, investors can see the average fundamental metrics, such as price-earnings (P/E), price-book (P/B), price-cash flow (P/C), price-sales (P/S), and revenue and earnings growth. A prudent investor can also peruse the ETF holdings to gauge the specific stocks that are held, from the heaviest allocations to the lightest, in order to get ideas. Well-established names tend to carry higher premiums due to the predictability of the performance and established track record.\n",
    "    * Companies growing at 20% or more quarterly also carry high premiums, despite weaker fundamental metrics, such as exorbitant P/E ratios. Value investors prefer to pay as little premium as possible without sacrificing high-quality fundamental metrics. This can be a tough task, as the market doesn't like to keep windows of opportunity open for extended periods of time.\n",
    "* `Industries`: To find the hidden gems, investors can look to investigate the individual industries that compose the overall sector. Investors can delve deeper into select industries by searching for industry-specific ETFs. Evaluating the ETF holdings is a quick way to spot viable stocks for selection and assess a quick peer comparison. Usually, the top-tier, best-of-breed stocks carry the heaviest weightings and most expensive premiums. The more speculative cheaper stocks carry more risk, as well as more upside. However, there are situations when a stock may be outperforming a sector but still trading at a discount. These stocks may be flying under the radar but can be found with the use of a good stock screener.\n",
    "* `Using a Screener`: A solid method of finding stocks that are undervalued compared to the average metrics is to use a free stock scanner, such as FinViz.com, and plug in the specific financial metrics in a stock scan. For example, the Technology Select Sector SPDR Fund (NYSEARCA: XLK) shows a forward P/E of 21.11, P/C 18.76, P/B of 7.74 and 14.49% estimated three- to five-year earnings growth, as of July 12, 2022. An investor can take these average sector stats and plug them into the scanner at FinViz.com to find candidates that meet or beat the average metrics and may be undervalued as a result.\n",
    "\n",
    "#### 3. [`portfolio risk and construction`](https://www.investopedia.com/terms/p/portfoliomanagement.asp)\n",
    "* Portfolio management is the art and science of selecting and overseeing a group of investments that meet the long-term financial objectives and risk tolerance of a client, a company, or an institution.\n",
    "    * Portfolio management involves building and overseeing a selection of investments that will meet the long-term financial goals and risk tolerance of an investor.\n",
    "    * Active portfolio management requires strategically buying and selling stocks and other assets in an effort to beat the broader market.\n",
    "    * Passive portfolio management seeks to match the returns of the market by mimicking the makeup of a particular index or indexes.\n",
    "    \n",
    "* `Understanding Portfolio Management`:\n",
    "    * Professional licensed portfolio managers work on behalf of clients, while individuals may choose to build and manage their own portfolios. In either case, the portfolio manager's ultimate goal is to maximize the investments' expected return within an appropriate level of risk exposure.\n",
    "    * Portfolio management requires the ability to weigh strengths and weaknesses, opportunities and threats across the full spectrum of investments. The choices involve trade-offs, from debt versus equity to domestic versus international and growth versus safety.\n",
    "    * `Portfolio management may be either passive or active in nature.`\n",
    "        * Passive management is a set-it-and-forget-it long-term strategy. It may involve investing in one or more exchange-traded (ETF) index funds. This is commonly referred to as indexing or index investing. Those who build Indexed portfolios may use modern portfolio theory (MPT) to help optimize the mix.\n",
    "        * Active management involves attempting to beat the performance of an index by actively buying and selling individual stocks and other assets. Closed-end funds are generally actively managed. Active managers may use any of a wide range of quantitative or qualitative models to aid in their evaluations of potential investments.\n",
    "        \n",
    "* `Key Elements of Portfolio Management`\n",
    "    * `Asset Allocation`\n",
    "    * `Diversification`\n",
    "    * `Rebalancing`\n",
    "    * `Active Portfolio Management`\n",
    "    * `Passive Portfolio Management`\n",
    "    * `How Does Passive Portfolio Management Differ From Active?`\n",
    "    * `What Is Asset Allocation?`\n",
    "    * `What Is Diversification?`\n",
    "    \n",
    "#### 4. [`transaction cost modeling and Attribution Analysis`](https://www.investopedia.com/terms/a/attribution-analysis.asp)\n",
    "\n",
    "* `Transaction cost analysis(TCA)`: \n",
    "    * as used by institutional investors, is defined by the Financial Times as \"the study of trade prices to determine whether the trades were arranged at favourable prices – low prices for purchases and high prices for sales\".\n",
    "    * It is often split into two parts – pre-trade and post-trade. \n",
    "* `Pre-trade`:\n",
    "    * Pre-trade analysis is the process of taking known parameters of a planned trade and determining an execution strategy that will minimize the cost of transacting for a given level of acceptable risk. It is not possible to reduce both projected risk and cost past a certain efficient frontier, since reducing risk tolerance requires limiting market exposure and thus trading faster. In this situation, market impact cost is much greater than for trades that accept greater risk and are executed more slowly.\n",
    "    * `Effect on Financial Markets`:Robert Almgren and Neil Chriss wrote their seminal paper on \"Optimal execution of portfolio transactions\", modelling the effect of transaction costs on the liquidation of an optimal portfolio.[3] Robert Almgren and Tianhui Li subsequently expanded this to a paper on \"Option Hedging with Smooth Market Impact\",[4] extending the original analysis to derivative markets.\n",
    "    \n",
    "* `Post-trade`:\n",
    "    * The post-trade process involves first recording the data from previous trading periods, including trade timing, arrival price, average execution price, and relevant details about market movement. These data are then measured and compared to several benchmarks, such as the volume-weighted average price (VWAP), time-weighted average price (TWAP), participation-weighted average price (PWP), or a variety of other measures. Implementation shortfall is a commonly targeted benchmark, which is the sum of all explicit and implicit costs. Sometimes, an opportunity cost of not transacting is factored in.[5] **After measurement, costs must be attributed to their underlying causes. Finally, this analysis is used to evaluate performance and monitor future transactions.**(attributions analysis)\n",
    "    \n",
    "    * `Record`\n",
    "        * Transaction cost analysis aims to improve trading at the level of individual decisions. This requires accurately recording the timing and content for every event in an order's life cycle. Financial Information eXchange (FIX) messages usually provide a consistent and highly accurate source of information for interactions between traders and brokers.\n",
    "        * Data drawn from an order management system (OMS) or execution management system (EMS), however, are not as granular or as uniform as data from FIX, potentially leading to flawed conclusions unless significant effort is made to address this concern. All gaps must be filled in by supplementing FIX or OMS/EMS messages by communicating with brokers, traders, and portfolio managers.\n",
    "        \n",
    "    * `Measure`\n",
    "        * A variety of measures and benchmarks are used in transaction cost analysis. The multitude of definitions for best execution and the dangers inherent in placing too much emphasis on a single statistic necessitate the ability to compare agents to a diverse set of benchmarks. These comparisons allow costs to be split into several categories, including **explicit cost, implicit cost, delay cost, and opportunity cost**. The accurate measurement of each of these costs is necessary to facilitate decision management. For example, if the combination of explicit and implicit costs, which represent the realized cost of transacting, is greater than the opportunity cost of not transacting, it suggests that trades may have been executed too quickly. If the reverse is true, it suggests the need to execute more quickly.[6]\n",
    "        \n",
    "    * `Attribute`\n",
    "        * Reliable measurements allow decisions to be matched with observed outcomes. In the attribution phase, the four cost categories are broken down further, turning previously confusing statistics into intuitive measures representing specific aspects of a trade. For example, application of a transaction cost model helps split Implementation Shortfall into the parts resulting from the size of the order, volatility, or paying to cover the spread. Proper attribution must also distinguish the influence of market factors (i.e. Sector, Region, Market capitalization, and Momentum) from that of human skill.\n",
    "        * It is at this stage that problems that can arise if data is not supplemented with communication become clearly evident. For example, an incorrect determination of the time a trader gained control of an order could result in an unfair impact on the performance reported for that trader, when in reality the problem may have resulted from a delay between the portfolio manager and the desk.\n",
    "        \n",
    "    * `Evaluate and monitor`\n",
    "        * The final stage of transaction cost analysis involves combining the results of the measurement and attribution to evaluate each agent. This is often done through periodic reports detailing important statistics as well as graphics to help visualize trends in the data. Transaction cost analysis providers will often include regular consulting to help draw conclusions from the data, establish goals to improve performance, and monitor future trading to determine the impact of any changes."
   ]
  },
  {
   "cell_type": "code",
   "execution_count": null,
   "id": "461c4024",
   "metadata": {},
   "outputs": [],
   "source": []
  },
  {
   "cell_type": "code",
   "execution_count": null,
   "id": "330a77d6",
   "metadata": {},
   "outputs": [],
   "source": []
  },
  {
   "cell_type": "code",
   "execution_count": null,
   "id": "d80d5a1e",
   "metadata": {},
   "outputs": [],
   "source": []
  },
  {
   "cell_type": "code",
   "execution_count": null,
   "id": "70085110",
   "metadata": {},
   "outputs": [],
   "source": []
  },
  {
   "cell_type": "code",
   "execution_count": null,
   "id": "77b4af7d",
   "metadata": {},
   "outputs": [],
   "source": []
  }
 ],
 "metadata": {
  "kernelspec": {
   "display_name": "py39",
   "language": "python",
   "name": "py39"
  },
  "language_info": {
   "codemirror_mode": {
    "name": "ipython",
    "version": 3
   },
   "file_extension": ".py",
   "mimetype": "text/x-python",
   "name": "python",
   "nbconvert_exporter": "python",
   "pygments_lexer": "ipython3",
   "version": "3.9.13"
  }
 },
 "nbformat": 4,
 "nbformat_minor": 5
}
