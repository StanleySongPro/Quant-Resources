{
 "cells": [
  {
   "cell_type": "code",
   "execution_count": 4,
   "id": "ad874ffa",
   "metadata": {},
   "outputs": [
    {
     "name": "stdout",
     "output_type": "stream",
     "text": [
      "The autoreload extension is already loaded. To reload it, use:\n",
      "  %reload_ext autoreload\n"
     ]
    }
   ],
   "source": [
    "%load_ext autoreload\n",
    "%autoreload 2"
   ]
  },
  {
   "cell_type": "code",
   "execution_count": 3,
   "id": "fb38fde2",
   "metadata": {},
   "outputs": [
    {
     "data": {
      "text/plain": [
       "'3.10.8'"
      ]
     },
     "execution_count": 3,
     "metadata": {},
     "output_type": "execute_result"
    }
   ],
   "source": [
    "# !pip install autopep8\n",
    "# !conda info\n",
    "import platform\n",
    "platform.python_version()"
   ]
  },
  {
   "cell_type": "markdown",
   "id": "19bfd69a",
   "metadata": {},
   "source": [
    "# Reference\n",
    "* [`Backtesting.py - Full course in python`](https://www.youtube.com/watch?v=e4ytbIm2Xg0&list=PLnSVMZC68_e48lA4aRYL1yHYZ9nEq9AiH)\n",
    "* [`Backtest Your Dollar Cost Average Strategy easily in Python`](https://www.youtube.com/watch?v=Kgr8JjWX0zk&list=PLnSVMZC68_e48lA4aRYL1yHYZ9nEq9AiH&index=2)"
   ]
  },
  {
   "cell_type": "code",
   "execution_count": 467,
   "id": "8418aec1",
   "metadata": {},
   "outputs": [],
   "source": [
    "import os\n",
    "import numpy as np\n",
    "import pandas as pd\n",
    "import pandas_ta as pdta\n",
    "import talib\n",
    "import yfinance as yf\n",
    "\n",
    "import matplotlib.pyplot as plt\n",
    "import seaborn as sns\n",
    "\n",
    "pd.set_option('display.max_colwidth', None)"
   ]
  },
  {
   "cell_type": "markdown",
   "id": "f664c643",
   "metadata": {},
   "source": [
    "# Backtesting.py - Full course in python"
   ]
  },
  {
   "cell_type": "code",
   "execution_count": 309,
   "id": "b7d13049",
   "metadata": {},
   "outputs": [],
   "source": [
    "from backtesting import (\n",
    "    Backtest, \n",
    "    Strategy\n",
    ")\n",
    "from backtesting import test\n",
    "from backtesting.lib import (\n",
    "    crossover, \n",
    "    plot_heatmaps,\n",
    "    resample_apply,\n",
    "    barssince\n",
    ")\n",
    "\n"
   ]
  },
  {
   "cell_type": "markdown",
   "id": "4dc15187",
   "metadata": {},
   "source": [
    "## Simple Crossover strategy based on RSI"
   ]
  },
  {
   "cell_type": "code",
   "execution_count": 103,
   "id": "c1db77f2",
   "metadata": {},
   "outputs": [],
   "source": [
    "class RsiOscillator(Strategy):\n",
    "    upper_bound = 70\n",
    "    lower_bound = 30\n",
    "    rsi_window = 14\n",
    "\n",
    "    def init(self):\n",
    "        self.rsi = self.I(\n",
    "            talib.RSI,\n",
    "            self.data.Close,\n",
    "            self.rsi_window\n",
    "        )\n",
    "\n",
    "    def next(self):\n",
    "        if crossover(self.rsi, self.upper_bound):\n",
    "            self.position.close()\n",
    "        elif crossover(self.lower_bound, self.rsi):\n",
    "            self.buy()"
   ]
  },
  {
   "cell_type": "code",
   "execution_count": 45,
   "id": "97d9c150",
   "metadata": {},
   "outputs": [],
   "source": [
    "TSLA = yf.Ticker(\"TSLA\").history(period=\"5y\")"
   ]
  },
  {
   "cell_type": "code",
   "execution_count": 46,
   "id": "947f629d",
   "metadata": {},
   "outputs": [
    {
     "data": {
      "text/html": [
       "<div>\n",
       "<style scoped>\n",
       "    .dataframe tbody tr th:only-of-type {\n",
       "        vertical-align: middle;\n",
       "    }\n",
       "\n",
       "    .dataframe tbody tr th {\n",
       "        vertical-align: top;\n",
       "    }\n",
       "\n",
       "    .dataframe thead th {\n",
       "        text-align: right;\n",
       "    }\n",
       "</style>\n",
       "<table border=\"1\" class=\"dataframe\">\n",
       "  <thead>\n",
       "    <tr style=\"text-align: right;\">\n",
       "      <th></th>\n",
       "      <th>Open</th>\n",
       "      <th>High</th>\n",
       "      <th>Low</th>\n",
       "      <th>Close</th>\n",
       "      <th>Volume</th>\n",
       "      <th>Dividends</th>\n",
       "      <th>Stock Splits</th>\n",
       "    </tr>\n",
       "    <tr>\n",
       "      <th>Date</th>\n",
       "      <th></th>\n",
       "      <th></th>\n",
       "      <th></th>\n",
       "      <th></th>\n",
       "      <th></th>\n",
       "      <th></th>\n",
       "      <th></th>\n",
       "    </tr>\n",
       "  </thead>\n",
       "  <tbody>\n",
       "    <tr>\n",
       "      <th>2018-04-09 00:00:00-04:00</th>\n",
       "      <td>20.024668</td>\n",
       "      <td>20.633333</td>\n",
       "      <td>19.280666</td>\n",
       "      <td>19.310667</td>\n",
       "      <td>153747000</td>\n",
       "      <td>0.0</td>\n",
       "      <td>0.0</td>\n",
       "    </tr>\n",
       "    <tr>\n",
       "      <th>2018-04-10 00:00:00-04:00</th>\n",
       "      <td>19.931334</td>\n",
       "      <td>20.473333</td>\n",
       "      <td>19.578667</td>\n",
       "      <td>20.313334</td>\n",
       "      <td>164847000</td>\n",
       "      <td>0.0</td>\n",
       "      <td>0.0</td>\n",
       "    </tr>\n",
       "    <tr>\n",
       "      <th>2018-04-11 00:00:00-04:00</th>\n",
       "      <td>20.049334</td>\n",
       "      <td>20.598667</td>\n",
       "      <td>19.977333</td>\n",
       "      <td>20.062000</td>\n",
       "      <td>112243500</td>\n",
       "      <td>0.0</td>\n",
       "      <td>0.0</td>\n",
       "    </tr>\n",
       "    <tr>\n",
       "      <th>2018-04-12 00:00:00-04:00</th>\n",
       "      <td>20.154667</td>\n",
       "      <td>20.263332</td>\n",
       "      <td>19.578667</td>\n",
       "      <td>19.605333</td>\n",
       "      <td>114132000</td>\n",
       "      <td>0.0</td>\n",
       "      <td>0.0</td>\n",
       "    </tr>\n",
       "    <tr>\n",
       "      <th>2018-04-13 00:00:00-04:00</th>\n",
       "      <td>20.240000</td>\n",
       "      <td>20.263332</td>\n",
       "      <td>19.732000</td>\n",
       "      <td>20.022667</td>\n",
       "      <td>109908000</td>\n",
       "      <td>0.0</td>\n",
       "      <td>0.0</td>\n",
       "    </tr>\n",
       "  </tbody>\n",
       "</table>\n",
       "</div>"
      ],
      "text/plain": [
       "                                Open       High  ...  Dividends  Stock Splits\n",
       "Date                                             ...                         \n",
       "2018-04-09 00:00:00-04:00  20.024668  20.633333  ...        0.0           0.0\n",
       "2018-04-10 00:00:00-04:00  19.931334  20.473333  ...        0.0           0.0\n",
       "2018-04-11 00:00:00-04:00  20.049334  20.598667  ...        0.0           0.0\n",
       "2018-04-12 00:00:00-04:00  20.154667  20.263332  ...        0.0           0.0\n",
       "2018-04-13 00:00:00-04:00  20.240000  20.263332  ...        0.0           0.0\n",
       "\n",
       "[5 rows x 7 columns]"
      ]
     },
     "execution_count": 46,
     "metadata": {},
     "output_type": "execute_result"
    }
   ],
   "source": [
    "TSLA.head()"
   ]
  },
  {
   "cell_type": "code",
   "execution_count": 104,
   "id": "7a81bd75",
   "metadata": {},
   "outputs": [],
   "source": [
    "# help(Strategy.I)\n",
    "# help(crossover)\n",
    "bt = Backtest(\n",
    "    data = TSLA,\n",
    "    strategy=RsiOscillator,\n",
    "    cash=10_000,\n",
    ")"
   ]
  },
  {
   "cell_type": "code",
   "execution_count": 73,
   "id": "49986af0",
   "metadata": {},
   "outputs": [
    {
     "name": "stderr",
     "output_type": "stream",
     "text": [
      "/Users/lusong/miniconda3/envs/m1quant/lib/python3.10/site-packages/backtesting/backtesting.py:1488: UserWarning: Searching for best of 420 configurations.\n",
      "  output = _optimize_grid()\n",
      "/Users/lusong/miniconda3/envs/m1quant/lib/python3.10/site-packages/backtesting/backtesting.py:1375: UserWarning: For multiprocessing support in `Backtest.optimize()` set multiprocessing start method to 'fork'.\n",
      "  warnings.warn(\"For multiprocessing support in `Backtest.optimize()` \"\n",
      "                                                                                                          \r"
     ]
    }
   ],
   "source": [
    "# stats = bt.run()\n",
    "stats = bt.optimize(\n",
    "    upper_bound = range(55, 85, 5),\n",
    "    lower_bound = range(10, 45, 5),\n",
    "    rsi_window = range(10, 30, 2),\n",
    "    maximize='Sortino Ratio',\n",
    "#     constraint=lambda x:x.upper_bound>x.lower_bound\n",
    ")"
   ]
  },
  {
   "cell_type": "code",
   "execution_count": 306,
   "id": "d8ecf40b",
   "metadata": {},
   "outputs": [],
   "source": [
    "# stats.to_frame()"
   ]
  },
  {
   "cell_type": "code",
   "execution_count": 75,
   "id": "2bdcabc6",
   "metadata": {},
   "outputs": [
    {
     "name": "stderr",
     "output_type": "stream",
     "text": [
      "/Users/lusong/miniconda3/envs/m1quant/lib/python3.10/site-packages/backtesting/_plotting.py:250: UserWarning: DatetimeFormatter scales now only accept a single format. Using the first provided: '%d %b'\n",
      "  formatter=DatetimeTickFormatter(days=['%d %b', '%a %d'],\n",
      "/Users/lusong/miniconda3/envs/m1quant/lib/python3.10/site-packages/backtesting/_plotting.py:250: UserWarning: DatetimeFormatter scales now only accept a single format. Using the first provided: '%m/%Y'\n",
      "  formatter=DatetimeTickFormatter(days=['%d %b', '%a %d'],\n"
     ]
    },
    {
     "data": {
      "text/html": [
       "<div style=\"display: table;\"><div style=\"display: table-row;\"><div style=\"display: table-cell;\"><b title=\"bokeh.models.plots.GridPlot\">GridPlot</b>(</div><div style=\"display: table-cell;\">id&nbsp;=&nbsp;'p10763', <span id=\"p11310\" style=\"cursor: pointer;\">&hellip;)</span></div></div><div class=\"p11309\" style=\"display: none;\"><div style=\"display: table-cell;\"></div><div style=\"display: table-cell;\">align&nbsp;=&nbsp;'auto',</div></div><div class=\"p11309\" style=\"display: none;\"><div style=\"display: table-cell;\"></div><div style=\"display: table-cell;\">aspect_ratio&nbsp;=&nbsp;None,</div></div><div class=\"p11309\" style=\"display: none;\"><div style=\"display: table-cell;\"></div><div style=\"display: table-cell;\">children&nbsp;=&nbsp;[(figure(id='p10259', ...), 0, 0), (figure(id='p10372', ...), 1, 0), (figure(id='p10200', ...), 2, 0), (figure(id='p10444', ...), 3, 0), (figure(id='p10556', ...), 4, 0)],</div></div><div class=\"p11309\" style=\"display: none;\"><div style=\"display: table-cell;\"></div><div style=\"display: table-cell;\">cols&nbsp;=&nbsp;None,</div></div><div class=\"p11309\" style=\"display: none;\"><div style=\"display: table-cell;\"></div><div style=\"display: table-cell;\">context_menu&nbsp;=&nbsp;None,</div></div><div class=\"p11309\" style=\"display: none;\"><div style=\"display: table-cell;\"></div><div style=\"display: table-cell;\">css_classes&nbsp;=&nbsp;[],</div></div><div class=\"p11309\" style=\"display: none;\"><div style=\"display: table-cell;\"></div><div style=\"display: table-cell;\">disabled&nbsp;=&nbsp;False,</div></div><div class=\"p11309\" style=\"display: none;\"><div style=\"display: table-cell;\"></div><div style=\"display: table-cell;\">flow_mode&nbsp;=&nbsp;'block',</div></div><div class=\"p11309\" style=\"display: none;\"><div style=\"display: table-cell;\"></div><div style=\"display: table-cell;\">height&nbsp;=&nbsp;None,</div></div><div class=\"p11309\" style=\"display: none;\"><div style=\"display: table-cell;\"></div><div style=\"display: table-cell;\">height_policy&nbsp;=&nbsp;'auto',</div></div><div class=\"p11309\" style=\"display: none;\"><div style=\"display: table-cell;\"></div><div style=\"display: table-cell;\">js_event_callbacks&nbsp;=&nbsp;{},</div></div><div class=\"p11309\" style=\"display: none;\"><div style=\"display: table-cell;\"></div><div style=\"display: table-cell;\">js_property_callbacks&nbsp;=&nbsp;{},</div></div><div class=\"p11309\" style=\"display: none;\"><div style=\"display: table-cell;\"></div><div style=\"display: table-cell;\">margin&nbsp;=&nbsp;None,</div></div><div class=\"p11309\" style=\"display: none;\"><div style=\"display: table-cell;\"></div><div style=\"display: table-cell;\">max_height&nbsp;=&nbsp;None,</div></div><div class=\"p11309\" style=\"display: none;\"><div style=\"display: table-cell;\"></div><div style=\"display: table-cell;\">max_width&nbsp;=&nbsp;None,</div></div><div class=\"p11309\" style=\"display: none;\"><div style=\"display: table-cell;\"></div><div style=\"display: table-cell;\">min_height&nbsp;=&nbsp;None,</div></div><div class=\"p11309\" style=\"display: none;\"><div style=\"display: table-cell;\"></div><div style=\"display: table-cell;\">min_width&nbsp;=&nbsp;None,</div></div><div class=\"p11309\" style=\"display: none;\"><div style=\"display: table-cell;\"></div><div style=\"display: table-cell;\">name&nbsp;=&nbsp;None,</div></div><div class=\"p11309\" style=\"display: none;\"><div style=\"display: table-cell;\"></div><div style=\"display: table-cell;\">resizable&nbsp;=&nbsp;False,</div></div><div class=\"p11309\" style=\"display: none;\"><div style=\"display: table-cell;\"></div><div style=\"display: table-cell;\">rows&nbsp;=&nbsp;None,</div></div><div class=\"p11309\" style=\"display: none;\"><div style=\"display: table-cell;\"></div><div style=\"display: table-cell;\">sizing_mode&nbsp;=&nbsp;'stretch_width',</div></div><div class=\"p11309\" style=\"display: none;\"><div style=\"display: table-cell;\"></div><div style=\"display: table-cell;\">spacing&nbsp;=&nbsp;0,</div></div><div class=\"p11309\" style=\"display: none;\"><div style=\"display: table-cell;\"></div><div style=\"display: table-cell;\">styles&nbsp;=&nbsp;{},</div></div><div class=\"p11309\" style=\"display: none;\"><div style=\"display: table-cell;\"></div><div style=\"display: table-cell;\">stylesheets&nbsp;=&nbsp;[],</div></div><div class=\"p11309\" style=\"display: none;\"><div style=\"display: table-cell;\"></div><div style=\"display: table-cell;\">subscribed_events&nbsp;=&nbsp;PropertyValueSet(),</div></div><div class=\"p11309\" style=\"display: none;\"><div style=\"display: table-cell;\"></div><div style=\"display: table-cell;\">syncable&nbsp;=&nbsp;True,</div></div><div class=\"p11309\" style=\"display: none;\"><div style=\"display: table-cell;\"></div><div style=\"display: table-cell;\">tags&nbsp;=&nbsp;[],</div></div><div class=\"p11309\" style=\"display: none;\"><div style=\"display: table-cell;\"></div><div style=\"display: table-cell;\">toolbar&nbsp;=&nbsp;Toolbar(id='p10762', ...),</div></div><div class=\"p11309\" style=\"display: none;\"><div style=\"display: table-cell;\"></div><div style=\"display: table-cell;\">toolbar_location&nbsp;=&nbsp;'right',</div></div><div class=\"p11309\" style=\"display: none;\"><div style=\"display: table-cell;\"></div><div style=\"display: table-cell;\">visible&nbsp;=&nbsp;True,</div></div><div class=\"p11309\" style=\"display: none;\"><div style=\"display: table-cell;\"></div><div style=\"display: table-cell;\">width&nbsp;=&nbsp;None,</div></div><div class=\"p11309\" style=\"display: none;\"><div style=\"display: table-cell;\"></div><div style=\"display: table-cell;\">width_policy&nbsp;=&nbsp;'auto')</div></div></div>\n",
       "<script>\n",
       "(function() {\n",
       "  let expanded = false;\n",
       "  const ellipsis = document.getElementById(\"p11310\");\n",
       "  ellipsis.addEventListener(\"click\", function() {\n",
       "    const rows = document.getElementsByClassName(\"p11309\");\n",
       "    for (let i = 0; i < rows.length; i++) {\n",
       "      const el = rows[i];\n",
       "      el.style.display = expanded ? \"none\" : \"table-row\";\n",
       "    }\n",
       "    ellipsis.innerHTML = expanded ? \"&hellip;)\" : \"&lsaquo;&lsaquo;&lsaquo;\";\n",
       "    expanded = !expanded;\n",
       "  });\n",
       "})();\n",
       "</script>\n"
      ],
      "text/plain": [
       "GridPlot(id='p10763', ...)"
      ]
     },
     "execution_count": 75,
     "metadata": {},
     "output_type": "execute_result"
    }
   ],
   "source": [
    "bt.plot(filename=os.path.join('plots', 'RsiOscillator.html'))"
   ]
  },
  {
   "cell_type": "code",
   "execution_count": 77,
   "id": "6a6e2462",
   "metadata": {},
   "outputs": [
    {
     "data": {
      "text/plain": [
       "<Strategy RsiOscillator(upper_bound=80,lower_bound=35,rsi_window=26)>"
      ]
     },
     "execution_count": 77,
     "metadata": {},
     "output_type": "execute_result"
    }
   ],
   "source": [
    "stats._strategy"
   ]
  },
  {
   "cell_type": "markdown",
   "id": "3c72e69f",
   "metadata": {},
   "source": [
    "## Custom optimization metrics"
   ]
  },
  {
   "cell_type": "code",
   "execution_count": 105,
   "id": "fa86be86",
   "metadata": {},
   "outputs": [],
   "source": [
    "def optim_func_1(series):\n",
    "    #     if series['Sortino Ratio']<=0:\n",
    "    #         return 0.00001\n",
    "    return series['Sharpe Ratio']*series['Sortino Ratio']\n",
    "\n",
    "def optim_func_2(series):\n",
    "    if series['# Trades'] < 10:\n",
    "        return -1\n",
    "    return series['Equity Final [$]']/series['Exposure Time [%]']"
   ]
  },
  {
   "cell_type": "code",
   "execution_count": 106,
   "id": "b1f4b428",
   "metadata": {},
   "outputs": [
    {
     "name": "stderr",
     "output_type": "stream",
     "text": [
      "/Users/lusong/miniconda3/envs/m1quant/lib/python3.10/site-packages/backtesting/backtesting.py:1375: UserWarning: For multiprocessing support in `Backtest.optimize()` set multiprocessing start method to 'fork'.\n",
      "  warnings.warn(\"For multiprocessing support in `Backtest.optimize()` \"\n",
      "                                                                                                          \r"
     ]
    }
   ],
   "source": [
    "stats = bt.optimize(\n",
    "    upper_bound = range(55, 85, 5),\n",
    "    lower_bound = range(10, 45, 5),\n",
    "    rsi_window = range(10, 30, 1),\n",
    "    maximize=optim_func_1,\n",
    "    constraint=lambda x:x.upper_bound>x.lower_bound,\n",
    "    max_tries=100\n",
    ")"
   ]
  },
  {
   "cell_type": "code",
   "execution_count": 307,
   "id": "126a1009",
   "metadata": {},
   "outputs": [],
   "source": [
    "# stats.to_frame()"
   ]
  },
  {
   "cell_type": "code",
   "execution_count": 108,
   "id": "5e033ff8",
   "metadata": {},
   "outputs": [
    {
     "data": {
      "text/html": [
       "<div>\n",
       "<style scoped>\n",
       "    .dataframe tbody tr th:only-of-type {\n",
       "        vertical-align: middle;\n",
       "    }\n",
       "\n",
       "    .dataframe tbody tr th {\n",
       "        vertical-align: top;\n",
       "    }\n",
       "\n",
       "    .dataframe thead th {\n",
       "        text-align: right;\n",
       "    }\n",
       "</style>\n",
       "<table border=\"1\" class=\"dataframe\">\n",
       "  <thead>\n",
       "    <tr style=\"text-align: right;\">\n",
       "      <th></th>\n",
       "      <th>Size</th>\n",
       "      <th>EntryBar</th>\n",
       "      <th>ExitBar</th>\n",
       "      <th>EntryPrice</th>\n",
       "      <th>ExitPrice</th>\n",
       "      <th>PnL</th>\n",
       "      <th>ReturnPct</th>\n",
       "      <th>EntryTime</th>\n",
       "      <th>ExitTime</th>\n",
       "      <th>Duration</th>\n",
       "    </tr>\n",
       "  </thead>\n",
       "  <tbody>\n",
       "    <tr>\n",
       "      <th>0</th>\n",
       "      <td>739</td>\n",
       "      <td>280</td>\n",
       "      <td>442</td>\n",
       "      <td>13.520000</td>\n",
       "      <td>33.139999</td>\n",
       "      <td>14499.179211</td>\n",
       "      <td>1.451183</td>\n",
       "      <td>2019-05-20 00:00:00-04:00</td>\n",
       "      <td>2020-01-09 00:00:00-05:00</td>\n",
       "      <td>234 days 01:00:00</td>\n",
       "    </tr>\n",
       "    <tr>\n",
       "      <th>1</th>\n",
       "      <td>980</td>\n",
       "      <td>490</td>\n",
       "      <td>895</td>\n",
       "      <td>24.980000</td>\n",
       "      <td>341.563324</td>\n",
       "      <td>310251.657944</td>\n",
       "      <td>12.673472</td>\n",
       "      <td>2020-03-19 00:00:00-04:00</td>\n",
       "      <td>2021-10-26 00:00:00-04:00</td>\n",
       "      <td>586 days 00:00:00</td>\n",
       "    </tr>\n",
       "    <tr>\n",
       "      <th>2</th>\n",
       "      <td>1554</td>\n",
       "      <td>1137</td>\n",
       "      <td>1258</td>\n",
       "      <td>215.330002</td>\n",
       "      <td>183.080002</td>\n",
       "      <td>-50116.500000</td>\n",
       "      <td>-0.149770</td>\n",
       "      <td>2022-10-12 00:00:00-04:00</td>\n",
       "      <td>2023-04-06 00:00:00-04:00</td>\n",
       "      <td>176 days 00:00:00</td>\n",
       "    </tr>\n",
       "  </tbody>\n",
       "</table>\n",
       "</div>"
      ],
      "text/plain": [
       "   Size  EntryBar  ...                  ExitTime          Duration\n",
       "0   739       280  ... 2020-01-09 00:00:00-05:00 234 days 01:00:00\n",
       "1   980       490  ... 2021-10-26 00:00:00-04:00 586 days 00:00:00\n",
       "2  1554      1137  ... 2023-04-06 00:00:00-04:00 176 days 00:00:00\n",
       "\n",
       "[3 rows x 10 columns]"
      ]
     },
     "execution_count": 108,
     "metadata": {},
     "output_type": "execute_result"
    }
   ],
   "source": [
    "stats._trades"
   ]
  },
  {
   "cell_type": "markdown",
   "id": "39ce60c6",
   "metadata": {},
   "source": [
    "## heatmap"
   ]
  },
  {
   "cell_type": "code",
   "execution_count": 132,
   "id": "63f1948b",
   "metadata": {},
   "outputs": [
    {
     "name": "stderr",
     "output_type": "stream",
     "text": [
      "/Users/lusong/miniconda3/envs/m1quant/lib/python3.10/site-packages/backtesting/backtesting.py:1375: UserWarning: For multiprocessing support in `Backtest.optimize()` set multiprocessing start method to 'fork'.\n",
      "  warnings.warn(\"For multiprocessing support in `Backtest.optimize()` \"\n",
      "                                                                                                          \r"
     ]
    }
   ],
   "source": [
    "stats, heatmap = bt.optimize(\n",
    "    upper_bound = range(55, 90, 5),\n",
    "    lower_bound = range(10, 45, 5),\n",
    "#     rsi_window = range(10, 30, 2),\n",
    "    maximize='Sharpe Ratio',\n",
    "#     max_tries=100,\n",
    "    return_heatmap=True\n",
    ")"
   ]
  },
  {
   "cell_type": "code",
   "execution_count": 177,
   "id": "68f55636",
   "metadata": {},
   "outputs": [],
   "source": [
    "# heatmap"
   ]
  },
  {
   "cell_type": "code",
   "execution_count": 134,
   "id": "da61b922",
   "metadata": {},
   "outputs": [],
   "source": [
    "hm = heatmap.groupby(['upper_bound', 'lower_bound']).mean().unstack()"
   ]
  },
  {
   "cell_type": "code",
   "execution_count": 135,
   "id": "55715cee",
   "metadata": {},
   "outputs": [
    {
     "data": {
      "text/html": [
       "<div>\n",
       "<style scoped>\n",
       "    .dataframe tbody tr th:only-of-type {\n",
       "        vertical-align: middle;\n",
       "    }\n",
       "\n",
       "    .dataframe tbody tr th {\n",
       "        vertical-align: top;\n",
       "    }\n",
       "\n",
       "    .dataframe thead th {\n",
       "        text-align: right;\n",
       "    }\n",
       "</style>\n",
       "<table border=\"1\" class=\"dataframe\">\n",
       "  <thead>\n",
       "    <tr style=\"text-align: right;\">\n",
       "      <th>lower_bound</th>\n",
       "      <th>5</th>\n",
       "      <th>10</th>\n",
       "      <th>15</th>\n",
       "      <th>20</th>\n",
       "      <th>25</th>\n",
       "      <th>30</th>\n",
       "      <th>35</th>\n",
       "      <th>40</th>\n",
       "    </tr>\n",
       "    <tr>\n",
       "      <th>upper_bound</th>\n",
       "      <th></th>\n",
       "      <th></th>\n",
       "      <th></th>\n",
       "      <th></th>\n",
       "      <th></th>\n",
       "      <th></th>\n",
       "      <th></th>\n",
       "      <th></th>\n",
       "    </tr>\n",
       "  </thead>\n",
       "  <tbody>\n",
       "    <tr>\n",
       "      <th>55</th>\n",
       "      <td>NaN</td>\n",
       "      <td>NaN</td>\n",
       "      <td>NaN</td>\n",
       "      <td>0.378699</td>\n",
       "      <td>0.337477</td>\n",
       "      <td>0.170401</td>\n",
       "      <td>0.107310</td>\n",
       "      <td>0.000000</td>\n",
       "    </tr>\n",
       "    <tr>\n",
       "      <th>60</th>\n",
       "      <td>NaN</td>\n",
       "      <td>NaN</td>\n",
       "      <td>NaN</td>\n",
       "      <td>0.554303</td>\n",
       "      <td>0.441791</td>\n",
       "      <td>0.298725</td>\n",
       "      <td>0.110460</td>\n",
       "      <td>0.115770</td>\n",
       "    </tr>\n",
       "    <tr>\n",
       "      <th>65</th>\n",
       "      <td>NaN</td>\n",
       "      <td>NaN</td>\n",
       "      <td>NaN</td>\n",
       "      <td>0.554303</td>\n",
       "      <td>0.520534</td>\n",
       "      <td>0.332050</td>\n",
       "      <td>0.111564</td>\n",
       "      <td>0.152212</td>\n",
       "    </tr>\n",
       "    <tr>\n",
       "      <th>70</th>\n",
       "      <td>NaN</td>\n",
       "      <td>NaN</td>\n",
       "      <td>NaN</td>\n",
       "      <td>0.646952</td>\n",
       "      <td>0.667599</td>\n",
       "      <td>0.375435</td>\n",
       "      <td>0.319387</td>\n",
       "      <td>0.260240</td>\n",
       "    </tr>\n",
       "    <tr>\n",
       "      <th>75</th>\n",
       "      <td>NaN</td>\n",
       "      <td>NaN</td>\n",
       "      <td>NaN</td>\n",
       "      <td>0.813961</td>\n",
       "      <td>0.776705</td>\n",
       "      <td>0.385992</td>\n",
       "      <td>0.265994</td>\n",
       "      <td>0.186898</td>\n",
       "    </tr>\n",
       "    <tr>\n",
       "      <th>80</th>\n",
       "      <td>NaN</td>\n",
       "      <td>NaN</td>\n",
       "      <td>NaN</td>\n",
       "      <td>0.507409</td>\n",
       "      <td>0.834452</td>\n",
       "      <td>0.473574</td>\n",
       "      <td>0.359017</td>\n",
       "      <td>0.391413</td>\n",
       "    </tr>\n",
       "    <tr>\n",
       "      <th>85</th>\n",
       "      <td>NaN</td>\n",
       "      <td>NaN</td>\n",
       "      <td>NaN</td>\n",
       "      <td>0.507409</td>\n",
       "      <td>0.978348</td>\n",
       "      <td>0.627535</td>\n",
       "      <td>0.513788</td>\n",
       "      <td>0.461078</td>\n",
       "    </tr>\n",
       "  </tbody>\n",
       "</table>\n",
       "</div>"
      ],
      "text/plain": [
       "lower_bound  5   10  15        20        25        30        35        40\n",
       "upper_bound                                                              \n",
       "55          NaN NaN NaN  0.378699  0.337477  0.170401  0.107310  0.000000\n",
       "60          NaN NaN NaN  0.554303  0.441791  0.298725  0.110460  0.115770\n",
       "65          NaN NaN NaN  0.554303  0.520534  0.332050  0.111564  0.152212\n",
       "70          NaN NaN NaN  0.646952  0.667599  0.375435  0.319387  0.260240\n",
       "75          NaN NaN NaN  0.813961  0.776705  0.385992  0.265994  0.186898\n",
       "80          NaN NaN NaN  0.507409  0.834452  0.473574  0.359017  0.391413\n",
       "85          NaN NaN NaN  0.507409  0.978348  0.627535  0.513788  0.461078"
      ]
     },
     "execution_count": 135,
     "metadata": {},
     "output_type": "execute_result"
    }
   ],
   "source": [
    "hm"
   ]
  },
  {
   "cell_type": "code",
   "execution_count": 138,
   "id": "5e91895e",
   "metadata": {},
   "outputs": [
    {
     "data": {
      "image/png": "[encoded data removed]",
      "text/plain": [
       "<Figure size 640x480 with 2 Axes>"
      ]
     },
     "metadata": {},
     "output_type": "display_data"
    }
   ],
   "source": [
    "sns.heatmap(hm, annot=True, cmap='viridis')\n",
    "plt.show()"
   ]
  },
  {
   "cell_type": "markdown",
   "id": "c118ef95",
   "metadata": {},
   "source": [
    "`lower_bound=25, upper_bound=85` gives the best `Sharpe Ratio=0.98`"
   ]
  },
  {
   "cell_type": "code",
   "execution_count": 139,
   "id": "0dbd9e02",
   "metadata": {},
   "outputs": [],
   "source": [
    "# stats.to_frame()"
   ]
  },
  {
   "cell_type": "markdown",
   "id": "243af2f8",
   "metadata": {},
   "source": [
    "## heatmap for multiple tuning params"
   ]
  },
  {
   "cell_type": "code",
   "execution_count": 143,
   "id": "1bab4d9f",
   "metadata": {},
   "outputs": [
    {
     "name": "stderr",
     "output_type": "stream",
     "text": [
      "/Users/lusong/miniconda3/envs/m1quant/lib/python3.10/site-packages/backtesting/backtesting.py:1488: UserWarning: Searching for best of 490 configurations.\n",
      "  output = _optimize_grid()\n",
      "/Users/lusong/miniconda3/envs/m1quant/lib/python3.10/site-packages/backtesting/backtesting.py:1375: UserWarning: For multiprocessing support in `Backtest.optimize()` set multiprocessing start method to 'fork'.\n",
      "  warnings.warn(\"For multiprocessing support in `Backtest.optimize()` \"\n",
      "                                                                                                          \r"
     ]
    }
   ],
   "source": [
    "stats, heatmap = bt.optimize(\n",
    "    upper_bound = range(55, 90, 5),\n",
    "    lower_bound = range(10, 45, 5),\n",
    "    rsi_window = range(10, 30, 2),\n",
    "    maximize='Sharpe Ratio',\n",
    "#     max_tries=100,\n",
    "    return_heatmap=True\n",
    ")"
   ]
  },
  {
   "cell_type": "code",
   "execution_count": 145,
   "id": "f42e6b6f",
   "metadata": {},
   "outputs": [
    {
     "data": {
      "text/html": [
       "<div style=\"display: table;\"><div style=\"display: table-row;\"><div style=\"display: table-cell;\"><b title=\"bokeh.models.plots.GridPlot\">GridPlot</b>(</div><div style=\"display: table-cell;\">id&nbsp;=&nbsp;'p11950', <span id=\"p12170\" style=\"cursor: pointer;\">&hellip;)</span></div></div><div class=\"p12169\" style=\"display: none;\"><div style=\"display: table-cell;\"></div><div style=\"display: table-cell;\">align&nbsp;=&nbsp;'auto',</div></div><div class=\"p12169\" style=\"display: none;\"><div style=\"display: table-cell;\"></div><div style=\"display: table-cell;\">aspect_ratio&nbsp;=&nbsp;None,</div></div><div class=\"p12169\" style=\"display: none;\"><div style=\"display: table-cell;\"></div><div style=\"display: table-cell;\">children&nbsp;=&nbsp;[(figure(id='p11742', ...), 0, 0), (figure(id='p11794', ...), 0, 1), (figure(id='p11846', ...), 0, 2)],</div></div><div class=\"p12169\" style=\"display: none;\"><div style=\"display: table-cell;\"></div><div style=\"display: table-cell;\">cols&nbsp;=&nbsp;None,</div></div><div class=\"p12169\" style=\"display: none;\"><div style=\"display: table-cell;\"></div><div style=\"display: table-cell;\">context_menu&nbsp;=&nbsp;None,</div></div><div class=\"p12169\" style=\"display: none;\"><div style=\"display: table-cell;\"></div><div style=\"display: table-cell;\">css_classes&nbsp;=&nbsp;[],</div></div><div class=\"p12169\" style=\"display: none;\"><div style=\"display: table-cell;\"></div><div style=\"display: table-cell;\">disabled&nbsp;=&nbsp;False,</div></div><div class=\"p12169\" style=\"display: none;\"><div style=\"display: table-cell;\"></div><div style=\"display: table-cell;\">flow_mode&nbsp;=&nbsp;'block',</div></div><div class=\"p12169\" style=\"display: none;\"><div style=\"display: table-cell;\"></div><div style=\"display: table-cell;\">height&nbsp;=&nbsp;None,</div></div><div class=\"p12169\" style=\"display: none;\"><div style=\"display: table-cell;\"></div><div style=\"display: table-cell;\">height_policy&nbsp;=&nbsp;'auto',</div></div><div class=\"p12169\" style=\"display: none;\"><div style=\"display: table-cell;\"></div><div style=\"display: table-cell;\">js_event_callbacks&nbsp;=&nbsp;{},</div></div><div class=\"p12169\" style=\"display: none;\"><div style=\"display: table-cell;\"></div><div style=\"display: table-cell;\">js_property_callbacks&nbsp;=&nbsp;{},</div></div><div class=\"p12169\" style=\"display: none;\"><div style=\"display: table-cell;\"></div><div style=\"display: table-cell;\">margin&nbsp;=&nbsp;None,</div></div><div class=\"p12169\" style=\"display: none;\"><div style=\"display: table-cell;\"></div><div style=\"display: table-cell;\">max_height&nbsp;=&nbsp;None,</div></div><div class=\"p12169\" style=\"display: none;\"><div style=\"display: table-cell;\"></div><div style=\"display: table-cell;\">max_width&nbsp;=&nbsp;None,</div></div><div class=\"p12169\" style=\"display: none;\"><div style=\"display: table-cell;\"></div><div style=\"display: table-cell;\">min_height&nbsp;=&nbsp;None,</div></div><div class=\"p12169\" style=\"display: none;\"><div style=\"display: table-cell;\"></div><div style=\"display: table-cell;\">min_width&nbsp;=&nbsp;None,</div></div><div class=\"p12169\" style=\"display: none;\"><div style=\"display: table-cell;\"></div><div style=\"display: table-cell;\">name&nbsp;=&nbsp;None,</div></div><div class=\"p12169\" style=\"display: none;\"><div style=\"display: table-cell;\"></div><div style=\"display: table-cell;\">resizable&nbsp;=&nbsp;False,</div></div><div class=\"p12169\" style=\"display: none;\"><div style=\"display: table-cell;\"></div><div style=\"display: table-cell;\">rows&nbsp;=&nbsp;None,</div></div><div class=\"p12169\" style=\"display: none;\"><div style=\"display: table-cell;\"></div><div style=\"display: table-cell;\">sizing_mode&nbsp;=&nbsp;None,</div></div><div class=\"p12169\" style=\"display: none;\"><div style=\"display: table-cell;\"></div><div style=\"display: table-cell;\">spacing&nbsp;=&nbsp;0,</div></div><div class=\"p12169\" style=\"display: none;\"><div style=\"display: table-cell;\"></div><div style=\"display: table-cell;\">styles&nbsp;=&nbsp;{},</div></div><div class=\"p12169\" style=\"display: none;\"><div style=\"display: table-cell;\"></div><div style=\"display: table-cell;\">stylesheets&nbsp;=&nbsp;[],</div></div><div class=\"p12169\" style=\"display: none;\"><div style=\"display: table-cell;\"></div><div style=\"display: table-cell;\">subscribed_events&nbsp;=&nbsp;PropertyValueSet(),</div></div><div class=\"p12169\" style=\"display: none;\"><div style=\"display: table-cell;\"></div><div style=\"display: table-cell;\">syncable&nbsp;=&nbsp;True,</div></div><div class=\"p12169\" style=\"display: none;\"><div style=\"display: table-cell;\"></div><div style=\"display: table-cell;\">tags&nbsp;=&nbsp;[],</div></div><div class=\"p12169\" style=\"display: none;\"><div style=\"display: table-cell;\"></div><div style=\"display: table-cell;\">toolbar&nbsp;=&nbsp;Toolbar(id='p11949', ...),</div></div><div class=\"p12169\" style=\"display: none;\"><div style=\"display: table-cell;\"></div><div style=\"display: table-cell;\">toolbar_location&nbsp;=&nbsp;'above',</div></div><div class=\"p12169\" style=\"display: none;\"><div style=\"display: table-cell;\"></div><div style=\"display: table-cell;\">visible&nbsp;=&nbsp;True,</div></div><div class=\"p12169\" style=\"display: none;\"><div style=\"display: table-cell;\"></div><div style=\"display: table-cell;\">width&nbsp;=&nbsp;None,</div></div><div class=\"p12169\" style=\"display: none;\"><div style=\"display: table-cell;\"></div><div style=\"display: table-cell;\">width_policy&nbsp;=&nbsp;'auto')</div></div></div>\n",
       "<script>\n",
       "(function() {\n",
       "  let expanded = false;\n",
       "  const ellipsis = document.getElementById(\"p12170\");\n",
       "  ellipsis.addEventListener(\"click\", function() {\n",
       "    const rows = document.getElementsByClassName(\"p12169\");\n",
       "    for (let i = 0; i < rows.length; i++) {\n",
       "      const el = rows[i];\n",
       "      el.style.display = expanded ? \"none\" : \"table-row\";\n",
       "    }\n",
       "    ellipsis.innerHTML = expanded ? \"&hellip;)\" : \"&lsaquo;&lsaquo;&lsaquo;\";\n",
       "    expanded = !expanded;\n",
       "  });\n",
       "})();\n",
       "</script>\n"
      ],
      "text/plain": [
       "GridPlot(id='p11950', ...)"
      ]
     },
     "execution_count": 145,
     "metadata": {},
     "output_type": "execute_result"
    }
   ],
   "source": [
    "plot_heatmaps(heatmap, agg='mean', filename=os.path.join(\n",
    "    'plots', 'heatmaps.html'))"
   ]
  },
  {
   "cell_type": "markdown",
   "id": "c85b9dba",
   "metadata": {},
   "source": [
    "## Multi-timeframe strategies\n",
    "* SMA and RSI"
   ]
  },
  {
   "cell_type": "code",
   "execution_count": 247,
   "id": "8726d075",
   "metadata": {},
   "outputs": [],
   "source": [
    "class RsiOscillatorMultitimeframe(Strategy):\n",
    "    upper_bound = 70\n",
    "    lower_bound = 30\n",
    "    rsi_window = 14\n",
    "    sma_s_window = 3\n",
    "    sma_l_window = 12\n",
    "\n",
    "    def init(self):\n",
    "        self.daily_rsi = self.I(\n",
    "            talib.RSI,\n",
    "            self.data.Close,\n",
    "            self.rsi_window\n",
    "        )\n",
    "#         self.weekly_rsi = resample_apply(\n",
    "#             'W-FRI', talib.RSI, self.data.Close,\n",
    "#             self.rsi_window\n",
    "#         )\n",
    "\n",
    "        self.sma_s = self.I(\n",
    "            talib.SMA,\n",
    "            self.data.Close,\n",
    "            self.sma_s_window\n",
    "        )\n",
    "        self.sma_l = self.I(\n",
    "            talib.SMA,\n",
    "            self.data.Close,\n",
    "            self.sma_l_window\n",
    "        )\n",
    "\n",
    "    def next(self):\n",
    "        if all([\n",
    "            crossover(self.daily_rsi, self.upper_bound),\n",
    "            self.sma_l[-1] > self.sma_s[-1]\n",
    "#             crossover(self.sma_l, self.sma_s)\n",
    "        ]):\n",
    "            self.position.close()\n",
    "        elif all([\n",
    "            crossover(self.lower_bound, self.daily_rsi),\n",
    "            self.sma_l[-1] < self.sma_s[-1]\n",
    "#             crossover(self.sma_s, self.sma_l)\n",
    "        ]):\n",
    "            self.buy()"
   ]
  },
  {
   "cell_type": "code",
   "execution_count": 248,
   "id": "82e5439a",
   "metadata": {},
   "outputs": [
    {
     "data": {
      "text/html": [
       "<div>\n",
       "<style scoped>\n",
       "    .dataframe tbody tr th:only-of-type {\n",
       "        vertical-align: middle;\n",
       "    }\n",
       "\n",
       "    .dataframe tbody tr th {\n",
       "        vertical-align: top;\n",
       "    }\n",
       "\n",
       "    .dataframe thead th {\n",
       "        text-align: right;\n",
       "    }\n",
       "</style>\n",
       "<table border=\"1\" class=\"dataframe\">\n",
       "  <thead>\n",
       "    <tr style=\"text-align: right;\">\n",
       "      <th></th>\n",
       "      <th>Open</th>\n",
       "      <th>High</th>\n",
       "      <th>Low</th>\n",
       "      <th>Close</th>\n",
       "      <th>Volume</th>\n",
       "      <th>Dividends</th>\n",
       "      <th>Stock Splits</th>\n",
       "    </tr>\n",
       "    <tr>\n",
       "      <th>Date</th>\n",
       "      <th></th>\n",
       "      <th></th>\n",
       "      <th></th>\n",
       "      <th></th>\n",
       "      <th></th>\n",
       "      <th></th>\n",
       "      <th></th>\n",
       "    </tr>\n",
       "  </thead>\n",
       "  <tbody>\n",
       "    <tr>\n",
       "      <th>2018-04-09 00:00:00-04:00</th>\n",
       "      <td>20.024668</td>\n",
       "      <td>20.633333</td>\n",
       "      <td>19.280666</td>\n",
       "      <td>19.310667</td>\n",
       "      <td>153747000</td>\n",
       "      <td>0.0</td>\n",
       "      <td>0.0</td>\n",
       "    </tr>\n",
       "    <tr>\n",
       "      <th>2018-04-10 00:00:00-04:00</th>\n",
       "      <td>19.931334</td>\n",
       "      <td>20.473333</td>\n",
       "      <td>19.578667</td>\n",
       "      <td>20.313334</td>\n",
       "      <td>164847000</td>\n",
       "      <td>0.0</td>\n",
       "      <td>0.0</td>\n",
       "    </tr>\n",
       "    <tr>\n",
       "      <th>2018-04-11 00:00:00-04:00</th>\n",
       "      <td>20.049334</td>\n",
       "      <td>20.598667</td>\n",
       "      <td>19.977333</td>\n",
       "      <td>20.062000</td>\n",
       "      <td>112243500</td>\n",
       "      <td>0.0</td>\n",
       "      <td>0.0</td>\n",
       "    </tr>\n",
       "  </tbody>\n",
       "</table>\n",
       "</div>"
      ],
      "text/plain": [
       "                                Open       High  ...  Dividends  Stock Splits\n",
       "Date                                             ...                         \n",
       "2018-04-09 00:00:00-04:00  20.024668  20.633333  ...        0.0           0.0\n",
       "2018-04-10 00:00:00-04:00  19.931334  20.473333  ...        0.0           0.0\n",
       "2018-04-11 00:00:00-04:00  20.049334  20.598667  ...        0.0           0.0\n",
       "\n",
       "[3 rows x 7 columns]"
      ]
     },
     "execution_count": 248,
     "metadata": {},
     "output_type": "execute_result"
    }
   ],
   "source": [
    "TSLA = yf.Ticker(\"TSLA\").history(period=\"5y\")\n",
    "TSLA.head(3)"
   ]
  },
  {
   "cell_type": "code",
   "execution_count": 249,
   "id": "5acdff23",
   "metadata": {},
   "outputs": [
    {
     "name": "stderr",
     "output_type": "stream",
     "text": [
      "/Users/lusong/miniconda3/envs/m1quant/lib/python3.10/site-packages/backtesting/backtesting.py:1488: UserWarning: Searching for best of 1080 configurations.\n",
      "  output = _optimize_grid()\n",
      "/Users/lusong/miniconda3/envs/m1quant/lib/python3.10/site-packages/backtesting/backtesting.py:1375: UserWarning: For multiprocessing support in `Backtest.optimize()` set multiprocessing start method to 'fork'.\n",
      "  warnings.warn(\"For multiprocessing support in `Backtest.optimize()` \"\n",
      "                                                                                                          \r"
     ]
    }
   ],
   "source": [
    "bt = Backtest(\n",
    "    TSLA,\n",
    "    RsiOscillatorMultitimeframe,\n",
    "    cash=10_000\n",
    ")\n",
    "\n",
    "stats = bt.optimize(\n",
    "    upper_bound=range(60, 90, 5),\n",
    "    lower_bound=range(15, 45, 5),\n",
    "    rsi_window=range(6, 24, 3),\n",
    "    sma_l_window=range(10, 24, 3),\n",
    "    maximize='Sortino Ratio',\n",
    ")"
   ]
  },
  {
   "cell_type": "code",
   "execution_count": 252,
   "id": "b5e73133",
   "metadata": {},
   "outputs": [],
   "source": [
    "# stats.to_frame()"
   ]
  },
  {
   "cell_type": "code",
   "execution_count": 251,
   "id": "fb35fba8",
   "metadata": {},
   "outputs": [
    {
     "name": "stderr",
     "output_type": "stream",
     "text": [
      "/Users/lusong/miniconda3/envs/m1quant/lib/python3.10/site-packages/backtesting/_plotting.py:250: UserWarning: DatetimeFormatter scales now only accept a single format. Using the first provided: '%d %b'\n",
      "  formatter=DatetimeTickFormatter(days=['%d %b', '%a %d'],\n",
      "/Users/lusong/miniconda3/envs/m1quant/lib/python3.10/site-packages/backtesting/_plotting.py:250: UserWarning: DatetimeFormatter scales now only accept a single format. Using the first provided: '%m/%Y'\n",
      "  formatter=DatetimeTickFormatter(days=['%d %b', '%a %d'],\n"
     ]
    },
    {
     "data": {
      "text/html": [
       "<div style=\"display: table;\"><div style=\"display: table-row;\"><div style=\"display: table-cell;\"><b title=\"bokeh.models.plots.GridPlot\">GridPlot</b>(</div><div style=\"display: table-cell;\">id&nbsp;=&nbsp;'p25819', <span id=\"p26404\" style=\"cursor: pointer;\">&hellip;)</span></div></div><div class=\"p26403\" style=\"display: none;\"><div style=\"display: table-cell;\"></div><div style=\"display: table-cell;\">align&nbsp;=&nbsp;'auto',</div></div><div class=\"p26403\" style=\"display: none;\"><div style=\"display: table-cell;\"></div><div style=\"display: table-cell;\">aspect_ratio&nbsp;=&nbsp;None,</div></div><div class=\"p26403\" style=\"display: none;\"><div style=\"display: table-cell;\"></div><div style=\"display: table-cell;\">children&nbsp;=&nbsp;[(figure(id='p25289', ...), 0, 0), (figure(id='p25402', ...), 1, 0), (figure(id='p25230', ...), 2, 0), (figure(id='p25474', ...), 3, 0), (figure(id='p25586', ...), 4, 0)],</div></div><div class=\"p26403\" style=\"display: none;\"><div style=\"display: table-cell;\"></div><div style=\"display: table-cell;\">cols&nbsp;=&nbsp;None,</div></div><div class=\"p26403\" style=\"display: none;\"><div style=\"display: table-cell;\"></div><div style=\"display: table-cell;\">context_menu&nbsp;=&nbsp;None,</div></div><div class=\"p26403\" style=\"display: none;\"><div style=\"display: table-cell;\"></div><div style=\"display: table-cell;\">css_classes&nbsp;=&nbsp;[],</div></div><div class=\"p26403\" style=\"display: none;\"><div style=\"display: table-cell;\"></div><div style=\"display: table-cell;\">disabled&nbsp;=&nbsp;False,</div></div><div class=\"p26403\" style=\"display: none;\"><div style=\"display: table-cell;\"></div><div style=\"display: table-cell;\">flow_mode&nbsp;=&nbsp;'block',</div></div><div class=\"p26403\" style=\"display: none;\"><div style=\"display: table-cell;\"></div><div style=\"display: table-cell;\">height&nbsp;=&nbsp;None,</div></div><div class=\"p26403\" style=\"display: none;\"><div style=\"display: table-cell;\"></div><div style=\"display: table-cell;\">height_policy&nbsp;=&nbsp;'auto',</div></div><div class=\"p26403\" style=\"display: none;\"><div style=\"display: table-cell;\"></div><div style=\"display: table-cell;\">js_event_callbacks&nbsp;=&nbsp;{},</div></div><div class=\"p26403\" style=\"display: none;\"><div style=\"display: table-cell;\"></div><div style=\"display: table-cell;\">js_property_callbacks&nbsp;=&nbsp;{},</div></div><div class=\"p26403\" style=\"display: none;\"><div style=\"display: table-cell;\"></div><div style=\"display: table-cell;\">margin&nbsp;=&nbsp;None,</div></div><div class=\"p26403\" style=\"display: none;\"><div style=\"display: table-cell;\"></div><div style=\"display: table-cell;\">max_height&nbsp;=&nbsp;None,</div></div><div class=\"p26403\" style=\"display: none;\"><div style=\"display: table-cell;\"></div><div style=\"display: table-cell;\">max_width&nbsp;=&nbsp;None,</div></div><div class=\"p26403\" style=\"display: none;\"><div style=\"display: table-cell;\"></div><div style=\"display: table-cell;\">min_height&nbsp;=&nbsp;None,</div></div><div class=\"p26403\" style=\"display: none;\"><div style=\"display: table-cell;\"></div><div style=\"display: table-cell;\">min_width&nbsp;=&nbsp;None,</div></div><div class=\"p26403\" style=\"display: none;\"><div style=\"display: table-cell;\"></div><div style=\"display: table-cell;\">name&nbsp;=&nbsp;None,</div></div><div class=\"p26403\" style=\"display: none;\"><div style=\"display: table-cell;\"></div><div style=\"display: table-cell;\">resizable&nbsp;=&nbsp;False,</div></div><div class=\"p26403\" style=\"display: none;\"><div style=\"display: table-cell;\"></div><div style=\"display: table-cell;\">rows&nbsp;=&nbsp;None,</div></div><div class=\"p26403\" style=\"display: none;\"><div style=\"display: table-cell;\"></div><div style=\"display: table-cell;\">sizing_mode&nbsp;=&nbsp;'stretch_width',</div></div><div class=\"p26403\" style=\"display: none;\"><div style=\"display: table-cell;\"></div><div style=\"display: table-cell;\">spacing&nbsp;=&nbsp;0,</div></div><div class=\"p26403\" style=\"display: none;\"><div style=\"display: table-cell;\"></div><div style=\"display: table-cell;\">styles&nbsp;=&nbsp;{},</div></div><div class=\"p26403\" style=\"display: none;\"><div style=\"display: table-cell;\"></div><div style=\"display: table-cell;\">stylesheets&nbsp;=&nbsp;[],</div></div><div class=\"p26403\" style=\"display: none;\"><div style=\"display: table-cell;\"></div><div style=\"display: table-cell;\">subscribed_events&nbsp;=&nbsp;PropertyValueSet(),</div></div><div class=\"p26403\" style=\"display: none;\"><div style=\"display: table-cell;\"></div><div style=\"display: table-cell;\">syncable&nbsp;=&nbsp;True,</div></div><div class=\"p26403\" style=\"display: none;\"><div style=\"display: table-cell;\"></div><div style=\"display: table-cell;\">tags&nbsp;=&nbsp;[],</div></div><div class=\"p26403\" style=\"display: none;\"><div style=\"display: table-cell;\"></div><div style=\"display: table-cell;\">toolbar&nbsp;=&nbsp;Toolbar(id='p25818', ...),</div></div><div class=\"p26403\" style=\"display: none;\"><div style=\"display: table-cell;\"></div><div style=\"display: table-cell;\">toolbar_location&nbsp;=&nbsp;'right',</div></div><div class=\"p26403\" style=\"display: none;\"><div style=\"display: table-cell;\"></div><div style=\"display: table-cell;\">visible&nbsp;=&nbsp;True,</div></div><div class=\"p26403\" style=\"display: none;\"><div style=\"display: table-cell;\"></div><div style=\"display: table-cell;\">width&nbsp;=&nbsp;None,</div></div><div class=\"p26403\" style=\"display: none;\"><div style=\"display: table-cell;\"></div><div style=\"display: table-cell;\">width_policy&nbsp;=&nbsp;'auto')</div></div></div>\n",
       "<script>\n",
       "(function() {\n",
       "  let expanded = false;\n",
       "  const ellipsis = document.getElementById(\"p26404\");\n",
       "  ellipsis.addEventListener(\"click\", function() {\n",
       "    const rows = document.getElementsByClassName(\"p26403\");\n",
       "    for (let i = 0; i < rows.length; i++) {\n",
       "      const el = rows[i];\n",
       "      el.style.display = expanded ? \"none\" : \"table-row\";\n",
       "    }\n",
       "    ellipsis.innerHTML = expanded ? \"&hellip;)\" : \"&lsaquo;&lsaquo;&lsaquo;\";\n",
       "    expanded = !expanded;\n",
       "  });\n",
       "})();\n",
       "</script>\n"
      ],
      "text/plain": [
       "GridPlot(id='p25819', ...)"
      ]
     },
     "execution_count": 251,
     "metadata": {},
     "output_type": "execute_result"
    }
   ],
   "source": [
    "bt.plot(filename=os.path.join('plots',\n",
    "                              'RsiOscillatorMultitimeframe.html'))"
   ]
  },
  {
   "cell_type": "markdown",
   "id": "cda287cf",
   "metadata": {},
   "source": [
    "## Shorting"
   ]
  },
  {
   "cell_type": "code",
   "execution_count": 223,
   "id": "1d0a7513",
   "metadata": {},
   "outputs": [
    {
     "data": {
      "text/html": [
       "<div>\n",
       "<style scoped>\n",
       "    .dataframe tbody tr th:only-of-type {\n",
       "        vertical-align: middle;\n",
       "    }\n",
       "\n",
       "    .dataframe tbody tr th {\n",
       "        vertical-align: top;\n",
       "    }\n",
       "\n",
       "    .dataframe thead th {\n",
       "        text-align: right;\n",
       "    }\n",
       "</style>\n",
       "<table border=\"1\" class=\"dataframe\">\n",
       "  <thead>\n",
       "    <tr style=\"text-align: right;\">\n",
       "      <th></th>\n",
       "      <th>Open</th>\n",
       "      <th>High</th>\n",
       "      <th>Low</th>\n",
       "      <th>Close</th>\n",
       "      <th>Volume</th>\n",
       "      <th>Dividends</th>\n",
       "      <th>Stock Splits</th>\n",
       "    </tr>\n",
       "    <tr>\n",
       "      <th>Date</th>\n",
       "      <th></th>\n",
       "      <th></th>\n",
       "      <th></th>\n",
       "      <th></th>\n",
       "      <th></th>\n",
       "      <th></th>\n",
       "      <th></th>\n",
       "    </tr>\n",
       "  </thead>\n",
       "  <tbody>\n",
       "    <tr>\n",
       "      <th>2018-04-09 00:00:00-04:00</th>\n",
       "      <td>40.487545</td>\n",
       "      <td>41.252583</td>\n",
       "      <td>40.480396</td>\n",
       "      <td>40.528061</td>\n",
       "      <td>116070800</td>\n",
       "      <td>0.0</td>\n",
       "      <td>0.0</td>\n",
       "    </tr>\n",
       "    <tr>\n",
       "      <th>2018-04-10 00:00:00-04:00</th>\n",
       "      <td>41.231139</td>\n",
       "      <td>41.469470</td>\n",
       "      <td>40.880794</td>\n",
       "      <td>41.290722</td>\n",
       "      <td>113634400</td>\n",
       "      <td>0.0</td>\n",
       "      <td>0.0</td>\n",
       "    </tr>\n",
       "    <tr>\n",
       "      <th>2018-04-11 00:00:00-04:00</th>\n",
       "      <td>41.047624</td>\n",
       "      <td>41.450403</td>\n",
       "      <td>40.921310</td>\n",
       "      <td>41.097675</td>\n",
       "      <td>89726400</td>\n",
       "      <td>0.0</td>\n",
       "      <td>0.0</td>\n",
       "    </tr>\n",
       "  </tbody>\n",
       "</table>\n",
       "</div>"
      ],
      "text/plain": [
       "                                Open       High  ...  Dividends  Stock Splits\n",
       "Date                                             ...                         \n",
       "2018-04-09 00:00:00-04:00  40.487545  41.252583  ...        0.0           0.0\n",
       "2018-04-10 00:00:00-04:00  41.231139  41.469470  ...        0.0           0.0\n",
       "2018-04-11 00:00:00-04:00  41.047624  41.450403  ...        0.0           0.0\n",
       "\n",
       "[3 rows x 7 columns]"
      ]
     },
     "execution_count": 223,
     "metadata": {},
     "output_type": "execute_result"
    }
   ],
   "source": [
    "AAPL = yf.Ticker(\"AAPL\").history(period=\"5y\")\n",
    "AAPL.head(3)"
   ]
  },
  {
   "cell_type": "code",
   "execution_count": 231,
   "id": "ad09109d",
   "metadata": {},
   "outputs": [],
   "source": [
    "class RsiOscillatorLongShort(Strategy):\n",
    "    upper_bound = 70\n",
    "    lower_bound = 30\n",
    "    rsi_window = 14\n",
    "\n",
    "    def init(self):\n",
    "        self.daily_rsi = self.I(\n",
    "            talib.RSI,\n",
    "            self.data.Close,\n",
    "            self.rsi_window\n",
    "        )\n",
    "\n",
    "    def next(self):\n",
    "        if crossover(self.daily_rsi, self.upper_bound):\n",
    "            if self.position.is_long:\n",
    "#                 print(self.position)\n",
    "                self.position.close()\n",
    "                self.sell()\n",
    "        elif crossover(self.lower_bound, self.daily_rsi):\n",
    "            if self.position.is_short or not self.position:\n",
    "#                 print(self.position)\n",
    "                self.position.close()\n",
    "                self.buy()"
   ]
  },
  {
   "cell_type": "code",
   "execution_count": 232,
   "id": "a22169a5",
   "metadata": {},
   "outputs": [],
   "source": [
    "bt = Backtest(\n",
    "    AAPL,\n",
    "    RsiOscillatorLongShort,\n",
    "    cash=10_000\n",
    ")\n",
    "\n",
    "stats = bt.run()"
   ]
  },
  {
   "cell_type": "code",
   "execution_count": 233,
   "id": "8298d479",
   "metadata": {},
   "outputs": [
    {
     "name": "stderr",
     "output_type": "stream",
     "text": [
      "/Users/lusong/miniconda3/envs/m1quant/lib/python3.10/site-packages/backtesting/_plotting.py:250: UserWarning: DatetimeFormatter scales now only accept a single format. Using the first provided: '%d %b'\n",
      "  formatter=DatetimeTickFormatter(days=['%d %b', '%a %d'],\n",
      "/Users/lusong/miniconda3/envs/m1quant/lib/python3.10/site-packages/backtesting/_plotting.py:250: UserWarning: DatetimeFormatter scales now only accept a single format. Using the first provided: '%m/%Y'\n",
      "  formatter=DatetimeTickFormatter(days=['%d %b', '%a %d'],\n"
     ]
    },
    {
     "data": {
      "text/html": [
       "<div style=\"display: table;\"><div style=\"display: table-row;\"><div style=\"display: table-cell;\"><b title=\"bokeh.models.plots.GridPlot\">GridPlot</b>(</div><div style=\"display: table-cell;\">id&nbsp;=&nbsp;'p22394', <span id=\"p22941\" style=\"cursor: pointer;\">&hellip;)</span></div></div><div class=\"p22940\" style=\"display: none;\"><div style=\"display: table-cell;\"></div><div style=\"display: table-cell;\">align&nbsp;=&nbsp;'auto',</div></div><div class=\"p22940\" style=\"display: none;\"><div style=\"display: table-cell;\"></div><div style=\"display: table-cell;\">aspect_ratio&nbsp;=&nbsp;None,</div></div><div class=\"p22940\" style=\"display: none;\"><div style=\"display: table-cell;\"></div><div style=\"display: table-cell;\">children&nbsp;=&nbsp;[(figure(id='p21891', ...), 0, 0), (figure(id='p22004', ...), 1, 0), (figure(id='p21832', ...), 2, 0), (figure(id='p22076', ...), 3, 0), (figure(id='p22188', ...), 4, 0)],</div></div><div class=\"p22940\" style=\"display: none;\"><div style=\"display: table-cell;\"></div><div style=\"display: table-cell;\">cols&nbsp;=&nbsp;None,</div></div><div class=\"p22940\" style=\"display: none;\"><div style=\"display: table-cell;\"></div><div style=\"display: table-cell;\">context_menu&nbsp;=&nbsp;None,</div></div><div class=\"p22940\" style=\"display: none;\"><div style=\"display: table-cell;\"></div><div style=\"display: table-cell;\">css_classes&nbsp;=&nbsp;[],</div></div><div class=\"p22940\" style=\"display: none;\"><div style=\"display: table-cell;\"></div><div style=\"display: table-cell;\">disabled&nbsp;=&nbsp;False,</div></div><div class=\"p22940\" style=\"display: none;\"><div style=\"display: table-cell;\"></div><div style=\"display: table-cell;\">flow_mode&nbsp;=&nbsp;'block',</div></div><div class=\"p22940\" style=\"display: none;\"><div style=\"display: table-cell;\"></div><div style=\"display: table-cell;\">height&nbsp;=&nbsp;None,</div></div><div class=\"p22940\" style=\"display: none;\"><div style=\"display: table-cell;\"></div><div style=\"display: table-cell;\">height_policy&nbsp;=&nbsp;'auto',</div></div><div class=\"p22940\" style=\"display: none;\"><div style=\"display: table-cell;\"></div><div style=\"display: table-cell;\">js_event_callbacks&nbsp;=&nbsp;{},</div></div><div class=\"p22940\" style=\"display: none;\"><div style=\"display: table-cell;\"></div><div style=\"display: table-cell;\">js_property_callbacks&nbsp;=&nbsp;{},</div></div><div class=\"p22940\" style=\"display: none;\"><div style=\"display: table-cell;\"></div><div style=\"display: table-cell;\">margin&nbsp;=&nbsp;None,</div></div><div class=\"p22940\" style=\"display: none;\"><div style=\"display: table-cell;\"></div><div style=\"display: table-cell;\">max_height&nbsp;=&nbsp;None,</div></div><div class=\"p22940\" style=\"display: none;\"><div style=\"display: table-cell;\"></div><div style=\"display: table-cell;\">max_width&nbsp;=&nbsp;None,</div></div><div class=\"p22940\" style=\"display: none;\"><div style=\"display: table-cell;\"></div><div style=\"display: table-cell;\">min_height&nbsp;=&nbsp;None,</div></div><div class=\"p22940\" style=\"display: none;\"><div style=\"display: table-cell;\"></div><div style=\"display: table-cell;\">min_width&nbsp;=&nbsp;None,</div></div><div class=\"p22940\" style=\"display: none;\"><div style=\"display: table-cell;\"></div><div style=\"display: table-cell;\">name&nbsp;=&nbsp;None,</div></div><div class=\"p22940\" style=\"display: none;\"><div style=\"display: table-cell;\"></div><div style=\"display: table-cell;\">resizable&nbsp;=&nbsp;False,</div></div><div class=\"p22940\" style=\"display: none;\"><div style=\"display: table-cell;\"></div><div style=\"display: table-cell;\">rows&nbsp;=&nbsp;None,</div></div><div class=\"p22940\" style=\"display: none;\"><div style=\"display: table-cell;\"></div><div style=\"display: table-cell;\">sizing_mode&nbsp;=&nbsp;'stretch_width',</div></div><div class=\"p22940\" style=\"display: none;\"><div style=\"display: table-cell;\"></div><div style=\"display: table-cell;\">spacing&nbsp;=&nbsp;0,</div></div><div class=\"p22940\" style=\"display: none;\"><div style=\"display: table-cell;\"></div><div style=\"display: table-cell;\">styles&nbsp;=&nbsp;{},</div></div><div class=\"p22940\" style=\"display: none;\"><div style=\"display: table-cell;\"></div><div style=\"display: table-cell;\">stylesheets&nbsp;=&nbsp;[],</div></div><div class=\"p22940\" style=\"display: none;\"><div style=\"display: table-cell;\"></div><div style=\"display: table-cell;\">subscribed_events&nbsp;=&nbsp;PropertyValueSet(),</div></div><div class=\"p22940\" style=\"display: none;\"><div style=\"display: table-cell;\"></div><div style=\"display: table-cell;\">syncable&nbsp;=&nbsp;True,</div></div><div class=\"p22940\" style=\"display: none;\"><div style=\"display: table-cell;\"></div><div style=\"display: table-cell;\">tags&nbsp;=&nbsp;[],</div></div><div class=\"p22940\" style=\"display: none;\"><div style=\"display: table-cell;\"></div><div style=\"display: table-cell;\">toolbar&nbsp;=&nbsp;Toolbar(id='p22393', ...),</div></div><div class=\"p22940\" style=\"display: none;\"><div style=\"display: table-cell;\"></div><div style=\"display: table-cell;\">toolbar_location&nbsp;=&nbsp;'right',</div></div><div class=\"p22940\" style=\"display: none;\"><div style=\"display: table-cell;\"></div><div style=\"display: table-cell;\">visible&nbsp;=&nbsp;True,</div></div><div class=\"p22940\" style=\"display: none;\"><div style=\"display: table-cell;\"></div><div style=\"display: table-cell;\">width&nbsp;=&nbsp;None,</div></div><div class=\"p22940\" style=\"display: none;\"><div style=\"display: table-cell;\"></div><div style=\"display: table-cell;\">width_policy&nbsp;=&nbsp;'auto')</div></div></div>\n",
       "<script>\n",
       "(function() {\n",
       "  let expanded = false;\n",
       "  const ellipsis = document.getElementById(\"p22941\");\n",
       "  ellipsis.addEventListener(\"click\", function() {\n",
       "    const rows = document.getElementsByClassName(\"p22940\");\n",
       "    for (let i = 0; i < rows.length; i++) {\n",
       "      const el = rows[i];\n",
       "      el.style.display = expanded ? \"none\" : \"table-row\";\n",
       "    }\n",
       "    ellipsis.innerHTML = expanded ? \"&hellip;)\" : \"&lsaquo;&lsaquo;&lsaquo;\";\n",
       "    expanded = !expanded;\n",
       "  });\n",
       "})();\n",
       "</script>\n"
      ],
      "text/plain": [
       "GridPlot(id='p22394', ...)"
      ]
     },
     "execution_count": 233,
     "metadata": {},
     "output_type": "execute_result"
    }
   ],
   "source": [
    "bt.plot(filename=os.path.join('plots',\n",
    "                              'RsiOscillatorLongShort.html'))"
   ]
  },
  {
   "cell_type": "code",
   "execution_count": 234,
   "id": "5d0bf256",
   "metadata": {},
   "outputs": [],
   "source": [
    "# stats.to_frame()"
   ]
  },
  {
   "cell_type": "markdown",
   "id": "ab1b111d",
   "metadata": {},
   "source": [
    "##  Stop loss & Take profit"
   ]
  },
  {
   "cell_type": "code",
   "execution_count": 263,
   "id": "ff4ae975",
   "metadata": {},
   "outputs": [
    {
     "data": {
      "text/html": [
       "<div>\n",
       "<style scoped>\n",
       "    .dataframe tbody tr th:only-of-type {\n",
       "        vertical-align: middle;\n",
       "    }\n",
       "\n",
       "    .dataframe tbody tr th {\n",
       "        vertical-align: top;\n",
       "    }\n",
       "\n",
       "    .dataframe thead th {\n",
       "        text-align: right;\n",
       "    }\n",
       "</style>\n",
       "<table border=\"1\" class=\"dataframe\">\n",
       "  <thead>\n",
       "    <tr style=\"text-align: right;\">\n",
       "      <th></th>\n",
       "      <th>Open</th>\n",
       "      <th>High</th>\n",
       "      <th>Low</th>\n",
       "      <th>Close</th>\n",
       "      <th>Volume</th>\n",
       "      <th>Dividends</th>\n",
       "      <th>Stock Splits</th>\n",
       "    </tr>\n",
       "    <tr>\n",
       "      <th>Date</th>\n",
       "      <th></th>\n",
       "      <th></th>\n",
       "      <th></th>\n",
       "      <th></th>\n",
       "      <th></th>\n",
       "      <th></th>\n",
       "      <th></th>\n",
       "    </tr>\n",
       "  </thead>\n",
       "  <tbody>\n",
       "    <tr>\n",
       "      <th>2018-04-09 00:00:00-04:00</th>\n",
       "      <td>40.487549</td>\n",
       "      <td>41.252587</td>\n",
       "      <td>40.480399</td>\n",
       "      <td>40.528065</td>\n",
       "      <td>116070800</td>\n",
       "      <td>0.0</td>\n",
       "      <td>0.0</td>\n",
       "    </tr>\n",
       "    <tr>\n",
       "      <th>2018-04-10 00:00:00-04:00</th>\n",
       "      <td>41.231136</td>\n",
       "      <td>41.469466</td>\n",
       "      <td>40.880790</td>\n",
       "      <td>41.290718</td>\n",
       "      <td>113634400</td>\n",
       "      <td>0.0</td>\n",
       "      <td>0.0</td>\n",
       "    </tr>\n",
       "    <tr>\n",
       "      <th>2018-04-11 00:00:00-04:00</th>\n",
       "      <td>41.047621</td>\n",
       "      <td>41.450399</td>\n",
       "      <td>40.921306</td>\n",
       "      <td>41.097672</td>\n",
       "      <td>89726400</td>\n",
       "      <td>0.0</td>\n",
       "      <td>0.0</td>\n",
       "    </tr>\n",
       "  </tbody>\n",
       "</table>\n",
       "</div>"
      ],
      "text/plain": [
       "                                Open       High  ...  Dividends  Stock Splits\n",
       "Date                                             ...                         \n",
       "2018-04-09 00:00:00-04:00  40.487549  41.252587  ...        0.0           0.0\n",
       "2018-04-10 00:00:00-04:00  41.231136  41.469466  ...        0.0           0.0\n",
       "2018-04-11 00:00:00-04:00  41.047621  41.450399  ...        0.0           0.0\n",
       "\n",
       "[3 rows x 7 columns]"
      ]
     },
     "execution_count": 263,
     "metadata": {},
     "output_type": "execute_result"
    }
   ],
   "source": [
    "AAPL = yf.Ticker(\"AAPL\").history(period=\"5y\")\n",
    "AAPL.head(3)"
   ]
  },
  {
   "cell_type": "code",
   "execution_count": 276,
   "id": "3d6ae30f",
   "metadata": {},
   "outputs": [],
   "source": [
    "class RsiOscillatorPL(Strategy):\n",
    "    upper_bound = 70\n",
    "    lower_bound = 30\n",
    "    rsi_window = 14\n",
    "\n",
    "    def init(self):\n",
    "        self.daily_rsi = self.I(\n",
    "            talib.RSI,\n",
    "            self.data.Close,\n",
    "            self.rsi_window\n",
    "        )\n",
    "\n",
    "    def next(self):\n",
    "        current_price = self.data.Close[-1]\n",
    "        if crossover(self.daily_rsi, self.upper_bound):\n",
    "            self.position.close()\n",
    "        elif crossover(self.lower_bound, self.daily_rsi):\n",
    "            self.buy(\n",
    "                sl=0.95*current_price,  # stop loss\n",
    "                tp=1.15*current_price,  # take profit\n",
    "            )"
   ]
  },
  {
   "cell_type": "code",
   "execution_count": 277,
   "id": "82b03e18",
   "metadata": {},
   "outputs": [],
   "source": [
    "bt = Backtest(\n",
    "    AAPL,\n",
    "    RsiOscillatorPL,\n",
    "    cash=10_000\n",
    ")\n",
    "\n",
    "stats = bt.run()"
   ]
  },
  {
   "cell_type": "code",
   "execution_count": 278,
   "id": "e287dbec",
   "metadata": {},
   "outputs": [
    {
     "name": "stderr",
     "output_type": "stream",
     "text": [
      "/Users/lusong/miniconda3/envs/m1quant/lib/python3.10/site-packages/backtesting/_plotting.py:250: UserWarning: DatetimeFormatter scales now only accept a single format. Using the first provided: '%d %b'\n",
      "  formatter=DatetimeTickFormatter(days=['%d %b', '%a %d'],\n",
      "/Users/lusong/miniconda3/envs/m1quant/lib/python3.10/site-packages/backtesting/_plotting.py:250: UserWarning: DatetimeFormatter scales now only accept a single format. Using the first provided: '%m/%Y'\n",
      "  formatter=DatetimeTickFormatter(days=['%d %b', '%a %d'],\n"
     ]
    },
    {
     "data": {
      "text/html": [
       "<div style=\"display: table;\"><div style=\"display: table-row;\"><div style=\"display: table-cell;\"><b title=\"bokeh.models.plots.GridPlot\">GridPlot</b>(</div><div style=\"display: table-cell;\">id&nbsp;=&nbsp;'p32523', <span id=\"p33070\" style=\"cursor: pointer;\">&hellip;)</span></div></div><div class=\"p33069\" style=\"display: none;\"><div style=\"display: table-cell;\"></div><div style=\"display: table-cell;\">align&nbsp;=&nbsp;'auto',</div></div><div class=\"p33069\" style=\"display: none;\"><div style=\"display: table-cell;\"></div><div style=\"display: table-cell;\">aspect_ratio&nbsp;=&nbsp;None,</div></div><div class=\"p33069\" style=\"display: none;\"><div style=\"display: table-cell;\"></div><div style=\"display: table-cell;\">children&nbsp;=&nbsp;[(figure(id='p32020', ...), 0, 0), (figure(id='p32133', ...), 1, 0), (figure(id='p31961', ...), 2, 0), (figure(id='p32205', ...), 3, 0), (figure(id='p32317', ...), 4, 0)],</div></div><div class=\"p33069\" style=\"display: none;\"><div style=\"display: table-cell;\"></div><div style=\"display: table-cell;\">cols&nbsp;=&nbsp;None,</div></div><div class=\"p33069\" style=\"display: none;\"><div style=\"display: table-cell;\"></div><div style=\"display: table-cell;\">context_menu&nbsp;=&nbsp;None,</div></div><div class=\"p33069\" style=\"display: none;\"><div style=\"display: table-cell;\"></div><div style=\"display: table-cell;\">css_classes&nbsp;=&nbsp;[],</div></div><div class=\"p33069\" style=\"display: none;\"><div style=\"display: table-cell;\"></div><div style=\"display: table-cell;\">disabled&nbsp;=&nbsp;False,</div></div><div class=\"p33069\" style=\"display: none;\"><div style=\"display: table-cell;\"></div><div style=\"display: table-cell;\">flow_mode&nbsp;=&nbsp;'block',</div></div><div class=\"p33069\" style=\"display: none;\"><div style=\"display: table-cell;\"></div><div style=\"display: table-cell;\">height&nbsp;=&nbsp;None,</div></div><div class=\"p33069\" style=\"display: none;\"><div style=\"display: table-cell;\"></div><div style=\"display: table-cell;\">height_policy&nbsp;=&nbsp;'auto',</div></div><div class=\"p33069\" style=\"display: none;\"><div style=\"display: table-cell;\"></div><div style=\"display: table-cell;\">js_event_callbacks&nbsp;=&nbsp;{},</div></div><div class=\"p33069\" style=\"display: none;\"><div style=\"display: table-cell;\"></div><div style=\"display: table-cell;\">js_property_callbacks&nbsp;=&nbsp;{},</div></div><div class=\"p33069\" style=\"display: none;\"><div style=\"display: table-cell;\"></div><div style=\"display: table-cell;\">margin&nbsp;=&nbsp;None,</div></div><div class=\"p33069\" style=\"display: none;\"><div style=\"display: table-cell;\"></div><div style=\"display: table-cell;\">max_height&nbsp;=&nbsp;None,</div></div><div class=\"p33069\" style=\"display: none;\"><div style=\"display: table-cell;\"></div><div style=\"display: table-cell;\">max_width&nbsp;=&nbsp;None,</div></div><div class=\"p33069\" style=\"display: none;\"><div style=\"display: table-cell;\"></div><div style=\"display: table-cell;\">min_height&nbsp;=&nbsp;None,</div></div><div class=\"p33069\" style=\"display: none;\"><div style=\"display: table-cell;\"></div><div style=\"display: table-cell;\">min_width&nbsp;=&nbsp;None,</div></div><div class=\"p33069\" style=\"display: none;\"><div style=\"display: table-cell;\"></div><div style=\"display: table-cell;\">name&nbsp;=&nbsp;None,</div></div><div class=\"p33069\" style=\"display: none;\"><div style=\"display: table-cell;\"></div><div style=\"display: table-cell;\">resizable&nbsp;=&nbsp;False,</div></div><div class=\"p33069\" style=\"display: none;\"><div style=\"display: table-cell;\"></div><div style=\"display: table-cell;\">rows&nbsp;=&nbsp;None,</div></div><div class=\"p33069\" style=\"display: none;\"><div style=\"display: table-cell;\"></div><div style=\"display: table-cell;\">sizing_mode&nbsp;=&nbsp;'stretch_width',</div></div><div class=\"p33069\" style=\"display: none;\"><div style=\"display: table-cell;\"></div><div style=\"display: table-cell;\">spacing&nbsp;=&nbsp;0,</div></div><div class=\"p33069\" style=\"display: none;\"><div style=\"display: table-cell;\"></div><div style=\"display: table-cell;\">styles&nbsp;=&nbsp;{},</div></div><div class=\"p33069\" style=\"display: none;\"><div style=\"display: table-cell;\"></div><div style=\"display: table-cell;\">stylesheets&nbsp;=&nbsp;[],</div></div><div class=\"p33069\" style=\"display: none;\"><div style=\"display: table-cell;\"></div><div style=\"display: table-cell;\">subscribed_events&nbsp;=&nbsp;PropertyValueSet(),</div></div><div class=\"p33069\" style=\"display: none;\"><div style=\"display: table-cell;\"></div><div style=\"display: table-cell;\">syncable&nbsp;=&nbsp;True,</div></div><div class=\"p33069\" style=\"display: none;\"><div style=\"display: table-cell;\"></div><div style=\"display: table-cell;\">tags&nbsp;=&nbsp;[],</div></div><div class=\"p33069\" style=\"display: none;\"><div style=\"display: table-cell;\"></div><div style=\"display: table-cell;\">toolbar&nbsp;=&nbsp;Toolbar(id='p32522', ...),</div></div><div class=\"p33069\" style=\"display: none;\"><div style=\"display: table-cell;\"></div><div style=\"display: table-cell;\">toolbar_location&nbsp;=&nbsp;'right',</div></div><div class=\"p33069\" style=\"display: none;\"><div style=\"display: table-cell;\"></div><div style=\"display: table-cell;\">visible&nbsp;=&nbsp;True,</div></div><div class=\"p33069\" style=\"display: none;\"><div style=\"display: table-cell;\"></div><div style=\"display: table-cell;\">width&nbsp;=&nbsp;None,</div></div><div class=\"p33069\" style=\"display: none;\"><div style=\"display: table-cell;\"></div><div style=\"display: table-cell;\">width_policy&nbsp;=&nbsp;'auto')</div></div></div>\n",
       "<script>\n",
       "(function() {\n",
       "  let expanded = false;\n",
       "  const ellipsis = document.getElementById(\"p33070\");\n",
       "  ellipsis.addEventListener(\"click\", function() {\n",
       "    const rows = document.getElementsByClassName(\"p33069\");\n",
       "    for (let i = 0; i < rows.length; i++) {\n",
       "      const el = rows[i];\n",
       "      el.style.display = expanded ? \"none\" : \"table-row\";\n",
       "    }\n",
       "    ellipsis.innerHTML = expanded ? \"&hellip;)\" : \"&lsaquo;&lsaquo;&lsaquo;\";\n",
       "    expanded = !expanded;\n",
       "  });\n",
       "})();\n",
       "</script>\n"
      ],
      "text/plain": [
       "GridPlot(id='p32523', ...)"
      ]
     },
     "execution_count": 278,
     "metadata": {},
     "output_type": "execute_result"
    }
   ],
   "source": [
    "bt.plot(filename=os.path.join('plots',\n",
    "                              'RsiOscillatorPL.html'))"
   ]
  },
  {
   "cell_type": "code",
   "execution_count": 280,
   "id": "0b756690",
   "metadata": {},
   "outputs": [],
   "source": [
    "# stats.to_frame()"
   ]
  },
  {
   "cell_type": "markdown",
   "id": "98bf0030",
   "metadata": {},
   "source": [
    "## Size of the position"
   ]
  },
  {
   "cell_type": "code",
   "execution_count": 281,
   "id": "304f764b",
   "metadata": {},
   "outputs": [
    {
     "data": {
      "text/html": [
       "<div>\n",
       "<style scoped>\n",
       "    .dataframe tbody tr th:only-of-type {\n",
       "        vertical-align: middle;\n",
       "    }\n",
       "\n",
       "    .dataframe tbody tr th {\n",
       "        vertical-align: top;\n",
       "    }\n",
       "\n",
       "    .dataframe thead th {\n",
       "        text-align: right;\n",
       "    }\n",
       "</style>\n",
       "<table border=\"1\" class=\"dataframe\">\n",
       "  <thead>\n",
       "    <tr style=\"text-align: right;\">\n",
       "      <th></th>\n",
       "      <th>Open</th>\n",
       "      <th>High</th>\n",
       "      <th>Low</th>\n",
       "      <th>Close</th>\n",
       "      <th>Volume</th>\n",
       "      <th>Dividends</th>\n",
       "      <th>Stock Splits</th>\n",
       "    </tr>\n",
       "    <tr>\n",
       "      <th>Date</th>\n",
       "      <th></th>\n",
       "      <th></th>\n",
       "      <th></th>\n",
       "      <th></th>\n",
       "      <th></th>\n",
       "      <th></th>\n",
       "      <th></th>\n",
       "    </tr>\n",
       "  </thead>\n",
       "  <tbody>\n",
       "    <tr>\n",
       "      <th>2018-04-09 00:00:00-04:00</th>\n",
       "      <td>40.487549</td>\n",
       "      <td>41.252587</td>\n",
       "      <td>40.480399</td>\n",
       "      <td>40.528065</td>\n",
       "      <td>116070800</td>\n",
       "      <td>0.0</td>\n",
       "      <td>0.0</td>\n",
       "    </tr>\n",
       "    <tr>\n",
       "      <th>2018-04-10 00:00:00-04:00</th>\n",
       "      <td>41.231136</td>\n",
       "      <td>41.469466</td>\n",
       "      <td>40.880790</td>\n",
       "      <td>41.290718</td>\n",
       "      <td>113634400</td>\n",
       "      <td>0.0</td>\n",
       "      <td>0.0</td>\n",
       "    </tr>\n",
       "    <tr>\n",
       "      <th>2018-04-11 00:00:00-04:00</th>\n",
       "      <td>41.047624</td>\n",
       "      <td>41.450403</td>\n",
       "      <td>40.921310</td>\n",
       "      <td>41.097675</td>\n",
       "      <td>89726400</td>\n",
       "      <td>0.0</td>\n",
       "      <td>0.0</td>\n",
       "    </tr>\n",
       "  </tbody>\n",
       "</table>\n",
       "</div>"
      ],
      "text/plain": [
       "                                Open       High  ...  Dividends  Stock Splits\n",
       "Date                                             ...                         \n",
       "2018-04-09 00:00:00-04:00  40.487549  41.252587  ...        0.0           0.0\n",
       "2018-04-10 00:00:00-04:00  41.231136  41.469466  ...        0.0           0.0\n",
       "2018-04-11 00:00:00-04:00  41.047624  41.450403  ...        0.0           0.0\n",
       "\n",
       "[3 rows x 7 columns]"
      ]
     },
     "execution_count": 281,
     "metadata": {},
     "output_type": "execute_result"
    }
   ],
   "source": [
    "AAPL = yf.Ticker(\"AAPL\").history(period=\"5y\")\n",
    "AAPL.head(3)"
   ]
  },
  {
   "cell_type": "markdown",
   "id": "acc9ce48",
   "metadata": {},
   "source": [
    "### buy in %"
   ]
  },
  {
   "cell_type": "code",
   "execution_count": 292,
   "id": "befd62ef",
   "metadata": {},
   "outputs": [],
   "source": [
    "class RsiOscillatorSizePct(Strategy):\n",
    "    upper_bound = 70\n",
    "    lower_bound = 30\n",
    "    rsi_window = 14\n",
    "\n",
    "    def init(self):\n",
    "        self.daily_rsi = self.I(\n",
    "            talib.RSI,\n",
    "            self.data.Close,\n",
    "            self.rsi_window\n",
    "        )\n",
    "\n",
    "    def next(self):\n",
    "        current_price = self.data.Close[-1]\n",
    "        if crossover(self.daily_rsi, self.upper_bound):\n",
    "            self.position.close()\n",
    "        elif crossover(self.lower_bound, self.daily_rsi):\n",
    "            self.buy(\n",
    "                size=0.1, # every time buy 10%\n",
    "            )"
   ]
  },
  {
   "cell_type": "code",
   "execution_count": 293,
   "id": "c049826c",
   "metadata": {},
   "outputs": [],
   "source": [
    "bt = Backtest(\n",
    "    AAPL,\n",
    "    RsiOscillatorSizePct,\n",
    "    cash=10_000\n",
    ")\n",
    "\n",
    "stats = bt.run()"
   ]
  },
  {
   "cell_type": "code",
   "execution_count": 294,
   "id": "599c5098",
   "metadata": {},
   "outputs": [
    {
     "name": "stderr",
     "output_type": "stream",
     "text": [
      "/Users/lusong/miniconda3/envs/m1quant/lib/python3.10/site-packages/backtesting/_plotting.py:250: UserWarning: DatetimeFormatter scales now only accept a single format. Using the first provided: '%d %b'\n",
      "  formatter=DatetimeTickFormatter(days=['%d %b', '%a %d'],\n",
      "/Users/lusong/miniconda3/envs/m1quant/lib/python3.10/site-packages/backtesting/_plotting.py:250: UserWarning: DatetimeFormatter scales now only accept a single format. Using the first provided: '%m/%Y'\n",
      "  formatter=DatetimeTickFormatter(days=['%d %b', '%a %d'],\n"
     ]
    },
    {
     "data": {
      "text/html": [
       "<div style=\"display: table;\"><div style=\"display: table-row;\"><div style=\"display: table-cell;\"><b title=\"bokeh.models.plots.GridPlot\">GridPlot</b>(</div><div style=\"display: table-cell;\">id&nbsp;=&nbsp;'p36967', <span id=\"p37514\" style=\"cursor: pointer;\">&hellip;)</span></div></div><div class=\"p37513\" style=\"display: none;\"><div style=\"display: table-cell;\"></div><div style=\"display: table-cell;\">align&nbsp;=&nbsp;'auto',</div></div><div class=\"p37513\" style=\"display: none;\"><div style=\"display: table-cell;\"></div><div style=\"display: table-cell;\">aspect_ratio&nbsp;=&nbsp;None,</div></div><div class=\"p37513\" style=\"display: none;\"><div style=\"display: table-cell;\"></div><div style=\"display: table-cell;\">children&nbsp;=&nbsp;[(figure(id='p36464', ...), 0, 0), (figure(id='p36577', ...), 1, 0), (figure(id='p36405', ...), 2, 0), (figure(id='p36649', ...), 3, 0), (figure(id='p36761', ...), 4, 0)],</div></div><div class=\"p37513\" style=\"display: none;\"><div style=\"display: table-cell;\"></div><div style=\"display: table-cell;\">cols&nbsp;=&nbsp;None,</div></div><div class=\"p37513\" style=\"display: none;\"><div style=\"display: table-cell;\"></div><div style=\"display: table-cell;\">context_menu&nbsp;=&nbsp;None,</div></div><div class=\"p37513\" style=\"display: none;\"><div style=\"display: table-cell;\"></div><div style=\"display: table-cell;\">css_classes&nbsp;=&nbsp;[],</div></div><div class=\"p37513\" style=\"display: none;\"><div style=\"display: table-cell;\"></div><div style=\"display: table-cell;\">disabled&nbsp;=&nbsp;False,</div></div><div class=\"p37513\" style=\"display: none;\"><div style=\"display: table-cell;\"></div><div style=\"display: table-cell;\">flow_mode&nbsp;=&nbsp;'block',</div></div><div class=\"p37513\" style=\"display: none;\"><div style=\"display: table-cell;\"></div><div style=\"display: table-cell;\">height&nbsp;=&nbsp;None,</div></div><div class=\"p37513\" style=\"display: none;\"><div style=\"display: table-cell;\"></div><div style=\"display: table-cell;\">height_policy&nbsp;=&nbsp;'auto',</div></div><div class=\"p37513\" style=\"display: none;\"><div style=\"display: table-cell;\"></div><div style=\"display: table-cell;\">js_event_callbacks&nbsp;=&nbsp;{},</div></div><div class=\"p37513\" style=\"display: none;\"><div style=\"display: table-cell;\"></div><div style=\"display: table-cell;\">js_property_callbacks&nbsp;=&nbsp;{},</div></div><div class=\"p37513\" style=\"display: none;\"><div style=\"display: table-cell;\"></div><div style=\"display: table-cell;\">margin&nbsp;=&nbsp;None,</div></div><div class=\"p37513\" style=\"display: none;\"><div style=\"display: table-cell;\"></div><div style=\"display: table-cell;\">max_height&nbsp;=&nbsp;None,</div></div><div class=\"p37513\" style=\"display: none;\"><div style=\"display: table-cell;\"></div><div style=\"display: table-cell;\">max_width&nbsp;=&nbsp;None,</div></div><div class=\"p37513\" style=\"display: none;\"><div style=\"display: table-cell;\"></div><div style=\"display: table-cell;\">min_height&nbsp;=&nbsp;None,</div></div><div class=\"p37513\" style=\"display: none;\"><div style=\"display: table-cell;\"></div><div style=\"display: table-cell;\">min_width&nbsp;=&nbsp;None,</div></div><div class=\"p37513\" style=\"display: none;\"><div style=\"display: table-cell;\"></div><div style=\"display: table-cell;\">name&nbsp;=&nbsp;None,</div></div><div class=\"p37513\" style=\"display: none;\"><div style=\"display: table-cell;\"></div><div style=\"display: table-cell;\">resizable&nbsp;=&nbsp;False,</div></div><div class=\"p37513\" style=\"display: none;\"><div style=\"display: table-cell;\"></div><div style=\"display: table-cell;\">rows&nbsp;=&nbsp;None,</div></div><div class=\"p37513\" style=\"display: none;\"><div style=\"display: table-cell;\"></div><div style=\"display: table-cell;\">sizing_mode&nbsp;=&nbsp;'stretch_width',</div></div><div class=\"p37513\" style=\"display: none;\"><div style=\"display: table-cell;\"></div><div style=\"display: table-cell;\">spacing&nbsp;=&nbsp;0,</div></div><div class=\"p37513\" style=\"display: none;\"><div style=\"display: table-cell;\"></div><div style=\"display: table-cell;\">styles&nbsp;=&nbsp;{},</div></div><div class=\"p37513\" style=\"display: none;\"><div style=\"display: table-cell;\"></div><div style=\"display: table-cell;\">stylesheets&nbsp;=&nbsp;[],</div></div><div class=\"p37513\" style=\"display: none;\"><div style=\"display: table-cell;\"></div><div style=\"display: table-cell;\">subscribed_events&nbsp;=&nbsp;PropertyValueSet(),</div></div><div class=\"p37513\" style=\"display: none;\"><div style=\"display: table-cell;\"></div><div style=\"display: table-cell;\">syncable&nbsp;=&nbsp;True,</div></div><div class=\"p37513\" style=\"display: none;\"><div style=\"display: table-cell;\"></div><div style=\"display: table-cell;\">tags&nbsp;=&nbsp;[],</div></div><div class=\"p37513\" style=\"display: none;\"><div style=\"display: table-cell;\"></div><div style=\"display: table-cell;\">toolbar&nbsp;=&nbsp;Toolbar(id='p36966', ...),</div></div><div class=\"p37513\" style=\"display: none;\"><div style=\"display: table-cell;\"></div><div style=\"display: table-cell;\">toolbar_location&nbsp;=&nbsp;'right',</div></div><div class=\"p37513\" style=\"display: none;\"><div style=\"display: table-cell;\"></div><div style=\"display: table-cell;\">visible&nbsp;=&nbsp;True,</div></div><div class=\"p37513\" style=\"display: none;\"><div style=\"display: table-cell;\"></div><div style=\"display: table-cell;\">width&nbsp;=&nbsp;None,</div></div><div class=\"p37513\" style=\"display: none;\"><div style=\"display: table-cell;\"></div><div style=\"display: table-cell;\">width_policy&nbsp;=&nbsp;'auto')</div></div></div>\n",
       "<script>\n",
       "(function() {\n",
       "  let expanded = false;\n",
       "  const ellipsis = document.getElementById(\"p37514\");\n",
       "  ellipsis.addEventListener(\"click\", function() {\n",
       "    const rows = document.getElementsByClassName(\"p37513\");\n",
       "    for (let i = 0; i < rows.length; i++) {\n",
       "      const el = rows[i];\n",
       "      el.style.display = expanded ? \"none\" : \"table-row\";\n",
       "    }\n",
       "    ellipsis.innerHTML = expanded ? \"&hellip;)\" : \"&lsaquo;&lsaquo;&lsaquo;\";\n",
       "    expanded = !expanded;\n",
       "  });\n",
       "})();\n",
       "</script>\n"
      ],
      "text/plain": [
       "GridPlot(id='p36967', ...)"
      ]
     },
     "execution_count": 294,
     "metadata": {},
     "output_type": "execute_result"
    }
   ],
   "source": [
    "bt.plot(filename=os.path.join('plots',\n",
    "                              'RsiOscillatorSizePct.html'))"
   ]
  },
  {
   "cell_type": "code",
   "execution_count": 288,
   "id": "75eef13a",
   "metadata": {},
   "outputs": [],
   "source": [
    "# stats.to_frame()"
   ]
  },
  {
   "cell_type": "markdown",
   "id": "1528475f",
   "metadata": {},
   "source": [
    "### Buy actual # shares\n",
    "* dollar cost averaging"
   ]
  },
  {
   "cell_type": "code",
   "execution_count": 303,
   "id": "15f4df7d",
   "metadata": {},
   "outputs": [],
   "source": [
    "class RsiOscillatorSizeShares(Strategy):\n",
    "    upper_bound = 70\n",
    "    lower_bound = 30\n",
    "    rsi_window = 14\n",
    "    position_size = 1\n",
    "\n",
    "    def init(self):\n",
    "        self.daily_rsi = self.I(\n",
    "            talib.RSI,\n",
    "            self.data.Close,\n",
    "            self.rsi_window\n",
    "        )\n",
    "\n",
    "    def next(self):\n",
    "        current_price = self.data.Close[-1]\n",
    "        if self.daily_rsi[-1] > self.upper_bound:\n",
    "            self.position.close()\n",
    "        elif self.lower_bound > self.daily_rsi[-1]:\n",
    "            self.buy(\n",
    "                size=self.position_size,  # every time buy 1 share\n",
    "            )"
   ]
  },
  {
   "cell_type": "code",
   "execution_count": 304,
   "id": "0278a72c",
   "metadata": {},
   "outputs": [],
   "source": [
    "bt = Backtest(\n",
    "    AAPL,\n",
    "    RsiOscillatorSizeShares,\n",
    "    cash=10_000\n",
    ")\n",
    "\n",
    "stats = bt.run()"
   ]
  },
  {
   "cell_type": "code",
   "execution_count": 305,
   "id": "fc2a1acb",
   "metadata": {},
   "outputs": [
    {
     "name": "stderr",
     "output_type": "stream",
     "text": [
      "/Users/lusong/miniconda3/envs/m1quant/lib/python3.10/site-packages/backtesting/_plotting.py:250: UserWarning: DatetimeFormatter scales now only accept a single format. Using the first provided: '%d %b'\n",
      "  formatter=DatetimeTickFormatter(days=['%d %b', '%a %d'],\n",
      "/Users/lusong/miniconda3/envs/m1quant/lib/python3.10/site-packages/backtesting/_plotting.py:250: UserWarning: DatetimeFormatter scales now only accept a single format. Using the first provided: '%m/%Y'\n",
      "  formatter=DatetimeTickFormatter(days=['%d %b', '%a %d'],\n"
     ]
    },
    {
     "data": {
      "text/html": [
       "<div style=\"display: table;\"><div style=\"display: table-row;\"><div style=\"display: table-cell;\"><b title=\"bokeh.models.plots.GridPlot\">GridPlot</b>(</div><div style=\"display: table-cell;\">id&nbsp;=&nbsp;'p40300', <span id=\"p40847\" style=\"cursor: pointer;\">&hellip;)</span></div></div><div class=\"p40846\" style=\"display: none;\"><div style=\"display: table-cell;\"></div><div style=\"display: table-cell;\">align&nbsp;=&nbsp;'auto',</div></div><div class=\"p40846\" style=\"display: none;\"><div style=\"display: table-cell;\"></div><div style=\"display: table-cell;\">aspect_ratio&nbsp;=&nbsp;None,</div></div><div class=\"p40846\" style=\"display: none;\"><div style=\"display: table-cell;\"></div><div style=\"display: table-cell;\">children&nbsp;=&nbsp;[(figure(id='p39797', ...), 0, 0), (figure(id='p39910', ...), 1, 0), (figure(id='p39738', ...), 2, 0), (figure(id='p39982', ...), 3, 0), (figure(id='p40094', ...), 4, 0)],</div></div><div class=\"p40846\" style=\"display: none;\"><div style=\"display: table-cell;\"></div><div style=\"display: table-cell;\">cols&nbsp;=&nbsp;None,</div></div><div class=\"p40846\" style=\"display: none;\"><div style=\"display: table-cell;\"></div><div style=\"display: table-cell;\">context_menu&nbsp;=&nbsp;None,</div></div><div class=\"p40846\" style=\"display: none;\"><div style=\"display: table-cell;\"></div><div style=\"display: table-cell;\">css_classes&nbsp;=&nbsp;[],</div></div><div class=\"p40846\" style=\"display: none;\"><div style=\"display: table-cell;\"></div><div style=\"display: table-cell;\">disabled&nbsp;=&nbsp;False,</div></div><div class=\"p40846\" style=\"display: none;\"><div style=\"display: table-cell;\"></div><div style=\"display: table-cell;\">flow_mode&nbsp;=&nbsp;'block',</div></div><div class=\"p40846\" style=\"display: none;\"><div style=\"display: table-cell;\"></div><div style=\"display: table-cell;\">height&nbsp;=&nbsp;None,</div></div><div class=\"p40846\" style=\"display: none;\"><div style=\"display: table-cell;\"></div><div style=\"display: table-cell;\">height_policy&nbsp;=&nbsp;'auto',</div></div><div class=\"p40846\" style=\"display: none;\"><div style=\"display: table-cell;\"></div><div style=\"display: table-cell;\">js_event_callbacks&nbsp;=&nbsp;{},</div></div><div class=\"p40846\" style=\"display: none;\"><div style=\"display: table-cell;\"></div><div style=\"display: table-cell;\">js_property_callbacks&nbsp;=&nbsp;{},</div></div><div class=\"p40846\" style=\"display: none;\"><div style=\"display: table-cell;\"></div><div style=\"display: table-cell;\">margin&nbsp;=&nbsp;None,</div></div><div class=\"p40846\" style=\"display: none;\"><div style=\"display: table-cell;\"></div><div style=\"display: table-cell;\">max_height&nbsp;=&nbsp;None,</div></div><div class=\"p40846\" style=\"display: none;\"><div style=\"display: table-cell;\"></div><div style=\"display: table-cell;\">max_width&nbsp;=&nbsp;None,</div></div><div class=\"p40846\" style=\"display: none;\"><div style=\"display: table-cell;\"></div><div style=\"display: table-cell;\">min_height&nbsp;=&nbsp;None,</div></div><div class=\"p40846\" style=\"display: none;\"><div style=\"display: table-cell;\"></div><div style=\"display: table-cell;\">min_width&nbsp;=&nbsp;None,</div></div><div class=\"p40846\" style=\"display: none;\"><div style=\"display: table-cell;\"></div><div style=\"display: table-cell;\">name&nbsp;=&nbsp;None,</div></div><div class=\"p40846\" style=\"display: none;\"><div style=\"display: table-cell;\"></div><div style=\"display: table-cell;\">resizable&nbsp;=&nbsp;False,</div></div><div class=\"p40846\" style=\"display: none;\"><div style=\"display: table-cell;\"></div><div style=\"display: table-cell;\">rows&nbsp;=&nbsp;None,</div></div><div class=\"p40846\" style=\"display: none;\"><div style=\"display: table-cell;\"></div><div style=\"display: table-cell;\">sizing_mode&nbsp;=&nbsp;'stretch_width',</div></div><div class=\"p40846\" style=\"display: none;\"><div style=\"display: table-cell;\"></div><div style=\"display: table-cell;\">spacing&nbsp;=&nbsp;0,</div></div><div class=\"p40846\" style=\"display: none;\"><div style=\"display: table-cell;\"></div><div style=\"display: table-cell;\">styles&nbsp;=&nbsp;{},</div></div><div class=\"p40846\" style=\"display: none;\"><div style=\"display: table-cell;\"></div><div style=\"display: table-cell;\">stylesheets&nbsp;=&nbsp;[],</div></div><div class=\"p40846\" style=\"display: none;\"><div style=\"display: table-cell;\"></div><div style=\"display: table-cell;\">subscribed_events&nbsp;=&nbsp;PropertyValueSet(),</div></div><div class=\"p40846\" style=\"display: none;\"><div style=\"display: table-cell;\"></div><div style=\"display: table-cell;\">syncable&nbsp;=&nbsp;True,</div></div><div class=\"p40846\" style=\"display: none;\"><div style=\"display: table-cell;\"></div><div style=\"display: table-cell;\">tags&nbsp;=&nbsp;[],</div></div><div class=\"p40846\" style=\"display: none;\"><div style=\"display: table-cell;\"></div><div style=\"display: table-cell;\">toolbar&nbsp;=&nbsp;Toolbar(id='p40299', ...),</div></div><div class=\"p40846\" style=\"display: none;\"><div style=\"display: table-cell;\"></div><div style=\"display: table-cell;\">toolbar_location&nbsp;=&nbsp;'right',</div></div><div class=\"p40846\" style=\"display: none;\"><div style=\"display: table-cell;\"></div><div style=\"display: table-cell;\">visible&nbsp;=&nbsp;True,</div></div><div class=\"p40846\" style=\"display: none;\"><div style=\"display: table-cell;\"></div><div style=\"display: table-cell;\">width&nbsp;=&nbsp;None,</div></div><div class=\"p40846\" style=\"display: none;\"><div style=\"display: table-cell;\"></div><div style=\"display: table-cell;\">width_policy&nbsp;=&nbsp;'auto')</div></div></div>\n",
       "<script>\n",
       "(function() {\n",
       "  let expanded = false;\n",
       "  const ellipsis = document.getElementById(\"p40847\");\n",
       "  ellipsis.addEventListener(\"click\", function() {\n",
       "    const rows = document.getElementsByClassName(\"p40846\");\n",
       "    for (let i = 0; i < rows.length; i++) {\n",
       "      const el = rows[i];\n",
       "      el.style.display = expanded ? \"none\" : \"table-row\";\n",
       "    }\n",
       "    ellipsis.innerHTML = expanded ? \"&hellip;)\" : \"&lsaquo;&lsaquo;&lsaquo;\";\n",
       "    expanded = !expanded;\n",
       "  });\n",
       "})();\n",
       "</script>\n"
      ],
      "text/plain": [
       "GridPlot(id='p40300', ...)"
      ]
     },
     "execution_count": 305,
     "metadata": {},
     "output_type": "execute_result"
    }
   ],
   "source": [
    "bt.plot(filename=os.path.join('plots',\n",
    "                              'RsiOscillatorSizeShares.html'))"
   ]
  },
  {
   "cell_type": "code",
   "execution_count": 302,
   "id": "f780f9e7",
   "metadata": {},
   "outputs": [],
   "source": [
    "# stats.to_frame()"
   ]
  },
  {
   "cell_type": "markdown",
   "id": "10a1cb1d",
   "metadata": {},
   "source": [
    "## Extracting Trade Data"
   ]
  },
  {
   "cell_type": "code",
   "execution_count": 308,
   "id": "ec1d509e",
   "metadata": {},
   "outputs": [
    {
     "data": {
      "text/html": [
       "<div>\n",
       "<style scoped>\n",
       "    .dataframe tbody tr th:only-of-type {\n",
       "        vertical-align: middle;\n",
       "    }\n",
       "\n",
       "    .dataframe tbody tr th {\n",
       "        vertical-align: top;\n",
       "    }\n",
       "\n",
       "    .dataframe thead th {\n",
       "        text-align: right;\n",
       "    }\n",
       "</style>\n",
       "<table border=\"1\" class=\"dataframe\">\n",
       "  <thead>\n",
       "    <tr style=\"text-align: right;\">\n",
       "      <th></th>\n",
       "      <th>Size</th>\n",
       "      <th>EntryBar</th>\n",
       "      <th>ExitBar</th>\n",
       "      <th>EntryPrice</th>\n",
       "      <th>ExitPrice</th>\n",
       "      <th>PnL</th>\n",
       "      <th>ReturnPct</th>\n",
       "      <th>EntryTime</th>\n",
       "      <th>ExitTime</th>\n",
       "      <th>Duration</th>\n",
       "    </tr>\n",
       "  </thead>\n",
       "  <tbody>\n",
       "    <tr>\n",
       "      <th>0</th>\n",
       "      <td>1</td>\n",
       "      <td>187</td>\n",
       "      <td>234</td>\n",
       "      <td>34.821047</td>\n",
       "      <td>44.496325</td>\n",
       "      <td>9.675279</td>\n",
       "      <td>0.277857</td>\n",
       "      <td>2019-01-04 00:00:00-05:00</td>\n",
       "      <td>2019-03-14 00:00:00-04:00</td>\n",
       "      <td>68 days 23:00:00</td>\n",
       "    </tr>\n",
       "    <tr>\n",
       "      <th>1</th>\n",
       "      <td>1</td>\n",
       "      <td>181</td>\n",
       "      <td>234</td>\n",
       "      <td>35.729339</td>\n",
       "      <td>44.496325</td>\n",
       "      <td>8.766986</td>\n",
       "      <td>0.245372</td>\n",
       "      <td>2018-12-26 00:00:00-05:00</td>\n",
       "      <td>2019-03-14 00:00:00-04:00</td>\n",
       "      <td>77 days 23:00:00</td>\n",
       "    </tr>\n",
       "    <tr>\n",
       "      <th>2</th>\n",
       "      <td>1</td>\n",
       "      <td>180</td>\n",
       "      <td>234</td>\n",
       "      <td>35.693204</td>\n",
       "      <td>44.496325</td>\n",
       "      <td>8.803122</td>\n",
       "      <td>0.246633</td>\n",
       "      <td>2018-12-24 00:00:00-05:00</td>\n",
       "      <td>2019-03-14 00:00:00-04:00</td>\n",
       "      <td>79 days 23:00:00</td>\n",
       "    </tr>\n",
       "    <tr>\n",
       "      <th>3</th>\n",
       "      <td>1</td>\n",
       "      <td>179</td>\n",
       "      <td>234</td>\n",
       "      <td>37.791663</td>\n",
       "      <td>44.496325</td>\n",
       "      <td>6.704662</td>\n",
       "      <td>0.177411</td>\n",
       "      <td>2018-12-21 00:00:00-05:00</td>\n",
       "      <td>2019-03-14 00:00:00-04:00</td>\n",
       "      <td>82 days 23:00:00</td>\n",
       "    </tr>\n",
       "    <tr>\n",
       "      <th>4</th>\n",
       "      <td>1</td>\n",
       "      <td>163</td>\n",
       "      <td>234</td>\n",
       "      <td>42.578866</td>\n",
       "      <td>44.496325</td>\n",
       "      <td>1.917459</td>\n",
       "      <td>0.045033</td>\n",
       "      <td>2018-11-28 00:00:00-05:00</td>\n",
       "      <td>2019-03-14 00:00:00-04:00</td>\n",
       "      <td>105 days 23:00:00</td>\n",
       "    </tr>\n",
       "    <tr>\n",
       "      <th>5</th>\n",
       "      <td>1</td>\n",
       "      <td>162</td>\n",
       "      <td>234</td>\n",
       "      <td>41.321231</td>\n",
       "      <td>44.496325</td>\n",
       "      <td>3.175094</td>\n",
       "      <td>0.076839</td>\n",
       "      <td>2018-11-27 00:00:00-05:00</td>\n",
       "      <td>2019-03-14 00:00:00-04:00</td>\n",
       "      <td>106 days 23:00:00</td>\n",
       "    </tr>\n",
       "    <tr>\n",
       "      <th>6</th>\n",
       "      <td>1</td>\n",
       "      <td>161</td>\n",
       "      <td>234</td>\n",
       "      <td>41.978969</td>\n",
       "      <td>44.496325</td>\n",
       "      <td>2.517356</td>\n",
       "      <td>0.059967</td>\n",
       "      <td>2018-11-26 00:00:00-05:00</td>\n",
       "      <td>2019-03-14 00:00:00-04:00</td>\n",
       "      <td>107 days 23:00:00</td>\n",
       "    </tr>\n",
       "    <tr>\n",
       "      <th>7</th>\n",
       "      <td>1</td>\n",
       "      <td>160</td>\n",
       "      <td>234</td>\n",
       "      <td>42.147600</td>\n",
       "      <td>44.496325</td>\n",
       "      <td>2.348725</td>\n",
       "      <td>0.055726</td>\n",
       "      <td>2018-11-23 00:00:00-05:00</td>\n",
       "      <td>2019-03-14 00:00:00-04:00</td>\n",
       "      <td>110 days 23:00:00</td>\n",
       "    </tr>\n",
       "    <tr>\n",
       "      <th>8</th>\n",
       "      <td>1</td>\n",
       "      <td>159</td>\n",
       "      <td>234</td>\n",
       "      <td>43.301643</td>\n",
       "      <td>44.496325</td>\n",
       "      <td>1.194682</td>\n",
       "      <td>0.027590</td>\n",
       "      <td>2018-11-21 00:00:00-05:00</td>\n",
       "      <td>2019-03-14 00:00:00-04:00</td>\n",
       "      <td>112 days 23:00:00</td>\n",
       "    </tr>\n",
       "    <tr>\n",
       "      <th>9</th>\n",
       "      <td>1</td>\n",
       "      <td>290</td>\n",
       "      <td>388</td>\n",
       "      <td>42.612823</td>\n",
       "      <td>58.798180</td>\n",
       "      <td>16.185357</td>\n",
       "      <td>0.379824</td>\n",
       "      <td>2019-06-04 00:00:00-04:00</td>\n",
       "      <td>2019-10-22 00:00:00-04:00</td>\n",
       "      <td>140 days 00:00:00</td>\n",
       "    </tr>\n",
       "    <tr>\n",
       "      <th>10</th>\n",
       "      <td>1</td>\n",
       "      <td>289</td>\n",
       "      <td>388</td>\n",
       "      <td>42.651683</td>\n",
       "      <td>58.798180</td>\n",
       "      <td>16.146497</td>\n",
       "      <td>0.378566</td>\n",
       "      <td>2019-06-03 00:00:00-04:00</td>\n",
       "      <td>2019-10-22 00:00:00-04:00</td>\n",
       "      <td>141 days 00:00:00</td>\n",
       "    </tr>\n",
       "    <tr>\n",
       "      <th>11</th>\n",
       "      <td>1</td>\n",
       "      <td>477</td>\n",
       "      <td>545</td>\n",
       "      <td>69.194262</td>\n",
       "      <td>81.172129</td>\n",
       "      <td>11.977867</td>\n",
       "      <td>0.173105</td>\n",
       "      <td>2020-03-02 00:00:00-05:00</td>\n",
       "      <td>2020-06-08 00:00:00-04:00</td>\n",
       "      <td>97 days 23:00:00</td>\n",
       "    </tr>\n",
       "    <tr>\n",
       "      <th>12</th>\n",
       "      <td>1</td>\n",
       "      <td>476</td>\n",
       "      <td>545</td>\n",
       "      <td>63.061208</td>\n",
       "      <td>81.172129</td>\n",
       "      <td>18.110921</td>\n",
       "      <td>0.287196</td>\n",
       "      <td>2020-02-28 00:00:00-05:00</td>\n",
       "      <td>2020-06-08 00:00:00-04:00</td>\n",
       "      <td>100 days 23:00:00</td>\n",
       "    </tr>\n",
       "    <tr>\n",
       "      <th>13</th>\n",
       "      <td>1</td>\n",
       "      <td>728</td>\n",
       "      <td>814</td>\n",
       "      <td>122.278124</td>\n",
       "      <td>135.204537</td>\n",
       "      <td>12.926414</td>\n",
       "      <td>0.105713</td>\n",
       "      <td>2021-03-01 00:00:00-05:00</td>\n",
       "      <td>2021-07-01 00:00:00-04:00</td>\n",
       "      <td>121 days 23:00:00</td>\n",
       "    </tr>\n",
       "    <tr>\n",
       "      <th>14</th>\n",
       "      <td>1</td>\n",
       "      <td>727</td>\n",
       "      <td>814</td>\n",
       "      <td>121.131901</td>\n",
       "      <td>135.204537</td>\n",
       "      <td>14.072636</td>\n",
       "      <td>0.116176</td>\n",
       "      <td>2021-02-26 00:00:00-05:00</td>\n",
       "      <td>2021-07-01 00:00:00-04:00</td>\n",
       "      <td>124 days 23:00:00</td>\n",
       "    </tr>\n",
       "    <tr>\n",
       "      <th>15</th>\n",
       "      <td>1</td>\n",
       "      <td>1191</td>\n",
       "      <td>1215</td>\n",
       "      <td>127.794881</td>\n",
       "      <td>147.804328</td>\n",
       "      <td>20.009446</td>\n",
       "      <td>0.156575</td>\n",
       "      <td>2022-12-29 00:00:00-05:00</td>\n",
       "      <td>2023-02-03 00:00:00-05:00</td>\n",
       "      <td>36 days 00:00:00</td>\n",
       "    </tr>\n",
       "    <tr>\n",
       "      <th>16</th>\n",
       "      <td>1</td>\n",
       "      <td>1130</td>\n",
       "      <td>1215</td>\n",
       "      <td>137.770754</td>\n",
       "      <td>147.804328</td>\n",
       "      <td>10.033574</td>\n",
       "      <td>0.072828</td>\n",
       "      <td>2022-10-03 00:00:00-04:00</td>\n",
       "      <td>2023-02-03 00:00:00-05:00</td>\n",
       "      <td>123 days 01:00:00</td>\n",
       "    </tr>\n",
       "  </tbody>\n",
       "</table>\n",
       "</div>"
      ],
      "text/plain": [
       "    Size  EntryBar  ...                  ExitTime          Duration\n",
       "0      1       187  ... 2019-03-14 00:00:00-04:00  68 days 23:00:00\n",
       "1      1       181  ... 2019-03-14 00:00:00-04:00  77 days 23:00:00\n",
       "2      1       180  ... 2019-03-14 00:00:00-04:00  79 days 23:00:00\n",
       "3      1       179  ... 2019-03-14 00:00:00-04:00  82 days 23:00:00\n",
       "4      1       163  ... 2019-03-14 00:00:00-04:00 105 days 23:00:00\n",
       "5      1       162  ... 2019-03-14 00:00:00-04:00 106 days 23:00:00\n",
       "6      1       161  ... 2019-03-14 00:00:00-04:00 107 days 23:00:00\n",
       "7      1       160  ... 2019-03-14 00:00:00-04:00 110 days 23:00:00\n",
       "8      1       159  ... 2019-03-14 00:00:00-04:00 112 days 23:00:00\n",
       "9      1       290  ... 2019-10-22 00:00:00-04:00 140 days 00:00:00\n",
       "10     1       289  ... 2019-10-22 00:00:00-04:00 141 days 00:00:00\n",
       "11     1       477  ... 2020-06-08 00:00:00-04:00  97 days 23:00:00\n",
       "12     1       476  ... 2020-06-08 00:00:00-04:00 100 days 23:00:00\n",
       "13     1       728  ... 2021-07-01 00:00:00-04:00 121 days 23:00:00\n",
       "14     1       727  ... 2021-07-01 00:00:00-04:00 124 days 23:00:00\n",
       "15     1      1191  ... 2023-02-03 00:00:00-05:00  36 days 00:00:00\n",
       "16     1      1130  ... 2023-02-03 00:00:00-05:00 123 days 01:00:00\n",
       "\n",
       "[17 rows x 10 columns]"
      ]
     },
     "execution_count": 308,
     "metadata": {},
     "output_type": "execute_result"
    }
   ],
   "source": [
    "stats['_trades']"
   ]
  },
  {
   "cell_type": "markdown",
   "id": "9d29df09",
   "metadata": {},
   "source": [
    "## Bar Since Function"
   ]
  },
  {
   "cell_type": "code",
   "execution_count": 320,
   "id": "ed9a8a57",
   "metadata": {},
   "outputs": [],
   "source": [
    "class RsiOscillatorBarssince(Strategy):\n",
    "    upper_bound = 70\n",
    "    lower_bound = 30\n",
    "    rsi_window = 14\n",
    "    position_size = 0.1\n",
    "\n",
    "    def init(self):\n",
    "        self.daily_rsi = self.I(\n",
    "            talib.RSI,\n",
    "            self.data.Close,\n",
    "            self.rsi_window\n",
    "        )\n",
    "\n",
    "    def next(self):\n",
    "        current_price = self.data.Close[-1]\n",
    "        if (self.daily_rsi[-1] > self.upper_bound) and barssince(\n",
    "            self.daily_rsi < self.upper_bound\n",
    "        )==3:\n",
    "            self.position.close()\n",
    "        elif (self.lower_bound > self.daily_rsi[-1]):\n",
    "            self.buy(\n",
    "                size=self.position_size,  # every time buy 1 share\n",
    "            )"
   ]
  },
  {
   "cell_type": "code",
   "execution_count": 321,
   "id": "72b976c6",
   "metadata": {},
   "outputs": [],
   "source": [
    "bt = Backtest(\n",
    "    AAPL,\n",
    "    RsiOscillatorBarssince,\n",
    "    cash=10_000\n",
    ")\n",
    "\n",
    "stats = bt.run()"
   ]
  },
  {
   "cell_type": "code",
   "execution_count": 322,
   "id": "6f03a8f9",
   "metadata": {
    "scrolled": true
   },
   "outputs": [
    {
     "name": "stderr",
     "output_type": "stream",
     "text": [
      "/Users/lusong/miniconda3/envs/m1quant/lib/python3.10/site-packages/backtesting/_plotting.py:250: UserWarning: DatetimeFormatter scales now only accept a single format. Using the first provided: '%d %b'\n",
      "  formatter=DatetimeTickFormatter(days=['%d %b', '%a %d'],\n",
      "/Users/lusong/miniconda3/envs/m1quant/lib/python3.10/site-packages/backtesting/_plotting.py:250: UserWarning: DatetimeFormatter scales now only accept a single format. Using the first provided: '%m/%Y'\n",
      "  formatter=DatetimeTickFormatter(days=['%d %b', '%a %d'],\n"
     ]
    },
    {
     "data": {
      "text/html": [
       "<div style=\"display: table;\"><div style=\"display: table-row;\"><div style=\"display: table-cell;\"><b title=\"bokeh.models.plots.GridPlot\">GridPlot</b>(</div><div style=\"display: table-cell;\">id&nbsp;=&nbsp;'p44744', <span id=\"p45291\" style=\"cursor: pointer;\">&hellip;)</span></div></div><div class=\"p45290\" style=\"display: none;\"><div style=\"display: table-cell;\"></div><div style=\"display: table-cell;\">align&nbsp;=&nbsp;'auto',</div></div><div class=\"p45290\" style=\"display: none;\"><div style=\"display: table-cell;\"></div><div style=\"display: table-cell;\">aspect_ratio&nbsp;=&nbsp;None,</div></div><div class=\"p45290\" style=\"display: none;\"><div style=\"display: table-cell;\"></div><div style=\"display: table-cell;\">children&nbsp;=&nbsp;[(figure(id='p44241', ...), 0, 0), (figure(id='p44354', ...), 1, 0), (figure(id='p44182', ...), 2, 0), (figure(id='p44426', ...), 3, 0), (figure(id='p44538', ...), 4, 0)],</div></div><div class=\"p45290\" style=\"display: none;\"><div style=\"display: table-cell;\"></div><div style=\"display: table-cell;\">cols&nbsp;=&nbsp;None,</div></div><div class=\"p45290\" style=\"display: none;\"><div style=\"display: table-cell;\"></div><div style=\"display: table-cell;\">context_menu&nbsp;=&nbsp;None,</div></div><div class=\"p45290\" style=\"display: none;\"><div style=\"display: table-cell;\"></div><div style=\"display: table-cell;\">css_classes&nbsp;=&nbsp;[],</div></div><div class=\"p45290\" style=\"display: none;\"><div style=\"display: table-cell;\"></div><div style=\"display: table-cell;\">disabled&nbsp;=&nbsp;False,</div></div><div class=\"p45290\" style=\"display: none;\"><div style=\"display: table-cell;\"></div><div style=\"display: table-cell;\">flow_mode&nbsp;=&nbsp;'block',</div></div><div class=\"p45290\" style=\"display: none;\"><div style=\"display: table-cell;\"></div><div style=\"display: table-cell;\">height&nbsp;=&nbsp;None,</div></div><div class=\"p45290\" style=\"display: none;\"><div style=\"display: table-cell;\"></div><div style=\"display: table-cell;\">height_policy&nbsp;=&nbsp;'auto',</div></div><div class=\"p45290\" style=\"display: none;\"><div style=\"display: table-cell;\"></div><div style=\"display: table-cell;\">js_event_callbacks&nbsp;=&nbsp;{},</div></div><div class=\"p45290\" style=\"display: none;\"><div style=\"display: table-cell;\"></div><div style=\"display: table-cell;\">js_property_callbacks&nbsp;=&nbsp;{},</div></div><div class=\"p45290\" style=\"display: none;\"><div style=\"display: table-cell;\"></div><div style=\"display: table-cell;\">margin&nbsp;=&nbsp;None,</div></div><div class=\"p45290\" style=\"display: none;\"><div style=\"display: table-cell;\"></div><div style=\"display: table-cell;\">max_height&nbsp;=&nbsp;None,</div></div><div class=\"p45290\" style=\"display: none;\"><div style=\"display: table-cell;\"></div><div style=\"display: table-cell;\">max_width&nbsp;=&nbsp;None,</div></div><div class=\"p45290\" style=\"display: none;\"><div style=\"display: table-cell;\"></div><div style=\"display: table-cell;\">min_height&nbsp;=&nbsp;None,</div></div><div class=\"p45290\" style=\"display: none;\"><div style=\"display: table-cell;\"></div><div style=\"display: table-cell;\">min_width&nbsp;=&nbsp;None,</div></div><div class=\"p45290\" style=\"display: none;\"><div style=\"display: table-cell;\"></div><div style=\"display: table-cell;\">name&nbsp;=&nbsp;None,</div></div><div class=\"p45290\" style=\"display: none;\"><div style=\"display: table-cell;\"></div><div style=\"display: table-cell;\">resizable&nbsp;=&nbsp;False,</div></div><div class=\"p45290\" style=\"display: none;\"><div style=\"display: table-cell;\"></div><div style=\"display: table-cell;\">rows&nbsp;=&nbsp;None,</div></div><div class=\"p45290\" style=\"display: none;\"><div style=\"display: table-cell;\"></div><div style=\"display: table-cell;\">sizing_mode&nbsp;=&nbsp;'stretch_width',</div></div><div class=\"p45290\" style=\"display: none;\"><div style=\"display: table-cell;\"></div><div style=\"display: table-cell;\">spacing&nbsp;=&nbsp;0,</div></div><div class=\"p45290\" style=\"display: none;\"><div style=\"display: table-cell;\"></div><div style=\"display: table-cell;\">styles&nbsp;=&nbsp;{},</div></div><div class=\"p45290\" style=\"display: none;\"><div style=\"display: table-cell;\"></div><div style=\"display: table-cell;\">stylesheets&nbsp;=&nbsp;[],</div></div><div class=\"p45290\" style=\"display: none;\"><div style=\"display: table-cell;\"></div><div style=\"display: table-cell;\">subscribed_events&nbsp;=&nbsp;PropertyValueSet(),</div></div><div class=\"p45290\" style=\"display: none;\"><div style=\"display: table-cell;\"></div><div style=\"display: table-cell;\">syncable&nbsp;=&nbsp;True,</div></div><div class=\"p45290\" style=\"display: none;\"><div style=\"display: table-cell;\"></div><div style=\"display: table-cell;\">tags&nbsp;=&nbsp;[],</div></div><div class=\"p45290\" style=\"display: none;\"><div style=\"display: table-cell;\"></div><div style=\"display: table-cell;\">toolbar&nbsp;=&nbsp;Toolbar(id='p44743', ...),</div></div><div class=\"p45290\" style=\"display: none;\"><div style=\"display: table-cell;\"></div><div style=\"display: table-cell;\">toolbar_location&nbsp;=&nbsp;'right',</div></div><div class=\"p45290\" style=\"display: none;\"><div style=\"display: table-cell;\"></div><div style=\"display: table-cell;\">visible&nbsp;=&nbsp;True,</div></div><div class=\"p45290\" style=\"display: none;\"><div style=\"display: table-cell;\"></div><div style=\"display: table-cell;\">width&nbsp;=&nbsp;None,</div></div><div class=\"p45290\" style=\"display: none;\"><div style=\"display: table-cell;\"></div><div style=\"display: table-cell;\">width_policy&nbsp;=&nbsp;'auto')</div></div></div>\n",
       "<script>\n",
       "(function() {\n",
       "  let expanded = false;\n",
       "  const ellipsis = document.getElementById(\"p45291\");\n",
       "  ellipsis.addEventListener(\"click\", function() {\n",
       "    const rows = document.getElementsByClassName(\"p45290\");\n",
       "    for (let i = 0; i < rows.length; i++) {\n",
       "      const el = rows[i];\n",
       "      el.style.display = expanded ? \"none\" : \"table-row\";\n",
       "    }\n",
       "    ellipsis.innerHTML = expanded ? \"&hellip;)\" : \"&lsaquo;&lsaquo;&lsaquo;\";\n",
       "    expanded = !expanded;\n",
       "  });\n",
       "})();\n",
       "</script>\n"
      ],
      "text/plain": [
       "GridPlot(id='p44744', ...)"
      ]
     },
     "execution_count": 322,
     "metadata": {},
     "output_type": "execute_result"
    }
   ],
   "source": [
    "bt.plot(filename=os.path.join('plots',\n",
    "                              'RsiOscillatorSizeShares.html'))"
   ]
  },
  {
   "cell_type": "code",
   "execution_count": 325,
   "id": "78b3e8ad",
   "metadata": {},
   "outputs": [],
   "source": [
    "# stats.to_frame()"
   ]
  },
  {
   "cell_type": "markdown",
   "id": "9fde134b",
   "metadata": {},
   "source": [
    "# Backtest Dollar Cost Average Strategy"
   ]
  },
  {
   "cell_type": "code",
   "execution_count": 356,
   "id": "197097ab",
   "metadata": {},
   "outputs": [
    {
     "data": {
      "text/html": [
       "<div>\n",
       "<style scoped>\n",
       "    .dataframe tbody tr th:only-of-type {\n",
       "        vertical-align: middle;\n",
       "    }\n",
       "\n",
       "    .dataframe tbody tr th {\n",
       "        vertical-align: top;\n",
       "    }\n",
       "\n",
       "    .dataframe thead th {\n",
       "        text-align: right;\n",
       "    }\n",
       "</style>\n",
       "<table border=\"1\" class=\"dataframe\">\n",
       "  <thead>\n",
       "    <tr style=\"text-align: right;\">\n",
       "      <th></th>\n",
       "      <th>Open</th>\n",
       "      <th>High</th>\n",
       "      <th>Low</th>\n",
       "      <th>Close</th>\n",
       "      <th>Volume</th>\n",
       "      <th>Dividends</th>\n",
       "      <th>Stock Splits</th>\n",
       "    </tr>\n",
       "    <tr>\n",
       "      <th>Date</th>\n",
       "      <th></th>\n",
       "      <th></th>\n",
       "      <th></th>\n",
       "      <th></th>\n",
       "      <th></th>\n",
       "      <th></th>\n",
       "      <th></th>\n",
       "    </tr>\n",
       "  </thead>\n",
       "  <tbody>\n",
       "    <tr>\n",
       "      <th>2023-04-04 00:00:00-04:00</th>\n",
       "      <td>166.600006</td>\n",
       "      <td>166.839996</td>\n",
       "      <td>165.110001</td>\n",
       "      <td>165.630005</td>\n",
       "      <td>46278300</td>\n",
       "      <td>0.0</td>\n",
       "      <td>0.0</td>\n",
       "    </tr>\n",
       "    <tr>\n",
       "      <th>2023-04-05 00:00:00-04:00</th>\n",
       "      <td>164.740005</td>\n",
       "      <td>165.050003</td>\n",
       "      <td>161.800003</td>\n",
       "      <td>163.759995</td>\n",
       "      <td>51511700</td>\n",
       "      <td>0.0</td>\n",
       "      <td>0.0</td>\n",
       "    </tr>\n",
       "    <tr>\n",
       "      <th>2023-04-06 00:00:00-04:00</th>\n",
       "      <td>162.429993</td>\n",
       "      <td>164.960007</td>\n",
       "      <td>162.000000</td>\n",
       "      <td>164.660004</td>\n",
       "      <td>45390100</td>\n",
       "      <td>0.0</td>\n",
       "      <td>0.0</td>\n",
       "    </tr>\n",
       "  </tbody>\n",
       "</table>\n",
       "</div>"
      ],
      "text/plain": [
       "                                 Open        High  ...  Dividends  Stock Splits\n",
       "Date                                               ...                         \n",
       "2023-04-04 00:00:00-04:00  166.600006  166.839996  ...        0.0           0.0\n",
       "2023-04-05 00:00:00-04:00  164.740005  165.050003  ...        0.0           0.0\n",
       "2023-04-06 00:00:00-04:00  162.429993  164.960007  ...        0.0           0.0\n",
       "\n",
       "[3 rows x 7 columns]"
      ]
     },
     "execution_count": 356,
     "metadata": {},
     "output_type": "execute_result"
    }
   ],
   "source": [
    "AAPL = yf.Ticker(\"AAPL\").history(period=\"5y\")\n",
    "AAPL.tail(3)"
   ]
  },
  {
   "cell_type": "code",
   "execution_count": 365,
   "id": "cd87b526",
   "metadata": {},
   "outputs": [],
   "source": [
    "class DCA(Strategy):\n",
    "    amt_to_invest = 10000\n",
    "\n",
    "    def init(self):\n",
    "        self.day_of_week = self.I(\n",
    "            lambda x: x, self.data.Close.s.index.dayofweek,\n",
    "            plot=True\n",
    "        )\n",
    "\n",
    "    def next(self):\n",
    "        if self.day_of_week[-1] == 1:  # every tuesday\n",
    "            self.buy(size=math.floor(\n",
    "                self.amt_to_invest/self.data.Close[-1]))"
   ]
  },
  {
   "cell_type": "code",
   "execution_count": 366,
   "id": "f313fa9e",
   "metadata": {},
   "outputs": [],
   "source": [
    "bt = Backtest(\n",
    "    AAPL,\n",
    "    DCA,\n",
    "    cash=1_000_000\n",
    ")\n",
    "stats = bt.run()"
   ]
  },
  {
   "cell_type": "code",
   "execution_count": 379,
   "id": "fd137e1b",
   "metadata": {},
   "outputs": [],
   "source": [
    "# stats.to_frame()"
   ]
  },
  {
   "cell_type": "code",
   "execution_count": 369,
   "id": "d1adc697",
   "metadata": {},
   "outputs": [
    {
     "name": "stderr",
     "output_type": "stream",
     "text": [
      "/Users/lusong/miniconda3/envs/m1quant/lib/python3.10/site-packages/backtesting/_plotting.py:250: UserWarning: DatetimeFormatter scales now only accept a single format. Using the first provided: '%d %b'\n",
      "  formatter=DatetimeTickFormatter(days=['%d %b', '%a %d'],\n",
      "/Users/lusong/miniconda3/envs/m1quant/lib/python3.10/site-packages/backtesting/_plotting.py:250: UserWarning: DatetimeFormatter scales now only accept a single format. Using the first provided: '%m/%Y'\n",
      "  formatter=DatetimeTickFormatter(days=['%d %b', '%a %d'],\n"
     ]
    },
    {
     "data": {
      "text/html": [
       "<div style=\"display: table;\"><div style=\"display: table-row;\"><div style=\"display: table-cell;\"><b title=\"bokeh.models.plots.GridPlot\">GridPlot</b>(</div><div style=\"display: table-cell;\">id&nbsp;=&nbsp;'p49188', <span id=\"p49735\" style=\"cursor: pointer;\">&hellip;)</span></div></div><div class=\"p49734\" style=\"display: none;\"><div style=\"display: table-cell;\"></div><div style=\"display: table-cell;\">align&nbsp;=&nbsp;'auto',</div></div><div class=\"p49734\" style=\"display: none;\"><div style=\"display: table-cell;\"></div><div style=\"display: table-cell;\">aspect_ratio&nbsp;=&nbsp;None,</div></div><div class=\"p49734\" style=\"display: none;\"><div style=\"display: table-cell;\"></div><div style=\"display: table-cell;\">children&nbsp;=&nbsp;[(figure(id='p48685', ...), 0, 0), (figure(id='p48798', ...), 1, 0), (figure(id='p48626', ...), 2, 0), (figure(id='p48870', ...), 3, 0), (figure(id='p48982', ...), 4, 0)],</div></div><div class=\"p49734\" style=\"display: none;\"><div style=\"display: table-cell;\"></div><div style=\"display: table-cell;\">cols&nbsp;=&nbsp;None,</div></div><div class=\"p49734\" style=\"display: none;\"><div style=\"display: table-cell;\"></div><div style=\"display: table-cell;\">context_menu&nbsp;=&nbsp;None,</div></div><div class=\"p49734\" style=\"display: none;\"><div style=\"display: table-cell;\"></div><div style=\"display: table-cell;\">css_classes&nbsp;=&nbsp;[],</div></div><div class=\"p49734\" style=\"display: none;\"><div style=\"display: table-cell;\"></div><div style=\"display: table-cell;\">disabled&nbsp;=&nbsp;False,</div></div><div class=\"p49734\" style=\"display: none;\"><div style=\"display: table-cell;\"></div><div style=\"display: table-cell;\">flow_mode&nbsp;=&nbsp;'block',</div></div><div class=\"p49734\" style=\"display: none;\"><div style=\"display: table-cell;\"></div><div style=\"display: table-cell;\">height&nbsp;=&nbsp;None,</div></div><div class=\"p49734\" style=\"display: none;\"><div style=\"display: table-cell;\"></div><div style=\"display: table-cell;\">height_policy&nbsp;=&nbsp;'auto',</div></div><div class=\"p49734\" style=\"display: none;\"><div style=\"display: table-cell;\"></div><div style=\"display: table-cell;\">js_event_callbacks&nbsp;=&nbsp;{},</div></div><div class=\"p49734\" style=\"display: none;\"><div style=\"display: table-cell;\"></div><div style=\"display: table-cell;\">js_property_callbacks&nbsp;=&nbsp;{},</div></div><div class=\"p49734\" style=\"display: none;\"><div style=\"display: table-cell;\"></div><div style=\"display: table-cell;\">margin&nbsp;=&nbsp;None,</div></div><div class=\"p49734\" style=\"display: none;\"><div style=\"display: table-cell;\"></div><div style=\"display: table-cell;\">max_height&nbsp;=&nbsp;None,</div></div><div class=\"p49734\" style=\"display: none;\"><div style=\"display: table-cell;\"></div><div style=\"display: table-cell;\">max_width&nbsp;=&nbsp;None,</div></div><div class=\"p49734\" style=\"display: none;\"><div style=\"display: table-cell;\"></div><div style=\"display: table-cell;\">min_height&nbsp;=&nbsp;None,</div></div><div class=\"p49734\" style=\"display: none;\"><div style=\"display: table-cell;\"></div><div style=\"display: table-cell;\">min_width&nbsp;=&nbsp;None,</div></div><div class=\"p49734\" style=\"display: none;\"><div style=\"display: table-cell;\"></div><div style=\"display: table-cell;\">name&nbsp;=&nbsp;None,</div></div><div class=\"p49734\" style=\"display: none;\"><div style=\"display: table-cell;\"></div><div style=\"display: table-cell;\">resizable&nbsp;=&nbsp;False,</div></div><div class=\"p49734\" style=\"display: none;\"><div style=\"display: table-cell;\"></div><div style=\"display: table-cell;\">rows&nbsp;=&nbsp;None,</div></div><div class=\"p49734\" style=\"display: none;\"><div style=\"display: table-cell;\"></div><div style=\"display: table-cell;\">sizing_mode&nbsp;=&nbsp;'stretch_width',</div></div><div class=\"p49734\" style=\"display: none;\"><div style=\"display: table-cell;\"></div><div style=\"display: table-cell;\">spacing&nbsp;=&nbsp;0,</div></div><div class=\"p49734\" style=\"display: none;\"><div style=\"display: table-cell;\"></div><div style=\"display: table-cell;\">styles&nbsp;=&nbsp;{},</div></div><div class=\"p49734\" style=\"display: none;\"><div style=\"display: table-cell;\"></div><div style=\"display: table-cell;\">stylesheets&nbsp;=&nbsp;[],</div></div><div class=\"p49734\" style=\"display: none;\"><div style=\"display: table-cell;\"></div><div style=\"display: table-cell;\">subscribed_events&nbsp;=&nbsp;PropertyValueSet(),</div></div><div class=\"p49734\" style=\"display: none;\"><div style=\"display: table-cell;\"></div><div style=\"display: table-cell;\">syncable&nbsp;=&nbsp;True,</div></div><div class=\"p49734\" style=\"display: none;\"><div style=\"display: table-cell;\"></div><div style=\"display: table-cell;\">tags&nbsp;=&nbsp;[],</div></div><div class=\"p49734\" style=\"display: none;\"><div style=\"display: table-cell;\"></div><div style=\"display: table-cell;\">toolbar&nbsp;=&nbsp;Toolbar(id='p49187', ...),</div></div><div class=\"p49734\" style=\"display: none;\"><div style=\"display: table-cell;\"></div><div style=\"display: table-cell;\">toolbar_location&nbsp;=&nbsp;'right',</div></div><div class=\"p49734\" style=\"display: none;\"><div style=\"display: table-cell;\"></div><div style=\"display: table-cell;\">visible&nbsp;=&nbsp;True,</div></div><div class=\"p49734\" style=\"display: none;\"><div style=\"display: table-cell;\"></div><div style=\"display: table-cell;\">width&nbsp;=&nbsp;None,</div></div><div class=\"p49734\" style=\"display: none;\"><div style=\"display: table-cell;\"></div><div style=\"display: table-cell;\">width_policy&nbsp;=&nbsp;'auto')</div></div></div>\n",
       "<script>\n",
       "(function() {\n",
       "  let expanded = false;\n",
       "  const ellipsis = document.getElementById(\"p49735\");\n",
       "  ellipsis.addEventListener(\"click\", function() {\n",
       "    const rows = document.getElementsByClassName(\"p49734\");\n",
       "    for (let i = 0; i < rows.length; i++) {\n",
       "      const el = rows[i];\n",
       "      el.style.display = expanded ? \"none\" : \"table-row\";\n",
       "    }\n",
       "    ellipsis.innerHTML = expanded ? \"&hellip;)\" : \"&lsaquo;&lsaquo;&lsaquo;\";\n",
       "    expanded = !expanded;\n",
       "  });\n",
       "})();\n",
       "</script>\n"
      ],
      "text/plain": [
       "GridPlot(id='p49188', ...)"
      ]
     },
     "execution_count": 369,
     "metadata": {},
     "output_type": "execute_result"
    }
   ],
   "source": [
    "bt.plot(filename=os.path.join('plots',\n",
    "                              'DCA.html'))"
   ]
  },
  {
   "cell_type": "code",
   "execution_count": 371,
   "id": "1bdf87c6",
   "metadata": {},
   "outputs": [],
   "source": [
    "trades = stats['_trades']"
   ]
  },
  {
   "cell_type": "code",
   "execution_count": 374,
   "id": "393f0b73",
   "metadata": {},
   "outputs": [],
   "source": [
    "price_paid = trades['Size']*trades['EntryPrice']\n",
    "total_invested = price_paid.sum()"
   ]
  },
  {
   "cell_type": "code",
   "execution_count": 375,
   "id": "3cead6a9",
   "metadata": {},
   "outputs": [
    {
     "data": {
      "text/plain": [
       "990800.0922727807"
      ]
     },
     "execution_count": 375,
     "metadata": {},
     "output_type": "execute_result"
    }
   ],
   "source": [
    "total_invested"
   ]
  },
  {
   "cell_type": "code",
   "execution_count": 377,
   "id": "2a725eb9",
   "metadata": {},
   "outputs": [],
   "source": [
    "current_shares = trades['Size'].sum()\n",
    "current_equity = current_shares*AAPL.Close.iloc[-1]"
   ]
  },
  {
   "cell_type": "code",
   "execution_count": 378,
   "id": "f7f1e519",
   "metadata": {},
   "outputs": [
    {
     "data": {
      "text/plain": [
       "3254998.952392578"
      ]
     },
     "execution_count": 378,
     "metadata": {},
     "output_type": "execute_result"
    }
   ],
   "source": [
    "current_equity"
   ]
  },
  {
   "cell_type": "markdown",
   "id": "83a53916",
   "metadata": {},
   "source": [
    "# Custom Indicators In Backtesting.py"
   ]
  },
  {
   "cell_type": "code",
   "execution_count": 387,
   "id": "e356f782",
   "metadata": {},
   "outputs": [
    {
     "data": {
      "text/html": [
       "<div>\n",
       "<style scoped>\n",
       "    .dataframe tbody tr th:only-of-type {\n",
       "        vertical-align: middle;\n",
       "    }\n",
       "\n",
       "    .dataframe tbody tr th {\n",
       "        vertical-align: top;\n",
       "    }\n",
       "\n",
       "    .dataframe thead th {\n",
       "        text-align: right;\n",
       "    }\n",
       "</style>\n",
       "<table border=\"1\" class=\"dataframe\">\n",
       "  <thead>\n",
       "    <tr style=\"text-align: right;\">\n",
       "      <th></th>\n",
       "      <th>Open</th>\n",
       "      <th>High</th>\n",
       "      <th>Low</th>\n",
       "      <th>Close</th>\n",
       "      <th>Volume</th>\n",
       "      <th>Dividends</th>\n",
       "      <th>Stock Splits</th>\n",
       "    </tr>\n",
       "    <tr>\n",
       "      <th>Date</th>\n",
       "      <th></th>\n",
       "      <th></th>\n",
       "      <th></th>\n",
       "      <th></th>\n",
       "      <th></th>\n",
       "      <th></th>\n",
       "      <th></th>\n",
       "    </tr>\n",
       "  </thead>\n",
       "  <tbody>\n",
       "    <tr>\n",
       "      <th>2023-04-04 00:00:00-04:00</th>\n",
       "      <td>166.600006</td>\n",
       "      <td>166.839996</td>\n",
       "      <td>165.110001</td>\n",
       "      <td>165.630005</td>\n",
       "      <td>46278300</td>\n",
       "      <td>0.0</td>\n",
       "      <td>0.0</td>\n",
       "    </tr>\n",
       "    <tr>\n",
       "      <th>2023-04-05 00:00:00-04:00</th>\n",
       "      <td>164.740005</td>\n",
       "      <td>165.050003</td>\n",
       "      <td>161.800003</td>\n",
       "      <td>163.759995</td>\n",
       "      <td>51511700</td>\n",
       "      <td>0.0</td>\n",
       "      <td>0.0</td>\n",
       "    </tr>\n",
       "    <tr>\n",
       "      <th>2023-04-06 00:00:00-04:00</th>\n",
       "      <td>162.429993</td>\n",
       "      <td>164.960007</td>\n",
       "      <td>162.000000</td>\n",
       "      <td>164.660004</td>\n",
       "      <td>45390100</td>\n",
       "      <td>0.0</td>\n",
       "      <td>0.0</td>\n",
       "    </tr>\n",
       "  </tbody>\n",
       "</table>\n",
       "</div>"
      ],
      "text/plain": [
       "                                 Open        High  ...  Dividends  Stock Splits\n",
       "Date                                               ...                         \n",
       "2023-04-04 00:00:00-04:00  166.600006  166.839996  ...        0.0           0.0\n",
       "2023-04-05 00:00:00-04:00  164.740005  165.050003  ...        0.0           0.0\n",
       "2023-04-06 00:00:00-04:00  162.429993  164.960007  ...        0.0           0.0\n",
       "\n",
       "[3 rows x 7 columns]"
      ]
     },
     "execution_count": 387,
     "metadata": {},
     "output_type": "execute_result"
    }
   ],
   "source": [
    "AAPL = yf.Ticker(\"AAPL\").history(period=\"5y\")\n",
    "AAPL.tail(3)"
   ]
  },
  {
   "cell_type": "markdown",
   "id": "4c4aaab2",
   "metadata": {},
   "source": [
    "## Random Singnal"
   ]
  },
  {
   "cell_type": "code",
   "execution_count": 405,
   "id": "6a691034",
   "metadata": {},
   "outputs": [],
   "source": [
    "# random signal\n",
    "# if we have a fancy machine learning model generated signal\n",
    "# we can incorporate here\n",
    "AAPL['Signal'] = np.random.randint(-1, 2, len(AAPL))"
   ]
  },
  {
   "cell_type": "code",
   "execution_count": 406,
   "id": "edd00ad1",
   "metadata": {},
   "outputs": [],
   "source": [
    "class SignalStrategy(Strategy):\n",
    "    \n",
    "    def init(self):\n",
    "        pass\n",
    "\n",
    "    def next(self):\n",
    "        current_signal = self.data.Signal[-1]\n",
    "        if current_signal==1:\n",
    "            if not self.position.is_long:\n",
    "                self.buy()\n",
    "        elif current_signal== -1:\n",
    "            if self.position:\n",
    "                self.position.close()"
   ]
  },
  {
   "cell_type": "code",
   "execution_count": 407,
   "id": "fba7af3c",
   "metadata": {},
   "outputs": [],
   "source": [
    "bt = Backtest(\n",
    "    AAPL,\n",
    "    SignalStrategy,\n",
    "    cash=10_000\n",
    ")\n",
    "stats = bt.run()"
   ]
  },
  {
   "cell_type": "code",
   "execution_count": 408,
   "id": "3e67a438",
   "metadata": {},
   "outputs": [],
   "source": [
    "# stats.to_frame()"
   ]
  },
  {
   "cell_type": "code",
   "execution_count": 409,
   "id": "356b85a9",
   "metadata": {},
   "outputs": [
    {
     "name": "stderr",
     "output_type": "stream",
     "text": [
      "/Users/lusong/miniconda3/envs/m1quant/lib/python3.10/site-packages/backtesting/_plotting.py:250: UserWarning: DatetimeFormatter scales now only accept a single format. Using the first provided: '%d %b'\n",
      "  formatter=DatetimeTickFormatter(days=['%d %b', '%a %d'],\n",
      "/Users/lusong/miniconda3/envs/m1quant/lib/python3.10/site-packages/backtesting/_plotting.py:250: UserWarning: DatetimeFormatter scales now only accept a single format. Using the first provided: '%m/%Y'\n",
      "  formatter=DatetimeTickFormatter(days=['%d %b', '%a %d'],\n"
     ]
    },
    {
     "data": {
      "text/html": [
       "<div style=\"display: table;\"><div style=\"display: table-row;\"><div style=\"display: table-cell;\"><b title=\"bokeh.models.plots.GridPlot\">GridPlot</b>(</div><div style=\"display: table-cell;\">id&nbsp;=&nbsp;'p51332', <span id=\"p51815\" style=\"cursor: pointer;\">&hellip;)</span></div></div><div class=\"p51814\" style=\"display: none;\"><div style=\"display: table-cell;\"></div><div style=\"display: table-cell;\">align&nbsp;=&nbsp;'auto',</div></div><div class=\"p51814\" style=\"display: none;\"><div style=\"display: table-cell;\"></div><div style=\"display: table-cell;\">aspect_ratio&nbsp;=&nbsp;None,</div></div><div class=\"p51814\" style=\"display: none;\"><div style=\"display: table-cell;\"></div><div style=\"display: table-cell;\">children&nbsp;=&nbsp;[(figure(id='p50907', ...), 0, 0), (figure(id='p51020', ...), 1, 0), (figure(id='p50848', ...), 2, 0), (figure(id='p51092', ...), 3, 0)],</div></div><div class=\"p51814\" style=\"display: none;\"><div style=\"display: table-cell;\"></div><div style=\"display: table-cell;\">cols&nbsp;=&nbsp;None,</div></div><div class=\"p51814\" style=\"display: none;\"><div style=\"display: table-cell;\"></div><div style=\"display: table-cell;\">context_menu&nbsp;=&nbsp;None,</div></div><div class=\"p51814\" style=\"display: none;\"><div style=\"display: table-cell;\"></div><div style=\"display: table-cell;\">css_classes&nbsp;=&nbsp;[],</div></div><div class=\"p51814\" style=\"display: none;\"><div style=\"display: table-cell;\"></div><div style=\"display: table-cell;\">disabled&nbsp;=&nbsp;False,</div></div><div class=\"p51814\" style=\"display: none;\"><div style=\"display: table-cell;\"></div><div style=\"display: table-cell;\">flow_mode&nbsp;=&nbsp;'block',</div></div><div class=\"p51814\" style=\"display: none;\"><div style=\"display: table-cell;\"></div><div style=\"display: table-cell;\">height&nbsp;=&nbsp;None,</div></div><div class=\"p51814\" style=\"display: none;\"><div style=\"display: table-cell;\"></div><div style=\"display: table-cell;\">height_policy&nbsp;=&nbsp;'auto',</div></div><div class=\"p51814\" style=\"display: none;\"><div style=\"display: table-cell;\"></div><div style=\"display: table-cell;\">js_event_callbacks&nbsp;=&nbsp;{},</div></div><div class=\"p51814\" style=\"display: none;\"><div style=\"display: table-cell;\"></div><div style=\"display: table-cell;\">js_property_callbacks&nbsp;=&nbsp;{},</div></div><div class=\"p51814\" style=\"display: none;\"><div style=\"display: table-cell;\"></div><div style=\"display: table-cell;\">margin&nbsp;=&nbsp;None,</div></div><div class=\"p51814\" style=\"display: none;\"><div style=\"display: table-cell;\"></div><div style=\"display: table-cell;\">max_height&nbsp;=&nbsp;None,</div></div><div class=\"p51814\" style=\"display: none;\"><div style=\"display: table-cell;\"></div><div style=\"display: table-cell;\">max_width&nbsp;=&nbsp;None,</div></div><div class=\"p51814\" style=\"display: none;\"><div style=\"display: table-cell;\"></div><div style=\"display: table-cell;\">min_height&nbsp;=&nbsp;None,</div></div><div class=\"p51814\" style=\"display: none;\"><div style=\"display: table-cell;\"></div><div style=\"display: table-cell;\">min_width&nbsp;=&nbsp;None,</div></div><div class=\"p51814\" style=\"display: none;\"><div style=\"display: table-cell;\"></div><div style=\"display: table-cell;\">name&nbsp;=&nbsp;None,</div></div><div class=\"p51814\" style=\"display: none;\"><div style=\"display: table-cell;\"></div><div style=\"display: table-cell;\">resizable&nbsp;=&nbsp;False,</div></div><div class=\"p51814\" style=\"display: none;\"><div style=\"display: table-cell;\"></div><div style=\"display: table-cell;\">rows&nbsp;=&nbsp;None,</div></div><div class=\"p51814\" style=\"display: none;\"><div style=\"display: table-cell;\"></div><div style=\"display: table-cell;\">sizing_mode&nbsp;=&nbsp;'stretch_width',</div></div><div class=\"p51814\" style=\"display: none;\"><div style=\"display: table-cell;\"></div><div style=\"display: table-cell;\">spacing&nbsp;=&nbsp;0,</div></div><div class=\"p51814\" style=\"display: none;\"><div style=\"display: table-cell;\"></div><div style=\"display: table-cell;\">styles&nbsp;=&nbsp;{},</div></div><div class=\"p51814\" style=\"display: none;\"><div style=\"display: table-cell;\"></div><div style=\"display: table-cell;\">stylesheets&nbsp;=&nbsp;[],</div></div><div class=\"p51814\" style=\"display: none;\"><div style=\"display: table-cell;\"></div><div style=\"display: table-cell;\">subscribed_events&nbsp;=&nbsp;PropertyValueSet(),</div></div><div class=\"p51814\" style=\"display: none;\"><div style=\"display: table-cell;\"></div><div style=\"display: table-cell;\">syncable&nbsp;=&nbsp;True,</div></div><div class=\"p51814\" style=\"display: none;\"><div style=\"display: table-cell;\"></div><div style=\"display: table-cell;\">tags&nbsp;=&nbsp;[],</div></div><div class=\"p51814\" style=\"display: none;\"><div style=\"display: table-cell;\"></div><div style=\"display: table-cell;\">toolbar&nbsp;=&nbsp;Toolbar(id='p51331', ...),</div></div><div class=\"p51814\" style=\"display: none;\"><div style=\"display: table-cell;\"></div><div style=\"display: table-cell;\">toolbar_location&nbsp;=&nbsp;'right',</div></div><div class=\"p51814\" style=\"display: none;\"><div style=\"display: table-cell;\"></div><div style=\"display: table-cell;\">visible&nbsp;=&nbsp;True,</div></div><div class=\"p51814\" style=\"display: none;\"><div style=\"display: table-cell;\"></div><div style=\"display: table-cell;\">width&nbsp;=&nbsp;None,</div></div><div class=\"p51814\" style=\"display: none;\"><div style=\"display: table-cell;\"></div><div style=\"display: table-cell;\">width_policy&nbsp;=&nbsp;'auto')</div></div></div>\n",
       "<script>\n",
       "(function() {\n",
       "  let expanded = false;\n",
       "  const ellipsis = document.getElementById(\"p51815\");\n",
       "  ellipsis.addEventListener(\"click\", function() {\n",
       "    const rows = document.getElementsByClassName(\"p51814\");\n",
       "    for (let i = 0; i < rows.length; i++) {\n",
       "      const el = rows[i];\n",
       "      el.style.display = expanded ? \"none\" : \"table-row\";\n",
       "    }\n",
       "    ellipsis.innerHTML = expanded ? \"&hellip;)\" : \"&lsaquo;&lsaquo;&lsaquo;\";\n",
       "    expanded = !expanded;\n",
       "  });\n",
       "})();\n",
       "</script>\n"
      ],
      "text/plain": [
       "GridPlot(id='p51332', ...)"
      ]
     },
     "execution_count": 409,
     "metadata": {},
     "output_type": "execute_result"
    }
   ],
   "source": [
    "bt.plot(filename=os.path.join('plots',\n",
    "                              'SignalStrategy.html'))"
   ]
  },
  {
   "cell_type": "markdown",
   "id": "49aed3d6",
   "metadata": {},
   "source": [
    "## Signal built with Bollinger Bands\n",
    "* not a good strategy here\n",
    "* `indicator` 在 `self.I` 里面运行时，`self.data.Close.s` 是必须的，转化成series\n",
    "* `indicator` 在 `self.data.Close` 上单独运行不需要`.s`"
   ]
  },
  {
   "cell_type": "code",
   "execution_count": 560,
   "id": "43c316b0",
   "metadata": {},
   "outputs": [],
   "source": [
    "def indicator_bollinger(data):\n",
    "    # Data - OHLCV\n",
    "\n",
    "    bbands = pdta.bbands(\n",
    "        close=data.Close.s,\n",
    "        std=1\n",
    "    )\n",
    "    \n",
    "    return bbands.T.to_numpy()\n",
    "    \n",
    "#     bbands = talib.BBANDS(\n",
    "#         data.Close,\n",
    "#         timeperiod=5,\n",
    "#         nbdevup=1,\n",
    "#         nbdevdn=1,\n",
    "#         matype=0\n",
    "#     )\n",
    "#     return bbands"
   ]
  },
  {
   "cell_type": "code",
   "execution_count": 561,
   "id": "24fccbe7",
   "metadata": {},
   "outputs": [],
   "source": [
    "class BBStrategy(Strategy):\n",
    "    def init(self):\n",
    "        self.bbands = self.I(\n",
    "            indicator_bollinger,\n",
    "            self.data\n",
    "        )\n",
    "\n",
    "    def next(self):\n",
    "#         upper_band = self.bbands[0]\n",
    "#         lower_band = self.bbands[2]\n",
    "        \n",
    "        upper_band = self.bbands[2]\n",
    "        lower_band = self.bbands[0]\n",
    "\n",
    "        if self.position:\n",
    "            if self.data.Close[-1] > upper_band[-1]:\n",
    "                self.position.close()\n",
    "        else:\n",
    "            if self.data.Close[-1] < lower_band[-1]:\n",
    "                self.buy()"
   ]
  },
  {
   "cell_type": "code",
   "execution_count": 562,
   "id": "e065be01",
   "metadata": {},
   "outputs": [],
   "source": [
    "bt = Backtest(\n",
    "    AAPL,\n",
    "    BBStrategy,\n",
    "    cash=10_000\n",
    ")\n",
    "stats = bt.run()"
   ]
  },
  {
   "cell_type": "code",
   "execution_count": 564,
   "id": "e6022435",
   "metadata": {},
   "outputs": [],
   "source": [
    "# stats.to_frame()"
   ]
  },
  {
   "cell_type": "code",
   "execution_count": 565,
   "id": "d3921291",
   "metadata": {},
   "outputs": [
    {
     "name": "stderr",
     "output_type": "stream",
     "text": [
      "/Users/lusong/miniconda3/envs/m1quant/lib/python3.10/site-packages/backtesting/_plotting.py:250: UserWarning: DatetimeFormatter scales now only accept a single format. Using the first provided: '%d %b'\n",
      "  formatter=DatetimeTickFormatter(days=['%d %b', '%a %d'],\n",
      "/Users/lusong/miniconda3/envs/m1quant/lib/python3.10/site-packages/backtesting/_plotting.py:250: UserWarning: DatetimeFormatter scales now only accept a single format. Using the first provided: '%m/%Y'\n",
      "  formatter=DatetimeTickFormatter(days=['%d %b', '%a %d'],\n"
     ]
    },
    {
     "data": {
      "text/html": [
       "<div style=\"display: table;\"><div style=\"display: table-row;\"><div style=\"display: table-cell;\"><b title=\"bokeh.models.plots.GridPlot\">GridPlot</b>(</div><div style=\"display: table-cell;\">id&nbsp;=&nbsp;'p61117', <span id=\"p61740\" style=\"cursor: pointer;\">&hellip;)</span></div></div><div class=\"p61739\" style=\"display: none;\"><div style=\"display: table-cell;\"></div><div style=\"display: table-cell;\">align&nbsp;=&nbsp;'auto',</div></div><div class=\"p61739\" style=\"display: none;\"><div style=\"display: table-cell;\"></div><div style=\"display: table-cell;\">aspect_ratio&nbsp;=&nbsp;None,</div></div><div class=\"p61739\" style=\"display: none;\"><div style=\"display: table-cell;\"></div><div style=\"display: table-cell;\">children&nbsp;=&nbsp;[(figure(id='p60559', ...), 0, 0), (figure(id='p60672', ...), 1, 0), (figure(id='p60500', ...), 2, 0), (figure(id='p60744', ...), 3, 0), (figure(id='p60856', ...), 4, 0)],</div></div><div class=\"p61739\" style=\"display: none;\"><div style=\"display: table-cell;\"></div><div style=\"display: table-cell;\">cols&nbsp;=&nbsp;None,</div></div><div class=\"p61739\" style=\"display: none;\"><div style=\"display: table-cell;\"></div><div style=\"display: table-cell;\">context_menu&nbsp;=&nbsp;None,</div></div><div class=\"p61739\" style=\"display: none;\"><div style=\"display: table-cell;\"></div><div style=\"display: table-cell;\">css_classes&nbsp;=&nbsp;[],</div></div><div class=\"p61739\" style=\"display: none;\"><div style=\"display: table-cell;\"></div><div style=\"display: table-cell;\">disabled&nbsp;=&nbsp;False,</div></div><div class=\"p61739\" style=\"display: none;\"><div style=\"display: table-cell;\"></div><div style=\"display: table-cell;\">flow_mode&nbsp;=&nbsp;'block',</div></div><div class=\"p61739\" style=\"display: none;\"><div style=\"display: table-cell;\"></div><div style=\"display: table-cell;\">height&nbsp;=&nbsp;None,</div></div><div class=\"p61739\" style=\"display: none;\"><div style=\"display: table-cell;\"></div><div style=\"display: table-cell;\">height_policy&nbsp;=&nbsp;'auto',</div></div><div class=\"p61739\" style=\"display: none;\"><div style=\"display: table-cell;\"></div><div style=\"display: table-cell;\">js_event_callbacks&nbsp;=&nbsp;{},</div></div><div class=\"p61739\" style=\"display: none;\"><div style=\"display: table-cell;\"></div><div style=\"display: table-cell;\">js_property_callbacks&nbsp;=&nbsp;{},</div></div><div class=\"p61739\" style=\"display: none;\"><div style=\"display: table-cell;\"></div><div style=\"display: table-cell;\">margin&nbsp;=&nbsp;None,</div></div><div class=\"p61739\" style=\"display: none;\"><div style=\"display: table-cell;\"></div><div style=\"display: table-cell;\">max_height&nbsp;=&nbsp;None,</div></div><div class=\"p61739\" style=\"display: none;\"><div style=\"display: table-cell;\"></div><div style=\"display: table-cell;\">max_width&nbsp;=&nbsp;None,</div></div><div class=\"p61739\" style=\"display: none;\"><div style=\"display: table-cell;\"></div><div style=\"display: table-cell;\">min_height&nbsp;=&nbsp;None,</div></div><div class=\"p61739\" style=\"display: none;\"><div style=\"display: table-cell;\"></div><div style=\"display: table-cell;\">min_width&nbsp;=&nbsp;None,</div></div><div class=\"p61739\" style=\"display: none;\"><div style=\"display: table-cell;\"></div><div style=\"display: table-cell;\">name&nbsp;=&nbsp;None,</div></div><div class=\"p61739\" style=\"display: none;\"><div style=\"display: table-cell;\"></div><div style=\"display: table-cell;\">resizable&nbsp;=&nbsp;False,</div></div><div class=\"p61739\" style=\"display: none;\"><div style=\"display: table-cell;\"></div><div style=\"display: table-cell;\">rows&nbsp;=&nbsp;None,</div></div><div class=\"p61739\" style=\"display: none;\"><div style=\"display: table-cell;\"></div><div style=\"display: table-cell;\">sizing_mode&nbsp;=&nbsp;'stretch_width',</div></div><div class=\"p61739\" style=\"display: none;\"><div style=\"display: table-cell;\"></div><div style=\"display: table-cell;\">spacing&nbsp;=&nbsp;0,</div></div><div class=\"p61739\" style=\"display: none;\"><div style=\"display: table-cell;\"></div><div style=\"display: table-cell;\">styles&nbsp;=&nbsp;{},</div></div><div class=\"p61739\" style=\"display: none;\"><div style=\"display: table-cell;\"></div><div style=\"display: table-cell;\">stylesheets&nbsp;=&nbsp;[],</div></div><div class=\"p61739\" style=\"display: none;\"><div style=\"display: table-cell;\"></div><div style=\"display: table-cell;\">subscribed_events&nbsp;=&nbsp;PropertyValueSet(),</div></div><div class=\"p61739\" style=\"display: none;\"><div style=\"display: table-cell;\"></div><div style=\"display: table-cell;\">syncable&nbsp;=&nbsp;True,</div></div><div class=\"p61739\" style=\"display: none;\"><div style=\"display: table-cell;\"></div><div style=\"display: table-cell;\">tags&nbsp;=&nbsp;[],</div></div><div class=\"p61739\" style=\"display: none;\"><div style=\"display: table-cell;\"></div><div style=\"display: table-cell;\">toolbar&nbsp;=&nbsp;Toolbar(id='p61116', ...),</div></div><div class=\"p61739\" style=\"display: none;\"><div style=\"display: table-cell;\"></div><div style=\"display: table-cell;\">toolbar_location&nbsp;=&nbsp;'right',</div></div><div class=\"p61739\" style=\"display: none;\"><div style=\"display: table-cell;\"></div><div style=\"display: table-cell;\">visible&nbsp;=&nbsp;True,</div></div><div class=\"p61739\" style=\"display: none;\"><div style=\"display: table-cell;\"></div><div style=\"display: table-cell;\">width&nbsp;=&nbsp;None,</div></div><div class=\"p61739\" style=\"display: none;\"><div style=\"display: table-cell;\"></div><div style=\"display: table-cell;\">width_policy&nbsp;=&nbsp;'auto')</div></div></div>\n",
       "<script>\n",
       "(function() {\n",
       "  let expanded = false;\n",
       "  const ellipsis = document.getElementById(\"p61740\");\n",
       "  ellipsis.addEventListener(\"click\", function() {\n",
       "    const rows = document.getElementsByClassName(\"p61739\");\n",
       "    for (let i = 0; i < rows.length; i++) {\n",
       "      const el = rows[i];\n",
       "      el.style.display = expanded ? \"none\" : \"table-row\";\n",
       "    }\n",
       "    ellipsis.innerHTML = expanded ? \"&hellip;)\" : \"&lsaquo;&lsaquo;&lsaquo;\";\n",
       "    expanded = !expanded;\n",
       "  });\n",
       "})();\n",
       "</script>\n"
      ],
      "text/plain": [
       "GridPlot(id='p61117', ...)"
      ]
     },
     "execution_count": 565,
     "metadata": {},
     "output_type": "execute_result"
    }
   ],
   "source": [
    "bt.plot(filename=os.path.join('plots',\n",
    "                              'BBStrategy.html'))"
   ]
  },
  {
   "cell_type": "markdown",
   "id": "1cb6c96b",
   "metadata": {},
   "source": [
    "## Momentum strategy using pandas\n",
    "* 这个strategy不错，跟随趋势做"
   ]
  },
  {
   "cell_type": "code",
   "execution_count": 566,
   "id": "71e4a3f1",
   "metadata": {},
   "outputs": [],
   "source": [
    "def indicator_momentum(data):\n",
    "    # Data - OHLCV\n",
    "    return data.Close.s.pct_change(\n",
    "        periods = 7 # weekly change\n",
    "    )*100"
   ]
  },
  {
   "cell_type": "code",
   "execution_count": 555,
   "id": "9369c618",
   "metadata": {},
   "outputs": [],
   "source": [
    "# indicator_momentum(AAPL)"
   ]
  },
  {
   "cell_type": "code",
   "execution_count": 567,
   "id": "05343df1",
   "metadata": {},
   "outputs": [],
   "source": [
    "class MomentumStrategy(Strategy):\n",
    "    def init(self):\n",
    "        self.pct_change = self.I(\n",
    "            indicator_momentum,\n",
    "            self.data\n",
    "        )\n",
    "        print(self.pct_change)\n",
    "\n",
    "    def next(self):\n",
    "        change = self.pct_change[-1]\n",
    "        if self.position:\n",
    "            if change < -5:\n",
    "                self.position.close()\n",
    "        else:\n",
    "            if change > 5:\n",
    "                self.buy()"
   ]
  },
  {
   "cell_type": "code",
   "execution_count": 568,
   "id": "09f849eb",
   "metadata": {},
   "outputs": [
    {
     "name": "stdout",
     "output_type": "stream",
     "text": [
      "[       nan        nan        nan ... 3.35725734 3.46221618 4.4465652 ]\n"
     ]
    }
   ],
   "source": [
    "bt = Backtest(\n",
    "    AAPL,\n",
    "    MomentumStrategy,\n",
    "    cash=10_000\n",
    ")\n",
    "stats = bt.run()"
   ]
  },
  {
   "cell_type": "code",
   "execution_count": 570,
   "id": "63340671",
   "metadata": {},
   "outputs": [],
   "source": [
    "# stats.to_frame()"
   ]
  },
  {
   "cell_type": "code",
   "execution_count": 571,
   "id": "41cd429b",
   "metadata": {},
   "outputs": [
    {
     "name": "stderr",
     "output_type": "stream",
     "text": [
      "/Users/lusong/miniconda3/envs/m1quant/lib/python3.10/site-packages/backtesting/_plotting.py:250: UserWarning: DatetimeFormatter scales now only accept a single format. Using the first provided: '%d %b'\n",
      "  formatter=DatetimeTickFormatter(days=['%d %b', '%a %d'],\n",
      "/Users/lusong/miniconda3/envs/m1quant/lib/python3.10/site-packages/backtesting/_plotting.py:250: UserWarning: DatetimeFormatter scales now only accept a single format. Using the first provided: '%m/%Y'\n",
      "  formatter=DatetimeTickFormatter(days=['%d %b', '%a %d'],\n"
     ]
    },
    {
     "data": {
      "text/html": [
       "<div style=\"display: table;\"><div style=\"display: table-row;\"><div style=\"display: table-cell;\"><b title=\"bokeh.models.plots.GridPlot\">GridPlot</b>(</div><div style=\"display: table-cell;\">id&nbsp;=&nbsp;'p62304', <span id=\"p62851\" style=\"cursor: pointer;\">&hellip;)</span></div></div><div class=\"p62850\" style=\"display: none;\"><div style=\"display: table-cell;\"></div><div style=\"display: table-cell;\">align&nbsp;=&nbsp;'auto',</div></div><div class=\"p62850\" style=\"display: none;\"><div style=\"display: table-cell;\"></div><div style=\"display: table-cell;\">aspect_ratio&nbsp;=&nbsp;None,</div></div><div class=\"p62850\" style=\"display: none;\"><div style=\"display: table-cell;\"></div><div style=\"display: table-cell;\">children&nbsp;=&nbsp;[(figure(id='p61801', ...), 0, 0), (figure(id='p61914', ...), 1, 0), (figure(id='p61742', ...), 2, 0), (figure(id='p61986', ...), 3, 0), (figure(id='p62098', ...), 4, 0)],</div></div><div class=\"p62850\" style=\"display: none;\"><div style=\"display: table-cell;\"></div><div style=\"display: table-cell;\">cols&nbsp;=&nbsp;None,</div></div><div class=\"p62850\" style=\"display: none;\"><div style=\"display: table-cell;\"></div><div style=\"display: table-cell;\">context_menu&nbsp;=&nbsp;None,</div></div><div class=\"p62850\" style=\"display: none;\"><div style=\"display: table-cell;\"></div><div style=\"display: table-cell;\">css_classes&nbsp;=&nbsp;[],</div></div><div class=\"p62850\" style=\"display: none;\"><div style=\"display: table-cell;\"></div><div style=\"display: table-cell;\">disabled&nbsp;=&nbsp;False,</div></div><div class=\"p62850\" style=\"display: none;\"><div style=\"display: table-cell;\"></div><div style=\"display: table-cell;\">flow_mode&nbsp;=&nbsp;'block',</div></div><div class=\"p62850\" style=\"display: none;\"><div style=\"display: table-cell;\"></div><div style=\"display: table-cell;\">height&nbsp;=&nbsp;None,</div></div><div class=\"p62850\" style=\"display: none;\"><div style=\"display: table-cell;\"></div><div style=\"display: table-cell;\">height_policy&nbsp;=&nbsp;'auto',</div></div><div class=\"p62850\" style=\"display: none;\"><div style=\"display: table-cell;\"></div><div style=\"display: table-cell;\">js_event_callbacks&nbsp;=&nbsp;{},</div></div><div class=\"p62850\" style=\"display: none;\"><div style=\"display: table-cell;\"></div><div style=\"display: table-cell;\">js_property_callbacks&nbsp;=&nbsp;{},</div></div><div class=\"p62850\" style=\"display: none;\"><div style=\"display: table-cell;\"></div><div style=\"display: table-cell;\">margin&nbsp;=&nbsp;None,</div></div><div class=\"p62850\" style=\"display: none;\"><div style=\"display: table-cell;\"></div><div style=\"display: table-cell;\">max_height&nbsp;=&nbsp;None,</div></div><div class=\"p62850\" style=\"display: none;\"><div style=\"display: table-cell;\"></div><div style=\"display: table-cell;\">max_width&nbsp;=&nbsp;None,</div></div><div class=\"p62850\" style=\"display: none;\"><div style=\"display: table-cell;\"></div><div style=\"display: table-cell;\">min_height&nbsp;=&nbsp;None,</div></div><div class=\"p62850\" style=\"display: none;\"><div style=\"display: table-cell;\"></div><div style=\"display: table-cell;\">min_width&nbsp;=&nbsp;None,</div></div><div class=\"p62850\" style=\"display: none;\"><div style=\"display: table-cell;\"></div><div style=\"display: table-cell;\">name&nbsp;=&nbsp;None,</div></div><div class=\"p62850\" style=\"display: none;\"><div style=\"display: table-cell;\"></div><div style=\"display: table-cell;\">resizable&nbsp;=&nbsp;False,</div></div><div class=\"p62850\" style=\"display: none;\"><div style=\"display: table-cell;\"></div><div style=\"display: table-cell;\">rows&nbsp;=&nbsp;None,</div></div><div class=\"p62850\" style=\"display: none;\"><div style=\"display: table-cell;\"></div><div style=\"display: table-cell;\">sizing_mode&nbsp;=&nbsp;'stretch_width',</div></div><div class=\"p62850\" style=\"display: none;\"><div style=\"display: table-cell;\"></div><div style=\"display: table-cell;\">spacing&nbsp;=&nbsp;0,</div></div><div class=\"p62850\" style=\"display: none;\"><div style=\"display: table-cell;\"></div><div style=\"display: table-cell;\">styles&nbsp;=&nbsp;{},</div></div><div class=\"p62850\" style=\"display: none;\"><div style=\"display: table-cell;\"></div><div style=\"display: table-cell;\">stylesheets&nbsp;=&nbsp;[],</div></div><div class=\"p62850\" style=\"display: none;\"><div style=\"display: table-cell;\"></div><div style=\"display: table-cell;\">subscribed_events&nbsp;=&nbsp;PropertyValueSet(),</div></div><div class=\"p62850\" style=\"display: none;\"><div style=\"display: table-cell;\"></div><div style=\"display: table-cell;\">syncable&nbsp;=&nbsp;True,</div></div><div class=\"p62850\" style=\"display: none;\"><div style=\"display: table-cell;\"></div><div style=\"display: table-cell;\">tags&nbsp;=&nbsp;[],</div></div><div class=\"p62850\" style=\"display: none;\"><div style=\"display: table-cell;\"></div><div style=\"display: table-cell;\">toolbar&nbsp;=&nbsp;Toolbar(id='p62303', ...),</div></div><div class=\"p62850\" style=\"display: none;\"><div style=\"display: table-cell;\"></div><div style=\"display: table-cell;\">toolbar_location&nbsp;=&nbsp;'right',</div></div><div class=\"p62850\" style=\"display: none;\"><div style=\"display: table-cell;\"></div><div style=\"display: table-cell;\">visible&nbsp;=&nbsp;True,</div></div><div class=\"p62850\" style=\"display: none;\"><div style=\"display: table-cell;\"></div><div style=\"display: table-cell;\">width&nbsp;=&nbsp;None,</div></div><div class=\"p62850\" style=\"display: none;\"><div style=\"display: table-cell;\"></div><div style=\"display: table-cell;\">width_policy&nbsp;=&nbsp;'auto')</div></div></div>\n",
       "<script>\n",
       "(function() {\n",
       "  let expanded = false;\n",
       "  const ellipsis = document.getElementById(\"p62851\");\n",
       "  ellipsis.addEventListener(\"click\", function() {\n",
       "    const rows = document.getElementsByClassName(\"p62850\");\n",
       "    for (let i = 0; i < rows.length; i++) {\n",
       "      const el = rows[i];\n",
       "      el.style.display = expanded ? \"none\" : \"table-row\";\n",
       "    }\n",
       "    ellipsis.innerHTML = expanded ? \"&hellip;)\" : \"&lsaquo;&lsaquo;&lsaquo;\";\n",
       "    expanded = !expanded;\n",
       "  });\n",
       "})();\n",
       "</script>\n"
      ],
      "text/plain": [
       "GridPlot(id='p62304', ...)"
      ]
     },
     "execution_count": 571,
     "metadata": {},
     "output_type": "execute_result"
    }
   ],
   "source": [
    "bt.plot(filename=os.path.join('plots',\n",
    "                              'MomentumStrategy.html'))"
   ]
  },
  {
   "cell_type": "code",
   "execution_count": null,
   "id": "e1fc48ff",
   "metadata": {},
   "outputs": [],
   "source": []
  }
 ],
 "metadata": {
  "kernelspec": {
   "display_name": "m1quant",
   "language": "python",
   "name": "m1quant"
  },
  "language_info": {
   "codemirror_mode": {
    "name": "ipython",
    "version": 3
   },
   "file_extension": ".py",
   "mimetype": "text/x-python",
   "name": "python",
   "nbconvert_exporter": "python",
   "pygments_lexer": "ipython3",
   "version": "3.10.8"
  },
  "toc": {
   "base_numbering": 1,
   "nav_menu": {},
   "number_sections": true,
   "sideBar": true,
   "skip_h1_title": false,
   "title_cell": "Table of Contents",
   "title_sidebar": "Contents",
   "toc_cell": false,
   "toc_position": {
    "height": "calc(100% - 180px)",
    "left": "10px",
    "top": "150px",
    "width": "198px"
   },
   "toc_section_display": true,
   "toc_window_display": true
  },
  "vscode": {
   "interpreter": {
    "hash": "03744d8d02c767670497500397a3770dca36e860d91c3bc4c31ec56c1bbef3ee"
   }
  }
 },
 "nbformat": 4,
 "nbformat_minor": 5
}
